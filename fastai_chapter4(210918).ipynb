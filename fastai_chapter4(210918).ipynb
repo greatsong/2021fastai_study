{
  "nbformat": 4,
  "nbformat_minor": 0,
  "metadata": {
    "colab": {
      "name": "fastai_chapter4(210918).ipynb",
      "provenance": [],
      "collapsed_sections": [],
      "authorship_tag": "ABX9TyOnjjFFtZxj3H7yDslX/gcV",
      "include_colab_link": true
    },
    "kernelspec": {
      "name": "python3",
      "display_name": "Python 3"
    },
    "language_info": {
      "name": "python"
    },
    "accelerator": "GPU"
  },
  "cells": [
    {
      "cell_type": "markdown",
      "metadata": {
        "id": "view-in-github",
        "colab_type": "text"
      },
      "source": [
        "<a href=\"https://colab.research.google.com/github/greatsong/2021fastai_study/blob/main/fastai_chapter4(210918).ipynb\" target=\"_parent\"><img src=\"https://colab.research.google.com/assets/colab-badge.svg\" alt=\"Open In Colab\"/></a>"
      ]
    },
    {
      "cell_type": "code",
      "metadata": {
        "colab": {
          "base_uri": "https://localhost:8080/"
        },
        "id": "0O5eoUcod4t7",
        "outputId": "e5b78777-1197-4a25-d378-e02c174a8e8e"
      },
      "source": [
        "!pip install -Uqq fastbook"
      ],
      "execution_count": 1,
      "outputs": [
        {
          "output_type": "stream",
          "name": "stdout",
          "text": [
            "\u001b[K     |████████████████████████████████| 720 kB 5.7 MB/s \n",
            "\u001b[K     |████████████████████████████████| 46 kB 2.4 MB/s \n",
            "\u001b[K     |████████████████████████████████| 186 kB 37.2 MB/s \n",
            "\u001b[K     |████████████████████████████████| 1.2 MB 19.0 MB/s \n",
            "\u001b[K     |████████████████████████████████| 56 kB 2.5 MB/s \n",
            "\u001b[K     |████████████████████████████████| 51 kB 192 kB/s \n",
            "\u001b[?25h"
          ]
        }
      ]
    },
    {
      "cell_type": "code",
      "metadata": {
        "colab": {
          "base_uri": "https://localhost:8080/"
        },
        "id": "d8u1ZXRoeGHr",
        "outputId": "86fdb3f5-8797-47e1-e8ca-88ef1b0acc50"
      },
      "source": [
        "import fastbook\n",
        "fastbook.setup_book()"
      ],
      "execution_count": 2,
      "outputs": [
        {
          "output_type": "stream",
          "name": "stdout",
          "text": [
            "Mounted at /content/gdrive\n"
          ]
        }
      ]
    },
    {
      "cell_type": "code",
      "metadata": {
        "id": "wQjUqIuteIpO"
      },
      "source": [
        "from fastbook import *\n",
        "from fastai.vision.widgets import *"
      ],
      "execution_count": 3,
      "outputs": []
    },
    {
      "cell_type": "code",
      "metadata": {
        "colab": {
          "base_uri": "https://localhost:8080/",
          "height": 37
        },
        "id": "QweNJR3YeKSU",
        "outputId": "f767c93d-3b2e-45de-d259-e2603b59d24d"
      },
      "source": [
        "path = untar_data(URLs.MNIST_SAMPLE)"
      ],
      "execution_count": 4,
      "outputs": [
        {
          "output_type": "display_data",
          "data": {
            "text/html": [
              "\n",
              "    <div>\n",
              "        <style>\n",
              "            /* Turns off some styling */\n",
              "            progress {\n",
              "                /* gets rid of default border in Firefox and Opera. */\n",
              "                border: none;\n",
              "                /* Needs to be in here for Safari polyfill so background images work as expected. */\n",
              "                background-size: auto;\n",
              "            }\n",
              "            .progress-bar-interrupted, .progress-bar-interrupted::-webkit-progress-bar {\n",
              "                background: #F44336;\n",
              "            }\n",
              "        </style>\n",
              "      <progress value='3219456' class='' max='3214948' style='width:300px; height:20px; vertical-align: middle;'></progress>\n",
              "      100.14% [3219456/3214948 00:00<00:00]\n",
              "    </div>\n",
              "    "
            ],
            "text/plain": [
              "<IPython.core.display.HTML object>"
            ]
          },
          "metadata": {}
        }
      ]
    },
    {
      "cell_type": "code",
      "metadata": {
        "colab": {
          "base_uri": "https://localhost:8080/"
        },
        "id": "kvEunqV7eVwG",
        "outputId": "8c3b174d-6491-4d9d-877e-f4054edb0a6d"
      },
      "source": [
        "path.ls()"
      ],
      "execution_count": 5,
      "outputs": [
        {
          "output_type": "execute_result",
          "data": {
            "text/plain": [
              "(#3) [Path('/root/.fastai/data/mnist_sample/valid'),Path('/root/.fastai/data/mnist_sample/train'),Path('/root/.fastai/data/mnist_sample/labels.csv')]"
            ]
          },
          "metadata": {},
          "execution_count": 5
        }
      ]
    },
    {
      "cell_type": "code",
      "metadata": {
        "colab": {
          "base_uri": "https://localhost:8080/"
        },
        "id": "8K1oNBcgeW8Q",
        "outputId": "5c4141d8-dc61-4ba7-c7e4-571c1cf3b98a"
      },
      "source": [
        "ls"
      ],
      "execution_count": 6,
      "outputs": [
        {
          "output_type": "stream",
          "name": "stdout",
          "text": [
            "\u001b[0m\u001b[01;34mgdrive\u001b[0m/  \u001b[01;34msample_data\u001b[0m/\n"
          ]
        }
      ]
    },
    {
      "cell_type": "code",
      "metadata": {
        "colab": {
          "base_uri": "https://localhost:8080/"
        },
        "id": "yagNIttmOrmN",
        "outputId": "e9131cc8-4eb1-4604-9b18-157b508d7a23"
      },
      "source": [
        "(path/'train').ls()"
      ],
      "execution_count": 7,
      "outputs": [
        {
          "output_type": "execute_result",
          "data": {
            "text/plain": [
              "(#2) [Path('/root/.fastai/data/mnist_sample/train/7'),Path('/root/.fastai/data/mnist_sample/train/3')]"
            ]
          },
          "metadata": {},
          "execution_count": 7
        }
      ]
    },
    {
      "cell_type": "code",
      "metadata": {
        "id": "aJdhZ51OOwQL"
      },
      "source": [
        "threes = (path/'train'/'3').ls().sorted()\n",
        "sevens = (path/'train'/'7').ls().sorted()"
      ],
      "execution_count": 8,
      "outputs": []
    },
    {
      "cell_type": "code",
      "metadata": {
        "colab": {
          "base_uri": "https://localhost:8080/"
        },
        "id": "RdSEUjVIO-UO",
        "outputId": "e71f715a-169a-4e66-b3f6-6f1657e6f1dc"
      },
      "source": [
        "threes"
      ],
      "execution_count": 9,
      "outputs": [
        {
          "output_type": "execute_result",
          "data": {
            "text/plain": [
              "(#6131) [Path('/root/.fastai/data/mnist_sample/train/3/10.png'),Path('/root/.fastai/data/mnist_sample/train/3/10000.png'),Path('/root/.fastai/data/mnist_sample/train/3/10011.png'),Path('/root/.fastai/data/mnist_sample/train/3/10031.png'),Path('/root/.fastai/data/mnist_sample/train/3/10034.png'),Path('/root/.fastai/data/mnist_sample/train/3/10042.png'),Path('/root/.fastai/data/mnist_sample/train/3/10052.png'),Path('/root/.fastai/data/mnist_sample/train/3/1007.png'),Path('/root/.fastai/data/mnist_sample/train/3/10074.png'),Path('/root/.fastai/data/mnist_sample/train/3/10091.png')...]"
            ]
          },
          "metadata": {},
          "execution_count": 9
        }
      ]
    },
    {
      "cell_type": "code",
      "metadata": {
        "colab": {
          "base_uri": "https://localhost:8080/"
        },
        "id": "6jCgDDwYO_9K",
        "outputId": "3e67bb0d-6bc5-446c-9713-b837f8717e8c"
      },
      "source": [
        "sevens"
      ],
      "execution_count": 10,
      "outputs": [
        {
          "output_type": "execute_result",
          "data": {
            "text/plain": [
              "(#6265) [Path('/root/.fastai/data/mnist_sample/train/7/10002.png'),Path('/root/.fastai/data/mnist_sample/train/7/1001.png'),Path('/root/.fastai/data/mnist_sample/train/7/10014.png'),Path('/root/.fastai/data/mnist_sample/train/7/10019.png'),Path('/root/.fastai/data/mnist_sample/train/7/10039.png'),Path('/root/.fastai/data/mnist_sample/train/7/10046.png'),Path('/root/.fastai/data/mnist_sample/train/7/10050.png'),Path('/root/.fastai/data/mnist_sample/train/7/10063.png'),Path('/root/.fastai/data/mnist_sample/train/7/10077.png'),Path('/root/.fastai/data/mnist_sample/train/7/10086.png')...]"
            ]
          },
          "metadata": {},
          "execution_count": 10
        }
      ]
    },
    {
      "cell_type": "code",
      "metadata": {
        "colab": {
          "base_uri": "https://localhost:8080/",
          "height": 45
        },
        "id": "2C_EypZxPAZ5",
        "outputId": "d97f4422-4949-41b3-ab17-9da2af397f33"
      },
      "source": [
        "im3_path = threes[1]\n",
        "im3 = Image.open(im3_path)\n",
        "im3"
      ],
      "execution_count": 11,
      "outputs": [
        {
          "output_type": "execute_result",
          "data": {
            "image/png": "[encoded data removed]",
            "text/plain": [
              "<PIL.PngImagePlugin.PngImageFile image mode=L size=28x28 at 0x7F03FE6AAB50>"
            ]
          },
          "metadata": {},
          "execution_count": 11
        }
      ]
    },
    {
      "cell_type": "code",
      "metadata": {
        "colab": {
          "base_uri": "https://localhost:8080/"
        },
        "id": "mJdExoaNPK1b",
        "outputId": "e94e341c-126c-4ee0-af2e-6408d28c106b"
      },
      "source": [
        "array(im3)"
      ],
      "execution_count": 12,
      "outputs": [
        {
          "output_type": "execute_result",
          "data": {
            "text/plain": [
              "array([[  0,   0,   0,   0,   0,   0,   0,   0,   0,   0,   0,   0,   0,   0,   0,   0,   0,   0,   0,   0,   0,   0,   0,   0,   0,   0,   0,   0],\n",
              "       [  0,   0,   0,   0,   0,   0,   0,   0,   0,   0,   0,   0,   0,   0,   0,   0,   0,   0,   0,   0,   0,   0,   0,   0,   0,   0,   0,   0],\n",
              "       [  0,   0,   0,   0,   0,   0,   0,   0,   0,   0,   0,   0,   0,   0,   0,   0,   0,   0,   0,   0,   0,   0,   0,   0,   0,   0,   0,   0],\n",
              "       [  0,   0,   0,   0,   0,   0,   0,   0,   0,   0,   0,   0,   0,   0,   0,   0,   0,   0,   0,   0,   0,   0,   0,   0,   0,   0,   0,   0],\n",
              "       [  0,   0,   0,   0,   0,   0,   0,   0,   0,   0,   0,   0,   0,   0,   0,   0,   0,   0,   0,   0,   0,   0,   0,   0,   0,   0,   0,   0],\n",
              "       [  0,   0,   0,   0,   0,   0,   0,   0,   0,  29, 150, 195, 254, 255, 254, 176, 193, 150,  96,   0,   0,   0,   0,   0,   0,   0,   0,   0],\n",
              "       [  0,   0,   0,   0,   0,   0,   0,  48, 166, 224, 253, 253, 234, 196, 253, 253, 253, 253, 233,   0,   0,   0,   0,   0,   0,   0,   0,   0],\n",
              "       [  0,   0,   0,   0,   0,  93, 244, 249, 253, 187,  46,  10,   8,   4,  10, 194, 253, 253, 233,   0,   0,   0,   0,   0,   0,   0,   0,   0],\n",
              "       [  0,   0,   0,   0,   0, 107, 253, 253, 230,  48,   0,   0,   0,   0,   0, 192, 253, 253, 156,   0,   0,   0,   0,   0,   0,   0,   0,   0],\n",
              "       [  0,   0,   0,   0,   0,   3,  20,  20,  15,   0,   0,   0,   0,   0,  43, 224, 253, 245,  74,   0,   0,   0,   0,   0,   0,   0,   0,   0],\n",
              "       [  0,   0,   0,   0,   0,   0,   0,   0,   0,   0,   0,   0,   0,   0, 249, 253, 245, 126,   0,   0,   0,   0,   0,   0,   0,   0,   0,   0],\n",
              "       [  0,   0,   0,   0,   0,   0,   0,   0,   0,   0,   0,  14, 101, 223, 253, 248, 124,   0,   0,   0,   0,   0,   0,   0,   0,   0,   0,   0],\n",
              "       [  0,   0,   0,   0,   0,   0,   0,   0,   0,  11, 166, 239, 253, 253, 253, 187,  30,   0,   0,   0,   0,   0,   0,   0,   0,   0,   0,   0],\n",
              "       [  0,   0,   0,   0,   0,   0,   0,   0,   0,  16, 248, 250, 253, 253, 253, 253, 232, 213, 111,   2,   0,   0,   0,   0,   0,   0,   0,   0],\n",
              "       [  0,   0,   0,   0,   0,   0,   0,   0,   0,   0,   0,  43,  98,  98, 208, 253, 253, 253, 253, 187,  22,   0,   0,   0,   0,   0,   0,   0],\n",
              "       [  0,   0,   0,   0,   0,   0,   0,   0,   0,   0,   0,   0,   0,   0,   9,  51, 119, 253, 253, 253,  76,   0,   0,   0,   0,   0,   0,   0],\n",
              "       [  0,   0,   0,   0,   0,   0,   0,   0,   0,   0,   0,   0,   0,   0,   0,   0,   1, 183, 253, 253, 139,   0,   0,   0,   0,   0,   0,   0],\n",
              "       [  0,   0,   0,   0,   0,   0,   0,   0,   0,   0,   0,   0,   0,   0,   0,   0,   0, 182, 253, 253, 104,   0,   0,   0,   0,   0,   0,   0],\n",
              "       [  0,   0,   0,   0,   0,   0,   0,   0,   0,   0,   0,   0,   0,   0,   0,   0,  85, 249, 253, 253,  36,   0,   0,   0,   0,   0,   0,   0],\n",
              "       [  0,   0,   0,   0,   0,   0,   0,   0,   0,   0,   0,   0,   0,   0,   0,  60, 214, 253, 253, 173,  11,   0,   0,   0,   0,   0,   0,   0],\n",
              "       [  0,   0,   0,   0,   0,   0,   0,   0,   0,   0,   0,   0,   0,   0,  98, 247, 253, 253, 226,   9,   0,   0,   0,   0,   0,   0,   0,   0],\n",
              "       [  0,   0,   0,   0,   0,   0,   0,   0,   0,   0,   0,   0,  42, 150, 252, 253, 253, 233,  53,   0,   0,   0,   0,   0,   0,   0,   0,   0],\n",
              "       [  0,   0,   0,   0,   0,   0,  42, 115,  42,  60, 115, 159, 240, 253, 253, 250, 175,  25,   0,   0,   0,   0,   0,   0,   0,   0,   0,   0],\n",
              "       [  0,   0,   0,   0,   0,   0, 187, 253, 253, 253, 253, 253, 253, 253, 197,  86,   0,   0,   0,   0,   0,   0,   0,   0,   0,   0,   0,   0],\n",
              "       [  0,   0,   0,   0,   0,   0, 103, 253, 253, 253, 253, 253, 232,  67,   1,   0,   0,   0,   0,   0,   0,   0,   0,   0,   0,   0,   0,   0],\n",
              "       [  0,   0,   0,   0,   0,   0,   0,   0,   0,   0,   0,   0,   0,   0,   0,   0,   0,   0,   0,   0,   0,   0,   0,   0,   0,   0,   0,   0],\n",
              "       [  0,   0,   0,   0,   0,   0,   0,   0,   0,   0,   0,   0,   0,   0,   0,   0,   0,   0,   0,   0,   0,   0,   0,   0,   0,   0,   0,   0],\n",
              "       [  0,   0,   0,   0,   0,   0,   0,   0,   0,   0,   0,   0,   0,   0,   0,   0,   0,   0,   0,   0,   0,   0,   0,   0,   0,   0,   0,   0]], dtype=uint8)"
            ]
          },
          "metadata": {},
          "execution_count": 12
        }
      ]
    },
    {
      "cell_type": "code",
      "metadata": {
        "colab": {
          "base_uri": "https://localhost:8080/"
        },
        "id": "Bi6zWjBePUF8",
        "outputId": "81ee0b61-d74c-4dc3-bd81-57072c3f436d"
      },
      "source": [
        "array(im3)[4:10, 4:10]"
      ],
      "execution_count": 13,
      "outputs": [
        {
          "output_type": "execute_result",
          "data": {
            "text/plain": [
              "array([[  0,   0,   0,   0,   0,   0],\n",
              "       [  0,   0,   0,   0,   0,  29],\n",
              "       [  0,   0,   0,  48, 166, 224],\n",
              "       [  0,  93, 244, 249, 253, 187],\n",
              "       [  0, 107, 253, 253, 230,  48],\n",
              "       [  0,   3,  20,  20,  15,   0]], dtype=uint8)"
            ]
          },
          "metadata": {},
          "execution_count": 13
        }
      ]
    },
    {
      "cell_type": "code",
      "metadata": {
        "colab": {
          "base_uri": "https://localhost:8080/"
        },
        "id": "v8x5OM4pPXvh",
        "outputId": "c45e29a9-910f-44af-d942-b38357254def"
      },
      "source": [
        "tensor(im3)[4:10, 4:10]"
      ],
      "execution_count": 14,
      "outputs": [
        {
          "output_type": "execute_result",
          "data": {
            "text/plain": [
              "tensor([[  0,   0,   0,   0,   0,   0],\n",
              "        [  0,   0,   0,   0,   0,  29],\n",
              "        [  0,   0,   0,  48, 166, 224],\n",
              "        [  0,  93, 244, 249, 253, 187],\n",
              "        [  0, 107, 253, 253, 230,  48],\n",
              "        [  0,   3,  20,  20,  15,   0]], dtype=torch.uint8)"
            ]
          },
          "metadata": {},
          "execution_count": 14
        }
      ]
    },
    {
      "cell_type": "code",
      "metadata": {
        "colab": {
          "base_uri": "https://localhost:8080/",
          "height": 263
        },
        "id": "2qbzSU5sPfZY",
        "outputId": "c2bcbe76-d8ce-44a0-fdc4-2a501e19d96f"
      },
      "source": [
        "im3_t = tensor(im3)\n",
        "df = pd.DataFrame(im3_t[4:15, 4:22])\n",
        "df.style.set_properties(**{'font-size':'6pt'}).background_gradient('Greys')"
      ],
      "execution_count": 18,
      "outputs": [
        {
          "output_type": "execute_result",
          "data": {
            "text/html": [
              "<style  type=\"text/css\" >\n",
              "#T_500aabd2_188a_11ec_b231_0242ac1c0002row0_col0,#T_500aabd2_188a_11ec_b231_0242ac1c0002row0_col1,#T_500aabd2_188a_11ec_b231_0242ac1c0002row0_col2,#T_500aabd2_188a_11ec_b231_0242ac1c0002row0_col3,#T_500aabd2_188a_11ec_b231_0242ac1c0002row0_col4,#T_500aabd2_188a_11ec_b231_0242ac1c0002row0_col5,#T_500aabd2_188a_11ec_b231_0242ac1c0002row0_col6,#T_500aabd2_188a_11ec_b231_0242ac1c0002row0_col7,#T_500aabd2_188a_11ec_b231_0242ac1c0002row0_col8,#T_500aabd2_188a_11ec_b231_0242ac1c0002row0_col9,#T_500aabd2_188a_11ec_b231_0242ac1c0002row0_col10,#T_500aabd2_188a_11ec_b231_0242ac1c0002row0_col11,#T_500aabd2_188a_11ec_b231_0242ac1c0002row0_col12,#T_500aabd2_188a_11ec_b231_0242ac1c0002row0_col13,#T_500aabd2_188a_11ec_b231_0242ac1c0002row0_col14,#T_500aabd2_188a_11ec_b231_0242ac1c0002row0_col15,#T_500aabd2_188a_11ec_b231_0242ac1c0002row0_col16,#T_500aabd2_188a_11ec_b231_0242ac1c0002row0_col17,#T_500aabd2_188a_11ec_b231_0242ac1c0002row1_col0,#T_500aabd2_188a_11ec_b231_0242ac1c0002row1_col1,#T_500aabd2_188a_11ec_b231_0242ac1c0002row1_col2,#T_500aabd2_188a_11ec_b231_0242ac1c0002row1_col3,#T_500aabd2_188a_11ec_b231_0242ac1c0002row1_col4,#T_500aabd2_188a_11ec_b231_0242ac1c0002row1_col15,#T_500aabd2_188a_11ec_b231_0242ac1c0002row1_col16,#T_500aabd2_188a_11ec_b231_0242ac1c0002row1_col17,#T_500aabd2_188a_11ec_b231_0242ac1c0002row2_col0,#T_500aabd2_188a_11ec_b231_0242ac1c0002row2_col1,#T_500aabd2_188a_11ec_b231_0242ac1c0002row2_col2,#T_500aabd2_188a_11ec_b231_0242ac1c0002row2_col15,#T_500aabd2_188a_11ec_b231_0242ac1c0002row2_col16,#T_500aabd2_188a_11ec_b231_0242ac1c0002row2_col17,#T_500aabd2_188a_11ec_b231_0242ac1c0002row3_col0,#T_500aabd2_188a_11ec_b231_0242ac1c0002row3_col15,#T_500aabd2_188a_11ec_b231_0242ac1c0002row3_col16,#T_500aabd2_188a_11ec_b231_0242ac1c0002row3_col17,#T_500aabd2_188a_11ec_b231_0242ac1c0002row4_col0,#T_500aabd2_188a_11ec_b231_0242ac1c0002row4_col6,#T_500aabd2_188a_11ec_b231_0242ac1c0002row4_col7,#T_500aabd2_188a_11ec_b231_0242ac1c0002row4_col8,#T_500aabd2_188a_11ec_b231_0242ac1c0002row4_col9,#T_500aabd2_188a_11ec_b231_0242ac1c0002row4_col10,#T_500aabd2_188a_11ec_b231_0242ac1c0002row4_col15,#T_500aabd2_188a_11ec_b231_0242ac1c0002row4_col16,#T_500aabd2_188a_11ec_b231_0242ac1c0002row4_col17,#T_500aabd2_188a_11ec_b231_0242ac1c0002row5_col0,#T_500aabd2_188a_11ec_b231_0242ac1c0002row5_col5,#T_500aabd2_188a_11ec_b231_0242ac1c0002row5_col6,#T_500aabd2_188a_11ec_b231_0242ac1c0002row5_col7,#T_500aabd2_188a_11ec_b231_0242ac1c0002row5_col8,#T_500aabd2_188a_11ec_b231_0242ac1c0002row5_col9,#T_500aabd2_188a_11ec_b231_0242ac1c0002row5_col15,#T_500aabd2_188a_11ec_b231_0242ac1c0002row5_col16,#T_500aabd2_188a_11ec_b231_0242ac1c0002row5_col17,#T_500aabd2_188a_11ec_b231_0242ac1c0002row6_col0,#T_500aabd2_188a_11ec_b231_0242ac1c0002row6_col1,#T_500aabd2_188a_11ec_b231_0242ac1c0002row6_col2,#T_500aabd2_188a_11ec_b231_0242ac1c0002row6_col3,#T_500aabd2_188a_11ec_b231_0242ac1c0002row6_col4,#T_500aabd2_188a_11ec_b231_0242ac1c0002row6_col5,#T_500aabd2_188a_11ec_b231_0242ac1c0002row6_col6,#T_500aabd2_188a_11ec_b231_0242ac1c0002row6_col7,#T_500aabd2_188a_11ec_b231_0242ac1c0002row6_col8,#T_500aabd2_188a_11ec_b231_0242ac1c0002row6_col9,#T_500aabd2_188a_11ec_b231_0242ac1c0002row6_col14,#T_500aabd2_188a_11ec_b231_0242ac1c0002row6_col15,#T_500aabd2_188a_11ec_b231_0242ac1c0002row6_col16,#T_500aabd2_188a_11ec_b231_0242ac1c0002row6_col17,#T_500aabd2_188a_11ec_b231_0242ac1c0002row7_col0,#T_500aabd2_188a_11ec_b231_0242ac1c0002row7_col1,#T_500aabd2_188a_11ec_b231_0242ac1c0002row7_col2,#T_500aabd2_188a_11ec_b231_0242ac1c0002row7_col3,#T_500aabd2_188a_11ec_b231_0242ac1c0002row7_col4,#T_500aabd2_188a_11ec_b231_0242ac1c0002row7_col5,#T_500aabd2_188a_11ec_b231_0242ac1c0002row7_col6,#T_500aabd2_188a_11ec_b231_0242ac1c0002row7_col13,#T_500aabd2_188a_11ec_b231_0242ac1c0002row7_col14,#T_500aabd2_188a_11ec_b231_0242ac1c0002row7_col15,#T_500aabd2_188a_11ec_b231_0242ac1c0002row7_col16,#T_500aabd2_188a_11ec_b231_0242ac1c0002row7_col17,#T_500aabd2_188a_11ec_b231_0242ac1c0002row8_col0,#T_500aabd2_188a_11ec_b231_0242ac1c0002row8_col1,#T_500aabd2_188a_11ec_b231_0242ac1c0002row8_col2,#T_500aabd2_188a_11ec_b231_0242ac1c0002row8_col3,#T_500aabd2_188a_11ec_b231_0242ac1c0002row8_col4,#T_500aabd2_188a_11ec_b231_0242ac1c0002row8_col13,#T_500aabd2_188a_11ec_b231_0242ac1c0002row8_col14,#T_500aabd2_188a_11ec_b231_0242ac1c0002row8_col15,#T_500aabd2_188a_11ec_b231_0242ac1c0002row8_col16,#T_500aabd2_188a_11ec_b231_0242ac1c0002row8_col17,#T_500aabd2_188a_11ec_b231_0242ac1c0002row9_col0,#T_500aabd2_188a_11ec_b231_0242ac1c0002row9_col1,#T_500aabd2_188a_11ec_b231_0242ac1c0002row9_col2,#T_500aabd2_188a_11ec_b231_0242ac1c0002row9_col3,#T_500aabd2_188a_11ec_b231_0242ac1c0002row9_col4,#T_500aabd2_188a_11ec_b231_0242ac1c0002row9_col16,#T_500aabd2_188a_11ec_b231_0242ac1c0002row9_col17,#T_500aabd2_188a_11ec_b231_0242ac1c0002row10_col0,#T_500aabd2_188a_11ec_b231_0242ac1c0002row10_col1,#T_500aabd2_188a_11ec_b231_0242ac1c0002row10_col2,#T_500aabd2_188a_11ec_b231_0242ac1c0002row10_col3,#T_500aabd2_188a_11ec_b231_0242ac1c0002row10_col4,#T_500aabd2_188a_11ec_b231_0242ac1c0002row10_col5,#T_500aabd2_188a_11ec_b231_0242ac1c0002row10_col6,#T_500aabd2_188a_11ec_b231_0242ac1c0002row10_col17{\n",
              "            font-size:  6pt;\n",
              "            background-color:  #ffffff;\n",
              "            color:  #000000;\n",
              "        }#T_500aabd2_188a_11ec_b231_0242ac1c0002row1_col5{\n",
              "            font-size:  6pt;\n",
              "            background-color:  #efefef;\n",
              "            color:  #000000;\n",
              "        }#T_500aabd2_188a_11ec_b231_0242ac1c0002row1_col6,#T_500aabd2_188a_11ec_b231_0242ac1c0002row1_col13{\n",
              "            font-size:  6pt;\n",
              "            background-color:  #7c7c7c;\n",
              "            color:  #000000;\n",
              "        }#T_500aabd2_188a_11ec_b231_0242ac1c0002row1_col7{\n",
              "            font-size:  6pt;\n",
              "            background-color:  #4a4a4a;\n",
              "            color:  #f1f1f1;\n",
              "        }#T_500aabd2_188a_11ec_b231_0242ac1c0002row1_col8,#T_500aabd2_188a_11ec_b231_0242ac1c0002row1_col9,#T_500aabd2_188a_11ec_b231_0242ac1c0002row1_col10,#T_500aabd2_188a_11ec_b231_0242ac1c0002row2_col5,#T_500aabd2_188a_11ec_b231_0242ac1c0002row2_col6,#T_500aabd2_188a_11ec_b231_0242ac1c0002row2_col7,#T_500aabd2_188a_11ec_b231_0242ac1c0002row2_col11,#T_500aabd2_188a_11ec_b231_0242ac1c0002row2_col12,#T_500aabd2_188a_11ec_b231_0242ac1c0002row2_col13,#T_500aabd2_188a_11ec_b231_0242ac1c0002row3_col4,#T_500aabd2_188a_11ec_b231_0242ac1c0002row3_col12,#T_500aabd2_188a_11ec_b231_0242ac1c0002row3_col13,#T_500aabd2_188a_11ec_b231_0242ac1c0002row4_col1,#T_500aabd2_188a_11ec_b231_0242ac1c0002row4_col2,#T_500aabd2_188a_11ec_b231_0242ac1c0002row4_col3,#T_500aabd2_188a_11ec_b231_0242ac1c0002row4_col12,#T_500aabd2_188a_11ec_b231_0242ac1c0002row4_col13,#T_500aabd2_188a_11ec_b231_0242ac1c0002row5_col12,#T_500aabd2_188a_11ec_b231_0242ac1c0002row6_col11,#T_500aabd2_188a_11ec_b231_0242ac1c0002row9_col11,#T_500aabd2_188a_11ec_b231_0242ac1c0002row10_col11,#T_500aabd2_188a_11ec_b231_0242ac1c0002row10_col12,#T_500aabd2_188a_11ec_b231_0242ac1c0002row10_col13,#T_500aabd2_188a_11ec_b231_0242ac1c0002row10_col14,#T_500aabd2_188a_11ec_b231_0242ac1c0002row10_col15,#T_500aabd2_188a_11ec_b231_0242ac1c0002row10_col16{\n",
              "            font-size:  6pt;\n",
              "            background-color:  #000000;\n",
              "            color:  #f1f1f1;\n",
              "        }#T_500aabd2_188a_11ec_b231_0242ac1c0002row1_col11{\n",
              "            font-size:  6pt;\n",
              "            background-color:  #606060;\n",
              "            color:  #f1f1f1;\n",
              "        }#T_500aabd2_188a_11ec_b231_0242ac1c0002row1_col12{\n",
              "            font-size:  6pt;\n",
              "            background-color:  #4d4d4d;\n",
              "            color:  #f1f1f1;\n",
              "        }#T_500aabd2_188a_11ec_b231_0242ac1c0002row1_col14{\n",
              "            font-size:  6pt;\n",
              "            background-color:  #bbbbbb;\n",
              "            color:  #000000;\n",
              "        }#T_500aabd2_188a_11ec_b231_0242ac1c0002row2_col3{\n",
              "            font-size:  6pt;\n",
              "            background-color:  #e4e4e4;\n",
              "            color:  #000000;\n",
              "        }#T_500aabd2_188a_11ec_b231_0242ac1c0002row2_col4,#T_500aabd2_188a_11ec_b231_0242ac1c0002row8_col6{\n",
              "            font-size:  6pt;\n",
              "            background-color:  #6b6b6b;\n",
              "            color:  #000000;\n",
              "        }#T_500aabd2_188a_11ec_b231_0242ac1c0002row2_col8,#T_500aabd2_188a_11ec_b231_0242ac1c0002row2_col14,#T_500aabd2_188a_11ec_b231_0242ac1c0002row3_col14{\n",
              "            font-size:  6pt;\n",
              "            background-color:  #171717;\n",
              "            color:  #f1f1f1;\n",
              "        }#T_500aabd2_188a_11ec_b231_0242ac1c0002row2_col9,#T_500aabd2_188a_11ec_b231_0242ac1c0002row3_col11{\n",
              "            font-size:  6pt;\n",
              "            background-color:  #4b4b4b;\n",
              "            color:  #f1f1f1;\n",
              "        }#T_500aabd2_188a_11ec_b231_0242ac1c0002row2_col10,#T_500aabd2_188a_11ec_b231_0242ac1c0002row7_col10,#T_500aabd2_188a_11ec_b231_0242ac1c0002row8_col8,#T_500aabd2_188a_11ec_b231_0242ac1c0002row8_col10,#T_500aabd2_188a_11ec_b231_0242ac1c0002row9_col8,#T_500aabd2_188a_11ec_b231_0242ac1c0002row9_col10{\n",
              "            font-size:  6pt;\n",
              "            background-color:  #010101;\n",
              "            color:  #f1f1f1;\n",
              "        }#T_500aabd2_188a_11ec_b231_0242ac1c0002row3_col1{\n",
              "            font-size:  6pt;\n",
              "            background-color:  #272727;\n",
              "            color:  #f1f1f1;\n",
              "        }#T_500aabd2_188a_11ec_b231_0242ac1c0002row3_col2{\n",
              "            font-size:  6pt;\n",
              "            background-color:  #0a0a0a;\n",
              "            color:  #f1f1f1;\n",
              "        }#T_500aabd2_188a_11ec_b231_0242ac1c0002row3_col3{\n",
              "            font-size:  6pt;\n",
              "            background-color:  #050505;\n",
              "            color:  #f1f1f1;\n",
              "        }#T_500aabd2_188a_11ec_b231_0242ac1c0002row3_col5{\n",
              "            font-size:  6pt;\n",
              "            background-color:  #333333;\n",
              "            color:  #f1f1f1;\n",
              "        }#T_500aabd2_188a_11ec_b231_0242ac1c0002row3_col6{\n",
              "            font-size:  6pt;\n",
              "            background-color:  #e6e6e6;\n",
              "            color:  #000000;\n",
              "        }#T_500aabd2_188a_11ec_b231_0242ac1c0002row3_col7,#T_500aabd2_188a_11ec_b231_0242ac1c0002row3_col10{\n",
              "            font-size:  6pt;\n",
              "            background-color:  #fafafa;\n",
              "            color:  #000000;\n",
              "        }#T_500aabd2_188a_11ec_b231_0242ac1c0002row3_col8{\n",
              "            font-size:  6pt;\n",
              "            background-color:  #fbfbfb;\n",
              "            color:  #000000;\n",
              "        }#T_500aabd2_188a_11ec_b231_0242ac1c0002row3_col9{\n",
              "            font-size:  6pt;\n",
              "            background-color:  #fdfdfd;\n",
              "            color:  #000000;\n",
              "        }#T_500aabd2_188a_11ec_b231_0242ac1c0002row4_col4{\n",
              "            font-size:  6pt;\n",
              "            background-color:  #1b1b1b;\n",
              "            color:  #f1f1f1;\n",
              "        }#T_500aabd2_188a_11ec_b231_0242ac1c0002row4_col5{\n",
              "            font-size:  6pt;\n",
              "            background-color:  #e0e0e0;\n",
              "            color:  #000000;\n",
              "        }#T_500aabd2_188a_11ec_b231_0242ac1c0002row4_col11{\n",
              "            font-size:  6pt;\n",
              "            background-color:  #4e4e4e;\n",
              "            color:  #f1f1f1;\n",
              "        }#T_500aabd2_188a_11ec_b231_0242ac1c0002row4_col14{\n",
              "            font-size:  6pt;\n",
              "            background-color:  #767676;\n",
              "            color:  #000000;\n",
              "        }#T_500aabd2_188a_11ec_b231_0242ac1c0002row5_col1{\n",
              "            font-size:  6pt;\n",
              "            background-color:  #fcfcfc;\n",
              "            color:  #000000;\n",
              "        }#T_500aabd2_188a_11ec_b231_0242ac1c0002row5_col2,#T_500aabd2_188a_11ec_b231_0242ac1c0002row5_col3{\n",
              "            font-size:  6pt;\n",
              "            background-color:  #f6f6f6;\n",
              "            color:  #000000;\n",
              "        }#T_500aabd2_188a_11ec_b231_0242ac1c0002row5_col4,#T_500aabd2_188a_11ec_b231_0242ac1c0002row7_col7{\n",
              "            font-size:  6pt;\n",
              "            background-color:  #f8f8f8;\n",
              "            color:  #000000;\n",
              "        }#T_500aabd2_188a_11ec_b231_0242ac1c0002row5_col10,#T_500aabd2_188a_11ec_b231_0242ac1c0002row10_col7{\n",
              "            font-size:  6pt;\n",
              "            background-color:  #e8e8e8;\n",
              "            color:  #000000;\n",
              "        }#T_500aabd2_188a_11ec_b231_0242ac1c0002row5_col11{\n",
              "            font-size:  6pt;\n",
              "            background-color:  #222222;\n",
              "            color:  #f1f1f1;\n",
              "        }#T_500aabd2_188a_11ec_b231_0242ac1c0002row5_col13,#T_500aabd2_188a_11ec_b231_0242ac1c0002row6_col12{\n",
              "            font-size:  6pt;\n",
              "            background-color:  #090909;\n",
              "            color:  #f1f1f1;\n",
              "        }#T_500aabd2_188a_11ec_b231_0242ac1c0002row5_col14{\n",
              "            font-size:  6pt;\n",
              "            background-color:  #d0d0d0;\n",
              "            color:  #000000;\n",
              "        }#T_500aabd2_188a_11ec_b231_0242ac1c0002row6_col10,#T_500aabd2_188a_11ec_b231_0242ac1c0002row7_col11,#T_500aabd2_188a_11ec_b231_0242ac1c0002row9_col6{\n",
              "            font-size:  6pt;\n",
              "            background-color:  #060606;\n",
              "            color:  #f1f1f1;\n",
              "        }#T_500aabd2_188a_11ec_b231_0242ac1c0002row6_col13{\n",
              "            font-size:  6pt;\n",
              "            background-color:  #979797;\n",
              "            color:  #000000;\n",
              "        }#T_500aabd2_188a_11ec_b231_0242ac1c0002row7_col8{\n",
              "            font-size:  6pt;\n",
              "            background-color:  #b6b6b6;\n",
              "            color:  #000000;\n",
              "        }#T_500aabd2_188a_11ec_b231_0242ac1c0002row7_col9{\n",
              "            font-size:  6pt;\n",
              "            background-color:  #252525;\n",
              "            color:  #f1f1f1;\n",
              "        }#T_500aabd2_188a_11ec_b231_0242ac1c0002row7_col12{\n",
              "            font-size:  6pt;\n",
              "            background-color:  #999999;\n",
              "            color:  #000000;\n",
              "        }#T_500aabd2_188a_11ec_b231_0242ac1c0002row8_col5{\n",
              "            font-size:  6pt;\n",
              "            background-color:  #f9f9f9;\n",
              "            color:  #000000;\n",
              "        }#T_500aabd2_188a_11ec_b231_0242ac1c0002row8_col7{\n",
              "            font-size:  6pt;\n",
              "            background-color:  #101010;\n",
              "            color:  #f1f1f1;\n",
              "        }#T_500aabd2_188a_11ec_b231_0242ac1c0002row8_col9,#T_500aabd2_188a_11ec_b231_0242ac1c0002row9_col9{\n",
              "            font-size:  6pt;\n",
              "            background-color:  #020202;\n",
              "            color:  #f1f1f1;\n",
              "        }#T_500aabd2_188a_11ec_b231_0242ac1c0002row8_col11{\n",
              "            font-size:  6pt;\n",
              "            background-color:  #545454;\n",
              "            color:  #f1f1f1;\n",
              "        }#T_500aabd2_188a_11ec_b231_0242ac1c0002row8_col12{\n",
              "            font-size:  6pt;\n",
              "            background-color:  #f1f1f1;\n",
              "            color:  #000000;\n",
              "        }#T_500aabd2_188a_11ec_b231_0242ac1c0002row9_col5{\n",
              "            font-size:  6pt;\n",
              "            background-color:  #f7f7f7;\n",
              "            color:  #000000;\n",
              "        }#T_500aabd2_188a_11ec_b231_0242ac1c0002row9_col7{\n",
              "            font-size:  6pt;\n",
              "            background-color:  #030303;\n",
              "            color:  #f1f1f1;\n",
              "        }#T_500aabd2_188a_11ec_b231_0242ac1c0002row9_col12{\n",
              "            font-size:  6pt;\n",
              "            background-color:  #181818;\n",
              "            color:  #f1f1f1;\n",
              "        }#T_500aabd2_188a_11ec_b231_0242ac1c0002row9_col13{\n",
              "            font-size:  6pt;\n",
              "            background-color:  #303030;\n",
              "            color:  #f1f1f1;\n",
              "        }#T_500aabd2_188a_11ec_b231_0242ac1c0002row9_col14{\n",
              "            font-size:  6pt;\n",
              "            background-color:  #a9a9a9;\n",
              "            color:  #000000;\n",
              "        }#T_500aabd2_188a_11ec_b231_0242ac1c0002row9_col15{\n",
              "            font-size:  6pt;\n",
              "            background-color:  #fefefe;\n",
              "            color:  #000000;\n",
              "        }#T_500aabd2_188a_11ec_b231_0242ac1c0002row10_col8,#T_500aabd2_188a_11ec_b231_0242ac1c0002row10_col9{\n",
              "            font-size:  6pt;\n",
              "            background-color:  #bababa;\n",
              "            color:  #000000;\n",
              "        }#T_500aabd2_188a_11ec_b231_0242ac1c0002row10_col10{\n",
              "            font-size:  6pt;\n",
              "            background-color:  #393939;\n",
              "            color:  #f1f1f1;\n",
              "        }</style><table id=\"T_500aabd2_188a_11ec_b231_0242ac1c0002\" ><thead>    <tr>        <th class=\"blank level0\" ></th>        <th class=\"col_heading level0 col0\" >0</th>        <th class=\"col_heading level0 col1\" >1</th>        <th class=\"col_heading level0 col2\" >2</th>        <th class=\"col_heading level0 col3\" >3</th>        <th class=\"col_heading level0 col4\" >4</th>        <th class=\"col_heading level0 col5\" >5</th>        <th class=\"col_heading level0 col6\" >6</th>        <th class=\"col_heading level0 col7\" >7</th>        <th class=\"col_heading level0 col8\" >8</th>        <th class=\"col_heading level0 col9\" >9</th>        <th class=\"col_heading level0 col10\" >10</th>        <th class=\"col_heading level0 col11\" >11</th>        <th class=\"col_heading level0 col12\" >12</th>        <th class=\"col_heading level0 col13\" >13</th>        <th class=\"col_heading level0 col14\" >14</th>        <th class=\"col_heading level0 col15\" >15</th>        <th class=\"col_heading level0 col16\" >16</th>        <th class=\"col_heading level0 col17\" >17</th>    </tr></thead><tbody>\n",
              "                <tr>\n",
              "                        <th id=\"T_500aabd2_188a_11ec_b231_0242ac1c0002level0_row0\" class=\"row_heading level0 row0\" >0</th>\n",
              "                        <td id=\"T_500aabd2_188a_11ec_b231_0242ac1c0002row0_col0\" class=\"data row0 col0\" >0</td>\n",
              "                        <td id=\"T_500aabd2_188a_11ec_b231_0242ac1c0002row0_col1\" class=\"data row0 col1\" >0</td>\n",
              "                        <td id=\"T_500aabd2_188a_11ec_b231_0242ac1c0002row0_col2\" class=\"data row0 col2\" >0</td>\n",
              "                        <td id=\"T_500aabd2_188a_11ec_b231_0242ac1c0002row0_col3\" class=\"data row0 col3\" >0</td>\n",
              "                        <td id=\"T_500aabd2_188a_11ec_b231_0242ac1c0002row0_col4\" class=\"data row0 col4\" >0</td>\n",
              "                        <td id=\"T_500aabd2_188a_11ec_b231_0242ac1c0002row0_col5\" class=\"data row0 col5\" >0</td>\n",
              "                        <td id=\"T_500aabd2_188a_11ec_b231_0242ac1c0002row0_col6\" class=\"data row0 col6\" >0</td>\n",
              "                        <td id=\"T_500aabd2_188a_11ec_b231_0242ac1c0002row0_col7\" class=\"data row0 col7\" >0</td>\n",
              "                        <td id=\"T_500aabd2_188a_11ec_b231_0242ac1c0002row0_col8\" class=\"data row0 col8\" >0</td>\n",
              "                        <td id=\"T_500aabd2_188a_11ec_b231_0242ac1c0002row0_col9\" class=\"data row0 col9\" >0</td>\n",
              "                        <td id=\"T_500aabd2_188a_11ec_b231_0242ac1c0002row0_col10\" class=\"data row0 col10\" >0</td>\n",
              "                        <td id=\"T_500aabd2_188a_11ec_b231_0242ac1c0002row0_col11\" class=\"data row0 col11\" >0</td>\n",
              "                        <td id=\"T_500aabd2_188a_11ec_b231_0242ac1c0002row0_col12\" class=\"data row0 col12\" >0</td>\n",
              "                        <td id=\"T_500aabd2_188a_11ec_b231_0242ac1c0002row0_col13\" class=\"data row0 col13\" >0</td>\n",
              "                        <td id=\"T_500aabd2_188a_11ec_b231_0242ac1c0002row0_col14\" class=\"data row0 col14\" >0</td>\n",
              "                        <td id=\"T_500aabd2_188a_11ec_b231_0242ac1c0002row0_col15\" class=\"data row0 col15\" >0</td>\n",
              "                        <td id=\"T_500aabd2_188a_11ec_b231_0242ac1c0002row0_col16\" class=\"data row0 col16\" >0</td>\n",
              "                        <td id=\"T_500aabd2_188a_11ec_b231_0242ac1c0002row0_col17\" class=\"data row0 col17\" >0</td>\n",
              "            </tr>\n",
              "            <tr>\n",
              "                        <th id=\"T_500aabd2_188a_11ec_b231_0242ac1c0002level0_row1\" class=\"row_heading level0 row1\" >1</th>\n",
              "                        <td id=\"T_500aabd2_188a_11ec_b231_0242ac1c0002row1_col0\" class=\"data row1 col0\" >0</td>\n",
              "                        <td id=\"T_500aabd2_188a_11ec_b231_0242ac1c0002row1_col1\" class=\"data row1 col1\" >0</td>\n",
              "                        <td id=\"T_500aabd2_188a_11ec_b231_0242ac1c0002row1_col2\" class=\"data row1 col2\" >0</td>\n",
              "                        <td id=\"T_500aabd2_188a_11ec_b231_0242ac1c0002row1_col3\" class=\"data row1 col3\" >0</td>\n",
              "                        <td id=\"T_500aabd2_188a_11ec_b231_0242ac1c0002row1_col4\" class=\"data row1 col4\" >0</td>\n",
              "                        <td id=\"T_500aabd2_188a_11ec_b231_0242ac1c0002row1_col5\" class=\"data row1 col5\" >29</td>\n",
              "                        <td id=\"T_500aabd2_188a_11ec_b231_0242ac1c0002row1_col6\" class=\"data row1 col6\" >150</td>\n",
              "                        <td id=\"T_500aabd2_188a_11ec_b231_0242ac1c0002row1_col7\" class=\"data row1 col7\" >195</td>\n",
              "                        <td id=\"T_500aabd2_188a_11ec_b231_0242ac1c0002row1_col8\" class=\"data row1 col8\" >254</td>\n",
              "                        <td id=\"T_500aabd2_188a_11ec_b231_0242ac1c0002row1_col9\" class=\"data row1 col9\" >255</td>\n",
              "                        <td id=\"T_500aabd2_188a_11ec_b231_0242ac1c0002row1_col10\" class=\"data row1 col10\" >254</td>\n",
              "                        <td id=\"T_500aabd2_188a_11ec_b231_0242ac1c0002row1_col11\" class=\"data row1 col11\" >176</td>\n",
              "                        <td id=\"T_500aabd2_188a_11ec_b231_0242ac1c0002row1_col12\" class=\"data row1 col12\" >193</td>\n",
              "                        <td id=\"T_500aabd2_188a_11ec_b231_0242ac1c0002row1_col13\" class=\"data row1 col13\" >150</td>\n",
              "                        <td id=\"T_500aabd2_188a_11ec_b231_0242ac1c0002row1_col14\" class=\"data row1 col14\" >96</td>\n",
              "                        <td id=\"T_500aabd2_188a_11ec_b231_0242ac1c0002row1_col15\" class=\"data row1 col15\" >0</td>\n",
              "                        <td id=\"T_500aabd2_188a_11ec_b231_0242ac1c0002row1_col16\" class=\"data row1 col16\" >0</td>\n",
              "                        <td id=\"T_500aabd2_188a_11ec_b231_0242ac1c0002row1_col17\" class=\"data row1 col17\" >0</td>\n",
              "            </tr>\n",
              "            <tr>\n",
              "                        <th id=\"T_500aabd2_188a_11ec_b231_0242ac1c0002level0_row2\" class=\"row_heading level0 row2\" >2</th>\n",
              "                        <td id=\"T_500aabd2_188a_11ec_b231_0242ac1c0002row2_col0\" class=\"data row2 col0\" >0</td>\n",
              "                        <td id=\"T_500aabd2_188a_11ec_b231_0242ac1c0002row2_col1\" class=\"data row2 col1\" >0</td>\n",
              "                        <td id=\"T_500aabd2_188a_11ec_b231_0242ac1c0002row2_col2\" class=\"data row2 col2\" >0</td>\n",
              "                        <td id=\"T_500aabd2_188a_11ec_b231_0242ac1c0002row2_col3\" class=\"data row2 col3\" >48</td>\n",
              "                        <td id=\"T_500aabd2_188a_11ec_b231_0242ac1c0002row2_col4\" class=\"data row2 col4\" >166</td>\n",
              "                        <td id=\"T_500aabd2_188a_11ec_b231_0242ac1c0002row2_col5\" class=\"data row2 col5\" >224</td>\n",
              "                        <td id=\"T_500aabd2_188a_11ec_b231_0242ac1c0002row2_col6\" class=\"data row2 col6\" >253</td>\n",
              "                        <td id=\"T_500aabd2_188a_11ec_b231_0242ac1c0002row2_col7\" class=\"data row2 col7\" >253</td>\n",
              "                        <td id=\"T_500aabd2_188a_11ec_b231_0242ac1c0002row2_col8\" class=\"data row2 col8\" >234</td>\n",
              "                        <td id=\"T_500aabd2_188a_11ec_b231_0242ac1c0002row2_col9\" class=\"data row2 col9\" >196</td>\n",
              "                        <td id=\"T_500aabd2_188a_11ec_b231_0242ac1c0002row2_col10\" class=\"data row2 col10\" >253</td>\n",
              "                        <td id=\"T_500aabd2_188a_11ec_b231_0242ac1c0002row2_col11\" class=\"data row2 col11\" >253</td>\n",
              "                        <td id=\"T_500aabd2_188a_11ec_b231_0242ac1c0002row2_col12\" class=\"data row2 col12\" >253</td>\n",
              "                        <td id=\"T_500aabd2_188a_11ec_b231_0242ac1c0002row2_col13\" class=\"data row2 col13\" >253</td>\n",
              "                        <td id=\"T_500aabd2_188a_11ec_b231_0242ac1c0002row2_col14\" class=\"data row2 col14\" >233</td>\n",
              "                        <td id=\"T_500aabd2_188a_11ec_b231_0242ac1c0002row2_col15\" class=\"data row2 col15\" >0</td>\n",
              "                        <td id=\"T_500aabd2_188a_11ec_b231_0242ac1c0002row2_col16\" class=\"data row2 col16\" >0</td>\n",
              "                        <td id=\"T_500aabd2_188a_11ec_b231_0242ac1c0002row2_col17\" class=\"data row2 col17\" >0</td>\n",
              "            </tr>\n",
              "            <tr>\n",
              "                        <th id=\"T_500aabd2_188a_11ec_b231_0242ac1c0002level0_row3\" class=\"row_heading level0 row3\" >3</th>\n",
              "                        <td id=\"T_500aabd2_188a_11ec_b231_0242ac1c0002row3_col0\" class=\"data row3 col0\" >0</td>\n",
              "                        <td id=\"T_500aabd2_188a_11ec_b231_0242ac1c0002row3_col1\" class=\"data row3 col1\" >93</td>\n",
              "                        <td id=\"T_500aabd2_188a_11ec_b231_0242ac1c0002row3_col2\" class=\"data row3 col2\" >244</td>\n",
              "                        <td id=\"T_500aabd2_188a_11ec_b231_0242ac1c0002row3_col3\" class=\"data row3 col3\" >249</td>\n",
              "                        <td id=\"T_500aabd2_188a_11ec_b231_0242ac1c0002row3_col4\" class=\"data row3 col4\" >253</td>\n",
              "                        <td id=\"T_500aabd2_188a_11ec_b231_0242ac1c0002row3_col5\" class=\"data row3 col5\" >187</td>\n",
              "                        <td id=\"T_500aabd2_188a_11ec_b231_0242ac1c0002row3_col6\" class=\"data row3 col6\" >46</td>\n",
              "                        <td id=\"T_500aabd2_188a_11ec_b231_0242ac1c0002row3_col7\" class=\"data row3 col7\" >10</td>\n",
              "                        <td id=\"T_500aabd2_188a_11ec_b231_0242ac1c0002row3_col8\" class=\"data row3 col8\" >8</td>\n",
              "                        <td id=\"T_500aabd2_188a_11ec_b231_0242ac1c0002row3_col9\" class=\"data row3 col9\" >4</td>\n",
              "                        <td id=\"T_500aabd2_188a_11ec_b231_0242ac1c0002row3_col10\" class=\"data row3 col10\" >10</td>\n",
              "                        <td id=\"T_500aabd2_188a_11ec_b231_0242ac1c0002row3_col11\" class=\"data row3 col11\" >194</td>\n",
              "                        <td id=\"T_500aabd2_188a_11ec_b231_0242ac1c0002row3_col12\" class=\"data row3 col12\" >253</td>\n",
              "                        <td id=\"T_500aabd2_188a_11ec_b231_0242ac1c0002row3_col13\" class=\"data row3 col13\" >253</td>\n",
              "                        <td id=\"T_500aabd2_188a_11ec_b231_0242ac1c0002row3_col14\" class=\"data row3 col14\" >233</td>\n",
              "                        <td id=\"T_500aabd2_188a_11ec_b231_0242ac1c0002row3_col15\" class=\"data row3 col15\" >0</td>\n",
              "                        <td id=\"T_500aabd2_188a_11ec_b231_0242ac1c0002row3_col16\" class=\"data row3 col16\" >0</td>\n",
              "                        <td id=\"T_500aabd2_188a_11ec_b231_0242ac1c0002row3_col17\" class=\"data row3 col17\" >0</td>\n",
              "            </tr>\n",
              "            <tr>\n",
              "                        <th id=\"T_500aabd2_188a_11ec_b231_0242ac1c0002level0_row4\" class=\"row_heading level0 row4\" >4</th>\n",
              "                        <td id=\"T_500aabd2_188a_11ec_b231_0242ac1c0002row4_col0\" class=\"data row4 col0\" >0</td>\n",
              "                        <td id=\"T_500aabd2_188a_11ec_b231_0242ac1c0002row4_col1\" class=\"data row4 col1\" >107</td>\n",
              "                        <td id=\"T_500aabd2_188a_11ec_b231_0242ac1c0002row4_col2\" class=\"data row4 col2\" >253</td>\n",
              "                        <td id=\"T_500aabd2_188a_11ec_b231_0242ac1c0002row4_col3\" class=\"data row4 col3\" >253</td>\n",
              "                        <td id=\"T_500aabd2_188a_11ec_b231_0242ac1c0002row4_col4\" class=\"data row4 col4\" >230</td>\n",
              "                        <td id=\"T_500aabd2_188a_11ec_b231_0242ac1c0002row4_col5\" class=\"data row4 col5\" >48</td>\n",
              "                        <td id=\"T_500aabd2_188a_11ec_b231_0242ac1c0002row4_col6\" class=\"data row4 col6\" >0</td>\n",
              "                        <td id=\"T_500aabd2_188a_11ec_b231_0242ac1c0002row4_col7\" class=\"data row4 col7\" >0</td>\n",
              "                        <td id=\"T_500aabd2_188a_11ec_b231_0242ac1c0002row4_col8\" class=\"data row4 col8\" >0</td>\n",
              "                        <td id=\"T_500aabd2_188a_11ec_b231_0242ac1c0002row4_col9\" class=\"data row4 col9\" >0</td>\n",
              "                        <td id=\"T_500aabd2_188a_11ec_b231_0242ac1c0002row4_col10\" class=\"data row4 col10\" >0</td>\n",
              "                        <td id=\"T_500aabd2_188a_11ec_b231_0242ac1c0002row4_col11\" class=\"data row4 col11\" >192</td>\n",
              "                        <td id=\"T_500aabd2_188a_11ec_b231_0242ac1c0002row4_col12\" class=\"data row4 col12\" >253</td>\n",
              "                        <td id=\"T_500aabd2_188a_11ec_b231_0242ac1c0002row4_col13\" class=\"data row4 col13\" >253</td>\n",
              "                        <td id=\"T_500aabd2_188a_11ec_b231_0242ac1c0002row4_col14\" class=\"data row4 col14\" >156</td>\n",
              "                        <td id=\"T_500aabd2_188a_11ec_b231_0242ac1c0002row4_col15\" class=\"data row4 col15\" >0</td>\n",
              "                        <td id=\"T_500aabd2_188a_11ec_b231_0242ac1c0002row4_col16\" class=\"data row4 col16\" >0</td>\n",
              "                        <td id=\"T_500aabd2_188a_11ec_b231_0242ac1c0002row4_col17\" class=\"data row4 col17\" >0</td>\n",
              "            </tr>\n",
              "            <tr>\n",
              "                        <th id=\"T_500aabd2_188a_11ec_b231_0242ac1c0002level0_row5\" class=\"row_heading level0 row5\" >5</th>\n",
              "                        <td id=\"T_500aabd2_188a_11ec_b231_0242ac1c0002row5_col0\" class=\"data row5 col0\" >0</td>\n",
              "                        <td id=\"T_500aabd2_188a_11ec_b231_0242ac1c0002row5_col1\" class=\"data row5 col1\" >3</td>\n",
              "                        <td id=\"T_500aabd2_188a_11ec_b231_0242ac1c0002row5_col2\" class=\"data row5 col2\" >20</td>\n",
              "                        <td id=\"T_500aabd2_188a_11ec_b231_0242ac1c0002row5_col3\" class=\"data row5 col3\" >20</td>\n",
              "                        <td id=\"T_500aabd2_188a_11ec_b231_0242ac1c0002row5_col4\" class=\"data row5 col4\" >15</td>\n",
              "                        <td id=\"T_500aabd2_188a_11ec_b231_0242ac1c0002row5_col5\" class=\"data row5 col5\" >0</td>\n",
              "                        <td id=\"T_500aabd2_188a_11ec_b231_0242ac1c0002row5_col6\" class=\"data row5 col6\" >0</td>\n",
              "                        <td id=\"T_500aabd2_188a_11ec_b231_0242ac1c0002row5_col7\" class=\"data row5 col7\" >0</td>\n",
              "                        <td id=\"T_500aabd2_188a_11ec_b231_0242ac1c0002row5_col8\" class=\"data row5 col8\" >0</td>\n",
              "                        <td id=\"T_500aabd2_188a_11ec_b231_0242ac1c0002row5_col9\" class=\"data row5 col9\" >0</td>\n",
              "                        <td id=\"T_500aabd2_188a_11ec_b231_0242ac1c0002row5_col10\" class=\"data row5 col10\" >43</td>\n",
              "                        <td id=\"T_500aabd2_188a_11ec_b231_0242ac1c0002row5_col11\" class=\"data row5 col11\" >224</td>\n",
              "                        <td id=\"T_500aabd2_188a_11ec_b231_0242ac1c0002row5_col12\" class=\"data row5 col12\" >253</td>\n",
              "                        <td id=\"T_500aabd2_188a_11ec_b231_0242ac1c0002row5_col13\" class=\"data row5 col13\" >245</td>\n",
              "                        <td id=\"T_500aabd2_188a_11ec_b231_0242ac1c0002row5_col14\" class=\"data row5 col14\" >74</td>\n",
              "                        <td id=\"T_500aabd2_188a_11ec_b231_0242ac1c0002row5_col15\" class=\"data row5 col15\" >0</td>\n",
              "                        <td id=\"T_500aabd2_188a_11ec_b231_0242ac1c0002row5_col16\" class=\"data row5 col16\" >0</td>\n",
              "                        <td id=\"T_500aabd2_188a_11ec_b231_0242ac1c0002row5_col17\" class=\"data row5 col17\" >0</td>\n",
              "            </tr>\n",
              "            <tr>\n",
              "                        <th id=\"T_500aabd2_188a_11ec_b231_0242ac1c0002level0_row6\" class=\"row_heading level0 row6\" >6</th>\n",
              "                        <td id=\"T_500aabd2_188a_11ec_b231_0242ac1c0002row6_col0\" class=\"data row6 col0\" >0</td>\n",
              "                        <td id=\"T_500aabd2_188a_11ec_b231_0242ac1c0002row6_col1\" class=\"data row6 col1\" >0</td>\n",
              "                        <td id=\"T_500aabd2_188a_11ec_b231_0242ac1c0002row6_col2\" class=\"data row6 col2\" >0</td>\n",
              "                        <td id=\"T_500aabd2_188a_11ec_b231_0242ac1c0002row6_col3\" class=\"data row6 col3\" >0</td>\n",
              "                        <td id=\"T_500aabd2_188a_11ec_b231_0242ac1c0002row6_col4\" class=\"data row6 col4\" >0</td>\n",
              "                        <td id=\"T_500aabd2_188a_11ec_b231_0242ac1c0002row6_col5\" class=\"data row6 col5\" >0</td>\n",
              "                        <td id=\"T_500aabd2_188a_11ec_b231_0242ac1c0002row6_col6\" class=\"data row6 col6\" >0</td>\n",
              "                        <td id=\"T_500aabd2_188a_11ec_b231_0242ac1c0002row6_col7\" class=\"data row6 col7\" >0</td>\n",
              "                        <td id=\"T_500aabd2_188a_11ec_b231_0242ac1c0002row6_col8\" class=\"data row6 col8\" >0</td>\n",
              "                        <td id=\"T_500aabd2_188a_11ec_b231_0242ac1c0002row6_col9\" class=\"data row6 col9\" >0</td>\n",
              "                        <td id=\"T_500aabd2_188a_11ec_b231_0242ac1c0002row6_col10\" class=\"data row6 col10\" >249</td>\n",
              "                        <td id=\"T_500aabd2_188a_11ec_b231_0242ac1c0002row6_col11\" class=\"data row6 col11\" >253</td>\n",
              "                        <td id=\"T_500aabd2_188a_11ec_b231_0242ac1c0002row6_col12\" class=\"data row6 col12\" >245</td>\n",
              "                        <td id=\"T_500aabd2_188a_11ec_b231_0242ac1c0002row6_col13\" class=\"data row6 col13\" >126</td>\n",
              "                        <td id=\"T_500aabd2_188a_11ec_b231_0242ac1c0002row6_col14\" class=\"data row6 col14\" >0</td>\n",
              "                        <td id=\"T_500aabd2_188a_11ec_b231_0242ac1c0002row6_col15\" class=\"data row6 col15\" >0</td>\n",
              "                        <td id=\"T_500aabd2_188a_11ec_b231_0242ac1c0002row6_col16\" class=\"data row6 col16\" >0</td>\n",
              "                        <td id=\"T_500aabd2_188a_11ec_b231_0242ac1c0002row6_col17\" class=\"data row6 col17\" >0</td>\n",
              "            </tr>\n",
              "            <tr>\n",
              "                        <th id=\"T_500aabd2_188a_11ec_b231_0242ac1c0002level0_row7\" class=\"row_heading level0 row7\" >7</th>\n",
              "                        <td id=\"T_500aabd2_188a_11ec_b231_0242ac1c0002row7_col0\" class=\"data row7 col0\" >0</td>\n",
              "                        <td id=\"T_500aabd2_188a_11ec_b231_0242ac1c0002row7_col1\" class=\"data row7 col1\" >0</td>\n",
              "                        <td id=\"T_500aabd2_188a_11ec_b231_0242ac1c0002row7_col2\" class=\"data row7 col2\" >0</td>\n",
              "                        <td id=\"T_500aabd2_188a_11ec_b231_0242ac1c0002row7_col3\" class=\"data row7 col3\" >0</td>\n",
              "                        <td id=\"T_500aabd2_188a_11ec_b231_0242ac1c0002row7_col4\" class=\"data row7 col4\" >0</td>\n",
              "                        <td id=\"T_500aabd2_188a_11ec_b231_0242ac1c0002row7_col5\" class=\"data row7 col5\" >0</td>\n",
              "                        <td id=\"T_500aabd2_188a_11ec_b231_0242ac1c0002row7_col6\" class=\"data row7 col6\" >0</td>\n",
              "                        <td id=\"T_500aabd2_188a_11ec_b231_0242ac1c0002row7_col7\" class=\"data row7 col7\" >14</td>\n",
              "                        <td id=\"T_500aabd2_188a_11ec_b231_0242ac1c0002row7_col8\" class=\"data row7 col8\" >101</td>\n",
              "                        <td id=\"T_500aabd2_188a_11ec_b231_0242ac1c0002row7_col9\" class=\"data row7 col9\" >223</td>\n",
              "                        <td id=\"T_500aabd2_188a_11ec_b231_0242ac1c0002row7_col10\" class=\"data row7 col10\" >253</td>\n",
              "                        <td id=\"T_500aabd2_188a_11ec_b231_0242ac1c0002row7_col11\" class=\"data row7 col11\" >248</td>\n",
              "                        <td id=\"T_500aabd2_188a_11ec_b231_0242ac1c0002row7_col12\" class=\"data row7 col12\" >124</td>\n",
              "                        <td id=\"T_500aabd2_188a_11ec_b231_0242ac1c0002row7_col13\" class=\"data row7 col13\" >0</td>\n",
              "                        <td id=\"T_500aabd2_188a_11ec_b231_0242ac1c0002row7_col14\" class=\"data row7 col14\" >0</td>\n",
              "                        <td id=\"T_500aabd2_188a_11ec_b231_0242ac1c0002row7_col15\" class=\"data row7 col15\" >0</td>\n",
              "                        <td id=\"T_500aabd2_188a_11ec_b231_0242ac1c0002row7_col16\" class=\"data row7 col16\" >0</td>\n",
              "                        <td id=\"T_500aabd2_188a_11ec_b231_0242ac1c0002row7_col17\" class=\"data row7 col17\" >0</td>\n",
              "            </tr>\n",
              "            <tr>\n",
              "                        <th id=\"T_500aabd2_188a_11ec_b231_0242ac1c0002level0_row8\" class=\"row_heading level0 row8\" >8</th>\n",
              "                        <td id=\"T_500aabd2_188a_11ec_b231_0242ac1c0002row8_col0\" class=\"data row8 col0\" >0</td>\n",
              "                        <td id=\"T_500aabd2_188a_11ec_b231_0242ac1c0002row8_col1\" class=\"data row8 col1\" >0</td>\n",
              "                        <td id=\"T_500aabd2_188a_11ec_b231_0242ac1c0002row8_col2\" class=\"data row8 col2\" >0</td>\n",
              "                        <td id=\"T_500aabd2_188a_11ec_b231_0242ac1c0002row8_col3\" class=\"data row8 col3\" >0</td>\n",
              "                        <td id=\"T_500aabd2_188a_11ec_b231_0242ac1c0002row8_col4\" class=\"data row8 col4\" >0</td>\n",
              "                        <td id=\"T_500aabd2_188a_11ec_b231_0242ac1c0002row8_col5\" class=\"data row8 col5\" >11</td>\n",
              "                        <td id=\"T_500aabd2_188a_11ec_b231_0242ac1c0002row8_col6\" class=\"data row8 col6\" >166</td>\n",
              "                        <td id=\"T_500aabd2_188a_11ec_b231_0242ac1c0002row8_col7\" class=\"data row8 col7\" >239</td>\n",
              "                        <td id=\"T_500aabd2_188a_11ec_b231_0242ac1c0002row8_col8\" class=\"data row8 col8\" >253</td>\n",
              "                        <td id=\"T_500aabd2_188a_11ec_b231_0242ac1c0002row8_col9\" class=\"data row8 col9\" >253</td>\n",
              "                        <td id=\"T_500aabd2_188a_11ec_b231_0242ac1c0002row8_col10\" class=\"data row8 col10\" >253</td>\n",
              "                        <td id=\"T_500aabd2_188a_11ec_b231_0242ac1c0002row8_col11\" class=\"data row8 col11\" >187</td>\n",
              "                        <td id=\"T_500aabd2_188a_11ec_b231_0242ac1c0002row8_col12\" class=\"data row8 col12\" >30</td>\n",
              "                        <td id=\"T_500aabd2_188a_11ec_b231_0242ac1c0002row8_col13\" class=\"data row8 col13\" >0</td>\n",
              "                        <td id=\"T_500aabd2_188a_11ec_b231_0242ac1c0002row8_col14\" class=\"data row8 col14\" >0</td>\n",
              "                        <td id=\"T_500aabd2_188a_11ec_b231_0242ac1c0002row8_col15\" class=\"data row8 col15\" >0</td>\n",
              "                        <td id=\"T_500aabd2_188a_11ec_b231_0242ac1c0002row8_col16\" class=\"data row8 col16\" >0</td>\n",
              "                        <td id=\"T_500aabd2_188a_11ec_b231_0242ac1c0002row8_col17\" class=\"data row8 col17\" >0</td>\n",
              "            </tr>\n",
              "            <tr>\n",
              "                        <th id=\"T_500aabd2_188a_11ec_b231_0242ac1c0002level0_row9\" class=\"row_heading level0 row9\" >9</th>\n",
              "                        <td id=\"T_500aabd2_188a_11ec_b231_0242ac1c0002row9_col0\" class=\"data row9 col0\" >0</td>\n",
              "                        <td id=\"T_500aabd2_188a_11ec_b231_0242ac1c0002row9_col1\" class=\"data row9 col1\" >0</td>\n",
              "                        <td id=\"T_500aabd2_188a_11ec_b231_0242ac1c0002row9_col2\" class=\"data row9 col2\" >0</td>\n",
              "                        <td id=\"T_500aabd2_188a_11ec_b231_0242ac1c0002row9_col3\" class=\"data row9 col3\" >0</td>\n",
              "                        <td id=\"T_500aabd2_188a_11ec_b231_0242ac1c0002row9_col4\" class=\"data row9 col4\" >0</td>\n",
              "                        <td id=\"T_500aabd2_188a_11ec_b231_0242ac1c0002row9_col5\" class=\"data row9 col5\" >16</td>\n",
              "                        <td id=\"T_500aabd2_188a_11ec_b231_0242ac1c0002row9_col6\" class=\"data row9 col6\" >248</td>\n",
              "                        <td id=\"T_500aabd2_188a_11ec_b231_0242ac1c0002row9_col7\" class=\"data row9 col7\" >250</td>\n",
              "                        <td id=\"T_500aabd2_188a_11ec_b231_0242ac1c0002row9_col8\" class=\"data row9 col8\" >253</td>\n",
              "                        <td id=\"T_500aabd2_188a_11ec_b231_0242ac1c0002row9_col9\" class=\"data row9 col9\" >253</td>\n",
              "                        <td id=\"T_500aabd2_188a_11ec_b231_0242ac1c0002row9_col10\" class=\"data row9 col10\" >253</td>\n",
              "                        <td id=\"T_500aabd2_188a_11ec_b231_0242ac1c0002row9_col11\" class=\"data row9 col11\" >253</td>\n",
              "                        <td id=\"T_500aabd2_188a_11ec_b231_0242ac1c0002row9_col12\" class=\"data row9 col12\" >232</td>\n",
              "                        <td id=\"T_500aabd2_188a_11ec_b231_0242ac1c0002row9_col13\" class=\"data row9 col13\" >213</td>\n",
              "                        <td id=\"T_500aabd2_188a_11ec_b231_0242ac1c0002row9_col14\" class=\"data row9 col14\" >111</td>\n",
              "                        <td id=\"T_500aabd2_188a_11ec_b231_0242ac1c0002row9_col15\" class=\"data row9 col15\" >2</td>\n",
              "                        <td id=\"T_500aabd2_188a_11ec_b231_0242ac1c0002row9_col16\" class=\"data row9 col16\" >0</td>\n",
              "                        <td id=\"T_500aabd2_188a_11ec_b231_0242ac1c0002row9_col17\" class=\"data row9 col17\" >0</td>\n",
              "            </tr>\n",
              "            <tr>\n",
              "                        <th id=\"T_500aabd2_188a_11ec_b231_0242ac1c0002level0_row10\" class=\"row_heading level0 row10\" >10</th>\n",
              "                        <td id=\"T_500aabd2_188a_11ec_b231_0242ac1c0002row10_col0\" class=\"data row10 col0\" >0</td>\n",
              "                        <td id=\"T_500aabd2_188a_11ec_b231_0242ac1c0002row10_col1\" class=\"data row10 col1\" >0</td>\n",
              "                        <td id=\"T_500aabd2_188a_11ec_b231_0242ac1c0002row10_col2\" class=\"data row10 col2\" >0</td>\n",
              "                        <td id=\"T_500aabd2_188a_11ec_b231_0242ac1c0002row10_col3\" class=\"data row10 col3\" >0</td>\n",
              "                        <td id=\"T_500aabd2_188a_11ec_b231_0242ac1c0002row10_col4\" class=\"data row10 col4\" >0</td>\n",
              "                        <td id=\"T_500aabd2_188a_11ec_b231_0242ac1c0002row10_col5\" class=\"data row10 col5\" >0</td>\n",
              "                        <td id=\"T_500aabd2_188a_11ec_b231_0242ac1c0002row10_col6\" class=\"data row10 col6\" >0</td>\n",
              "                        <td id=\"T_500aabd2_188a_11ec_b231_0242ac1c0002row10_col7\" class=\"data row10 col7\" >43</td>\n",
              "                        <td id=\"T_500aabd2_188a_11ec_b231_0242ac1c0002row10_col8\" class=\"data row10 col8\" >98</td>\n",
              "                        <td id=\"T_500aabd2_188a_11ec_b231_0242ac1c0002row10_col9\" class=\"data row10 col9\" >98</td>\n",
              "                        <td id=\"T_500aabd2_188a_11ec_b231_0242ac1c0002row10_col10\" class=\"data row10 col10\" >208</td>\n",
              "                        <td id=\"T_500aabd2_188a_11ec_b231_0242ac1c0002row10_col11\" class=\"data row10 col11\" >253</td>\n",
              "                        <td id=\"T_500aabd2_188a_11ec_b231_0242ac1c0002row10_col12\" class=\"data row10 col12\" >253</td>\n",
              "                        <td id=\"T_500aabd2_188a_11ec_b231_0242ac1c0002row10_col13\" class=\"data row10 col13\" >253</td>\n",
              "                        <td id=\"T_500aabd2_188a_11ec_b231_0242ac1c0002row10_col14\" class=\"data row10 col14\" >253</td>\n",
              "                        <td id=\"T_500aabd2_188a_11ec_b231_0242ac1c0002row10_col15\" class=\"data row10 col15\" >187</td>\n",
              "                        <td id=\"T_500aabd2_188a_11ec_b231_0242ac1c0002row10_col16\" class=\"data row10 col16\" >22</td>\n",
              "                        <td id=\"T_500aabd2_188a_11ec_b231_0242ac1c0002row10_col17\" class=\"data row10 col17\" >0</td>\n",
              "            </tr>\n",
              "    </tbody></table>"
            ],
            "text/plain": [
              "<pandas.io.formats.style.Styler at 0x7f03fa13b510>"
            ]
          },
          "metadata": {},
          "execution_count": 18
        }
      ]
    },
    {
      "cell_type": "code",
      "metadata": {
        "colab": {
          "base_uri": "https://localhost:8080/",
          "height": 388
        },
        "id": "pnfYLckoPuDp",
        "outputId": "170793ed-437b-4c9a-9a16-a1e39bc3dd93"
      },
      "source": [
        "df"
      ],
      "execution_count": 19,
      "outputs": [
        {
          "output_type": "execute_result",
          "data": {
            "text/html": [
              "<div>\n",
              "<style scoped>\n",
              "    .dataframe tbody tr th:only-of-type {\n",
              "        vertical-align: middle;\n",
              "    }\n",
              "\n",
              "    .dataframe tbody tr th {\n",
              "        vertical-align: top;\n",
              "    }\n",
              "\n",
              "    .dataframe thead th {\n",
              "        text-align: right;\n",
              "    }\n",
              "</style>\n",
              "<table border=\"1\" class=\"dataframe\">\n",
              "  <thead>\n",
              "    <tr style=\"text-align: right;\">\n",
              "      <th></th>\n",
              "      <th>0</th>\n",
              "      <th>1</th>\n",
              "      <th>2</th>\n",
              "      <th>3</th>\n",
              "      <th>4</th>\n",
              "      <th>5</th>\n",
              "      <th>6</th>\n",
              "      <th>7</th>\n",
              "      <th>8</th>\n",
              "      <th>9</th>\n",
              "      <th>10</th>\n",
              "      <th>11</th>\n",
              "      <th>12</th>\n",
              "      <th>13</th>\n",
              "      <th>14</th>\n",
              "      <th>15</th>\n",
              "      <th>16</th>\n",
              "      <th>17</th>\n",
              "    </tr>\n",
              "  </thead>\n",
              "  <tbody>\n",
              "    <tr>\n",
              "      <th>0</th>\n",
              "      <td>0</td>\n",
              "      <td>0</td>\n",
              "      <td>0</td>\n",
              "      <td>0</td>\n",
              "      <td>0</td>\n",
              "      <td>0</td>\n",
              "      <td>0</td>\n",
              "      <td>0</td>\n",
              "      <td>0</td>\n",
              "      <td>0</td>\n",
              "      <td>0</td>\n",
              "      <td>0</td>\n",
              "      <td>0</td>\n",
              "      <td>0</td>\n",
              "      <td>0</td>\n",
              "      <td>0</td>\n",
              "      <td>0</td>\n",
              "      <td>0</td>\n",
              "    </tr>\n",
              "    <tr>\n",
              "      <th>1</th>\n",
              "      <td>0</td>\n",
              "      <td>0</td>\n",
              "      <td>0</td>\n",
              "      <td>0</td>\n",
              "      <td>0</td>\n",
              "      <td>29</td>\n",
              "      <td>150</td>\n",
              "      <td>195</td>\n",
              "      <td>254</td>\n",
              "      <td>255</td>\n",
              "      <td>254</td>\n",
              "      <td>176</td>\n",
              "      <td>193</td>\n",
              "      <td>150</td>\n",
              "      <td>96</td>\n",
              "      <td>0</td>\n",
              "      <td>0</td>\n",
              "      <td>0</td>\n",
              "    </tr>\n",
              "    <tr>\n",
              "      <th>2</th>\n",
              "      <td>0</td>\n",
              "      <td>0</td>\n",
              "      <td>0</td>\n",
              "      <td>48</td>\n",
              "      <td>166</td>\n",
              "      <td>224</td>\n",
              "      <td>253</td>\n",
              "      <td>253</td>\n",
              "      <td>234</td>\n",
              "      <td>196</td>\n",
              "      <td>253</td>\n",
              "      <td>253</td>\n",
              "      <td>253</td>\n",
              "      <td>253</td>\n",
              "      <td>233</td>\n",
              "      <td>0</td>\n",
              "      <td>0</td>\n",
              "      <td>0</td>\n",
              "    </tr>\n",
              "    <tr>\n",
              "      <th>3</th>\n",
              "      <td>0</td>\n",
              "      <td>93</td>\n",
              "      <td>244</td>\n",
              "      <td>249</td>\n",
              "      <td>253</td>\n",
              "      <td>187</td>\n",
              "      <td>46</td>\n",
              "      <td>10</td>\n",
              "      <td>8</td>\n",
              "      <td>4</td>\n",
              "      <td>10</td>\n",
              "      <td>194</td>\n",
              "      <td>253</td>\n",
              "      <td>253</td>\n",
              "      <td>233</td>\n",
              "      <td>0</td>\n",
              "      <td>0</td>\n",
              "      <td>0</td>\n",
              "    </tr>\n",
              "    <tr>\n",
              "      <th>4</th>\n",
              "      <td>0</td>\n",
              "      <td>107</td>\n",
              "      <td>253</td>\n",
              "      <td>253</td>\n",
              "      <td>230</td>\n",
              "      <td>48</td>\n",
              "      <td>0</td>\n",
              "      <td>0</td>\n",
              "      <td>0</td>\n",
              "      <td>0</td>\n",
              "      <td>0</td>\n",
              "      <td>192</td>\n",
              "      <td>253</td>\n",
              "      <td>253</td>\n",
              "      <td>156</td>\n",
              "      <td>0</td>\n",
              "      <td>0</td>\n",
              "      <td>0</td>\n",
              "    </tr>\n",
              "    <tr>\n",
              "      <th>5</th>\n",
              "      <td>0</td>\n",
              "      <td>3</td>\n",
              "      <td>20</td>\n",
              "      <td>20</td>\n",
              "      <td>15</td>\n",
              "      <td>0</td>\n",
              "      <td>0</td>\n",
              "      <td>0</td>\n",
              "      <td>0</td>\n",
              "      <td>0</td>\n",
              "      <td>43</td>\n",
              "      <td>224</td>\n",
              "      <td>253</td>\n",
              "      <td>245</td>\n",
              "      <td>74</td>\n",
              "      <td>0</td>\n",
              "      <td>0</td>\n",
              "      <td>0</td>\n",
              "    </tr>\n",
              "    <tr>\n",
              "      <th>6</th>\n",
              "      <td>0</td>\n",
              "      <td>0</td>\n",
              "      <td>0</td>\n",
              "      <td>0</td>\n",
              "      <td>0</td>\n",
              "      <td>0</td>\n",
              "      <td>0</td>\n",
              "      <td>0</td>\n",
              "      <td>0</td>\n",
              "      <td>0</td>\n",
              "      <td>249</td>\n",
              "      <td>253</td>\n",
              "      <td>245</td>\n",
              "      <td>126</td>\n",
              "      <td>0</td>\n",
              "      <td>0</td>\n",
              "      <td>0</td>\n",
              "      <td>0</td>\n",
              "    </tr>\n",
              "    <tr>\n",
              "      <th>7</th>\n",
              "      <td>0</td>\n",
              "      <td>0</td>\n",
              "      <td>0</td>\n",
              "      <td>0</td>\n",
              "      <td>0</td>\n",
              "      <td>0</td>\n",
              "      <td>0</td>\n",
              "      <td>14</td>\n",
              "      <td>101</td>\n",
              "      <td>223</td>\n",
              "      <td>253</td>\n",
              "      <td>248</td>\n",
              "      <td>124</td>\n",
              "      <td>0</td>\n",
              "      <td>0</td>\n",
              "      <td>0</td>\n",
              "      <td>0</td>\n",
              "      <td>0</td>\n",
              "    </tr>\n",
              "    <tr>\n",
              "      <th>8</th>\n",
              "      <td>0</td>\n",
              "      <td>0</td>\n",
              "      <td>0</td>\n",
              "      <td>0</td>\n",
              "      <td>0</td>\n",
              "      <td>11</td>\n",
              "      <td>166</td>\n",
              "      <td>239</td>\n",
              "      <td>253</td>\n",
              "      <td>253</td>\n",
              "      <td>253</td>\n",
              "      <td>187</td>\n",
              "      <td>30</td>\n",
              "      <td>0</td>\n",
              "      <td>0</td>\n",
              "      <td>0</td>\n",
              "      <td>0</td>\n",
              "      <td>0</td>\n",
              "    </tr>\n",
              "    <tr>\n",
              "      <th>9</th>\n",
              "      <td>0</td>\n",
              "      <td>0</td>\n",
              "      <td>0</td>\n",
              "      <td>0</td>\n",
              "      <td>0</td>\n",
              "      <td>16</td>\n",
              "      <td>248</td>\n",
              "      <td>250</td>\n",
              "      <td>253</td>\n",
              "      <td>253</td>\n",
              "      <td>253</td>\n",
              "      <td>253</td>\n",
              "      <td>232</td>\n",
              "      <td>213</td>\n",
              "      <td>111</td>\n",
              "      <td>2</td>\n",
              "      <td>0</td>\n",
              "      <td>0</td>\n",
              "    </tr>\n",
              "    <tr>\n",
              "      <th>10</th>\n",
              "      <td>0</td>\n",
              "      <td>0</td>\n",
              "      <td>0</td>\n",
              "      <td>0</td>\n",
              "      <td>0</td>\n",
              "      <td>0</td>\n",
              "      <td>0</td>\n",
              "      <td>43</td>\n",
              "      <td>98</td>\n",
              "      <td>98</td>\n",
              "      <td>208</td>\n",
              "      <td>253</td>\n",
              "      <td>253</td>\n",
              "      <td>253</td>\n",
              "      <td>253</td>\n",
              "      <td>187</td>\n",
              "      <td>22</td>\n",
              "      <td>0</td>\n",
              "    </tr>\n",
              "  </tbody>\n",
              "</table>\n",
              "</div>"
            ],
            "text/plain": [
              "    0    1    2    3    4    5    6    7    8    9    10   11   12   13   14  \\\n",
              "0    0    0    0    0    0    0    0    0    0    0    0    0    0    0    0   \n",
              "1    0    0    0    0    0   29  150  195  254  255  254  176  193  150   96   \n",
              "2    0    0    0   48  166  224  253  253  234  196  253  253  253  253  233   \n",
              "3    0   93  244  249  253  187   46   10    8    4   10  194  253  253  233   \n",
              "4    0  107  253  253  230   48    0    0    0    0    0  192  253  253  156   \n",
              "5    0    3   20   20   15    0    0    0    0    0   43  224  253  245   74   \n",
              "6    0    0    0    0    0    0    0    0    0    0  249  253  245  126    0   \n",
              "7    0    0    0    0    0    0    0   14  101  223  253  248  124    0    0   \n",
              "8    0    0    0    0    0   11  166  239  253  253  253  187   30    0    0   \n",
              "9    0    0    0    0    0   16  248  250  253  253  253  253  232  213  111   \n",
              "10   0    0    0    0    0    0    0   43   98   98  208  253  253  253  253   \n",
              "\n",
              "     15  16  17  \n",
              "0     0   0   0  \n",
              "1     0   0   0  \n",
              "2     0   0   0  \n",
              "3     0   0   0  \n",
              "4     0   0   0  \n",
              "5     0   0   0  \n",
              "6     0   0   0  \n",
              "7     0   0   0  \n",
              "8     0   0   0  \n",
              "9     2   0   0  \n",
              "10  187  22   0  "
            ]
          },
          "metadata": {},
          "execution_count": 19
        }
      ]
    },
    {
      "cell_type": "code",
      "metadata": {
        "id": "K6A5dnioPyly"
      },
      "source": [
        "seven_tensors = [tensor(Image.open(o)) for o in sevens]"
      ],
      "execution_count": 20,
      "outputs": []
    },
    {
      "cell_type": "code",
      "metadata": {
        "id": "2Dqkh99rQGh6"
      },
      "source": [
        "# 위의 코드를 기본 파이썬 코드로 풀면!(시간이 오래 걸립니다!)\n",
        "three_tensors = []\n",
        "for o in threes :\n",
        "  three_tensors.append(tensor(Image.open(o)))\n",
        "three_tensors"
      ],
      "execution_count": null,
      "outputs": []
    },
    {
      "cell_type": "code",
      "metadata": {
        "colab": {
          "base_uri": "https://localhost:8080/"
        },
        "id": "tofWlPNIQUp8",
        "outputId": "844c0976-a9e3-4bab-a040-a8b70f8d2af2"
      },
      "source": [
        "len(three_tensors), len(seven_tensors)"
      ],
      "execution_count": 25,
      "outputs": [
        {
          "output_type": "execute_result",
          "data": {
            "text/plain": [
              "(6131, 6265)"
            ]
          },
          "metadata": {},
          "execution_count": 25
        }
      ]
    },
    {
      "cell_type": "code",
      "metadata": {
        "colab": {
          "base_uri": "https://localhost:8080/",
          "height": 102
        },
        "id": "Y0Yq1HgXQeff",
        "outputId": "826649f6-5317-48fa-a872-98aebd54fe00"
      },
      "source": [
        "show_image(three_tensors[1])"
      ],
      "execution_count": 27,
      "outputs": [
        {
          "output_type": "execute_result",
          "data": {
            "text/plain": [
              "<matplotlib.axes._subplots.AxesSubplot at 0x7f03f689b790>"
            ]
          },
          "metadata": {},
          "execution_count": 27
        },
        {
          "output_type": "display_data",
          "data": {
            "image/png": "[encoded data removed]",
            "text/plain": [
              "<Figure size 72x72 with 1 Axes>"
            ]
          },
          "metadata": {
            "needs_background": "light"
          }
        }
      ]
    },
    {
      "cell_type": "code",
      "metadata": {
        "id": "KHnTJ2lnQygJ"
      },
      "source": [
        "three_tensors[1]"
      ],
      "execution_count": null,
      "outputs": []
    },
    {
      "cell_type": "code",
      "metadata": {
        "id": "E2Nos2R5RJbW"
      },
      "source": [
        "stacked_sevens = torch.stack(seven_tensors).float()/255"
      ],
      "execution_count": 29,
      "outputs": []
    },
    {
      "cell_type": "code",
      "metadata": {
        "id": "-kXL4fmeRRop"
      },
      "source": [
        "stacked_threes = torch.stack(three_tensors).float()/255"
      ],
      "execution_count": 30,
      "outputs": []
    },
    {
      "cell_type": "code",
      "metadata": {
        "colab": {
          "base_uri": "https://localhost:8080/"
        },
        "id": "xkq40y-9RVTP",
        "outputId": "e22c7581-baa7-4e30-b597-3bbbb60a10b2"
      },
      "source": [
        "stacked_threes.shape"
      ],
      "execution_count": 31,
      "outputs": [
        {
          "output_type": "execute_result",
          "data": {
            "text/plain": [
              "torch.Size([6131, 28, 28])"
            ]
          },
          "metadata": {},
          "execution_count": 31
        }
      ]
    },
    {
      "cell_type": "code",
      "metadata": {
        "id": "bZkuP1HPRbgw"
      },
      "source": [
        "stacked_threes"
      ],
      "execution_count": null,
      "outputs": []
    },
    {
      "cell_type": "code",
      "metadata": {
        "colab": {
          "base_uri": "https://localhost:8080/",
          "height": 102
        },
        "id": "EXvgNv8sRhSq",
        "outputId": "194f4d46-adfb-42a7-e150-fd5da86dbe3c"
      },
      "source": [
        "show_image(stacked_threes[0])"
      ],
      "execution_count": 42,
      "outputs": [
        {
          "output_type": "execute_result",
          "data": {
            "text/plain": [
              "<matplotlib.axes._subplots.AxesSubplot at 0x7f03f66b5650>"
            ]
          },
          "metadata": {},
          "execution_count": 42
        },
        {
          "output_type": "display_data",
          "data": {
            "image/png": "[encoded data removed]",
            "text/plain": [
              "<Figure size 72x72 with 1 Axes>"
            ]
          },
          "metadata": {
            "needs_background": "light"
          }
        }
      ]
    },
    {
      "cell_type": "code",
      "metadata": {
        "colab": {
          "base_uri": "https://localhost:8080/",
          "height": 102
        },
        "id": "DwgONwgWRjWw",
        "outputId": "8acbe611-0ee1-41f2-e374-acca068e8c80"
      },
      "source": [
        "show_image(stacked_threes[0,:,:])"
      ],
      "execution_count": 41,
      "outputs": [
        {
          "output_type": "execute_result",
          "data": {
            "text/plain": [
              "<matplotlib.axes._subplots.AxesSubplot at 0x7f03f66e5e90>"
            ]
          },
          "metadata": {},
          "execution_count": 41
        },
        {
          "output_type": "display_data",
          "data": {
            "image/png": "[encoded data removed]",
            "text/plain": [
              "<Figure size 72x72 with 1 Axes>"
            ]
          },
          "metadata": {
            "needs_background": "light"
          }
        }
      ]
    },
    {
      "cell_type": "code",
      "metadata": {
        "colab": {
          "base_uri": "https://localhost:8080/"
        },
        "id": "9Ok1x_DiRnuZ",
        "outputId": "31cb59fe-6cad-4bdb-9fc5-9b3e620592fc"
      },
      "source": [
        "len(stacked_threes.shape)"
      ],
      "execution_count": 43,
      "outputs": [
        {
          "output_type": "execute_result",
          "data": {
            "text/plain": [
              "3"
            ]
          },
          "metadata": {},
          "execution_count": 43
        }
      ]
    },
    {
      "cell_type": "code",
      "metadata": {
        "colab": {
          "base_uri": "https://localhost:8080/"
        },
        "id": "hnka39NAR7-N",
        "outputId": "47596c42-e9df-4c60-9f83-e42418222251"
      },
      "source": [
        "stacked_sevens.ndim"
      ],
      "execution_count": 44,
      "outputs": [
        {
          "output_type": "execute_result",
          "data": {
            "text/plain": [
              "3"
            ]
          },
          "metadata": {},
          "execution_count": 44
        }
      ]
    },
    {
      "cell_type": "code",
      "metadata": {
        "colab": {
          "base_uri": "https://localhost:8080/",
          "height": 102
        },
        "id": "X6KwaNd4SAdZ",
        "outputId": "4124d0cc-5159-4200-f439-803954244243"
      },
      "source": [
        "mean3 = stacked_threes.mean(0)\n",
        "show_image(mean3)"
      ],
      "execution_count": 46,
      "outputs": [
        {
          "output_type": "execute_result",
          "data": {
            "text/plain": [
              "<matplotlib.axes._subplots.AxesSubplot at 0x7f03f661c550>"
            ]
          },
          "metadata": {},
          "execution_count": 46
        },
        {
          "output_type": "display_data",
          "data": {
            "image/png": "[encoded data removed]",
            "text/plain": [
              "<Figure size 72x72 with 1 Axes>"
            ]
          },
          "metadata": {
            "needs_background": "light"
          }
        }
      ]
    },
    {
      "cell_type": "code",
      "metadata": {
        "colab": {
          "base_uri": "https://localhost:8080/",
          "height": 630
        },
        "id": "jb2_LQ5YSHrb",
        "outputId": "8f946b02-b4f5-40ab-e453-c87c5b1dcb2c"
      },
      "source": [
        "df = pd.DataFrame(mean3)\n",
        "df.style.set_properties(**{'font-size':'1pt'}).background_gradient('Greys')"
      ],
      "execution_count": 49,
      "outputs": [
        {
          "output_type": "execute_result",
          "data": {
            "text/html": [
              "<style  type=\"text/css\" >\n",
              "#T_d64d482a_188b_11ec_b231_0242ac1c0002row0_col0,#T_d64d482a_188b_11ec_b231_0242ac1c0002row0_col1,#T_d64d482a_188b_11ec_b231_0242ac1c0002row0_col2,#T_d64d482a_188b_11ec_b231_0242ac1c0002row0_col3,#T_d64d482a_188b_11ec_b231_0242ac1c0002row0_col4,#T_d64d482a_188b_11ec_b231_0242ac1c0002row0_col5,#T_d64d482a_188b_11ec_b231_0242ac1c0002row0_col6,#T_d64d482a_188b_11ec_b231_0242ac1c0002row0_col7,#T_d64d482a_188b_11ec_b231_0242ac1c0002row0_col8,#T_d64d482a_188b_11ec_b231_0242ac1c0002row0_col9,#T_d64d482a_188b_11ec_b231_0242ac1c0002row0_col10,#T_d64d482a_188b_11ec_b231_0242ac1c0002row0_col11,#T_d64d482a_188b_11ec_b231_0242ac1c0002row0_col12,#T_d64d482a_188b_11ec_b231_0242ac1c0002row0_col13,#T_d64d482a_188b_11ec_b231_0242ac1c0002row0_col14,#T_d64d482a_188b_11ec_b231_0242ac1c0002row0_col15,#T_d64d482a_188b_11ec_b231_0242ac1c0002row0_col16,#T_d64d482a_188b_11ec_b231_0242ac1c0002row0_col17,#T_d64d482a_188b_11ec_b231_0242ac1c0002row0_col18,#T_d64d482a_188b_11ec_b231_0242ac1c0002row0_col19,#T_d64d482a_188b_11ec_b231_0242ac1c0002row0_col20,#T_d64d482a_188b_11ec_b231_0242ac1c0002row0_col21,#T_d64d482a_188b_11ec_b231_0242ac1c0002row0_col22,#T_d64d482a_188b_11ec_b231_0242ac1c0002row0_col23,#T_d64d482a_188b_11ec_b231_0242ac1c0002row0_col24,#T_d64d482a_188b_11ec_b231_0242ac1c0002row0_col25,#T_d64d482a_188b_11ec_b231_0242ac1c0002row0_col26,#T_d64d482a_188b_11ec_b231_0242ac1c0002row0_col27,#T_d64d482a_188b_11ec_b231_0242ac1c0002row1_col0,#T_d64d482a_188b_11ec_b231_0242ac1c0002row1_col1,#T_d64d482a_188b_11ec_b231_0242ac1c0002row1_col2,#T_d64d482a_188b_11ec_b231_0242ac1c0002row1_col3,#T_d64d482a_188b_11ec_b231_0242ac1c0002row1_col4,#T_d64d482a_188b_11ec_b231_0242ac1c0002row1_col5,#T_d64d482a_188b_11ec_b231_0242ac1c0002row1_col6,#T_d64d482a_188b_11ec_b231_0242ac1c0002row1_col7,#T_d64d482a_188b_11ec_b231_0242ac1c0002row1_col8,#T_d64d482a_188b_11ec_b231_0242ac1c0002row1_col9,#T_d64d482a_188b_11ec_b231_0242ac1c0002row1_col10,#T_d64d482a_188b_11ec_b231_0242ac1c0002row1_col11,#T_d64d482a_188b_11ec_b231_0242ac1c0002row1_col12,#T_d64d482a_188b_11ec_b231_0242ac1c0002row1_col13,#T_d64d482a_188b_11ec_b231_0242ac1c0002row1_col14,#T_d64d482a_188b_11ec_b231_0242ac1c0002row1_col15,#T_d64d482a_188b_11ec_b231_0242ac1c0002row1_col16,#T_d64d482a_188b_11ec_b231_0242ac1c0002row1_col17,#T_d64d482a_188b_11ec_b231_0242ac1c0002row1_col18,#T_d64d482a_188b_11ec_b231_0242ac1c0002row1_col19,#T_d64d482a_188b_11ec_b231_0242ac1c0002row1_col20,#T_d64d482a_188b_11ec_b231_0242ac1c0002row1_col21,#T_d64d482a_188b_11ec_b231_0242ac1c0002row1_col22,#T_d64d482a_188b_11ec_b231_0242ac1c0002row1_col23,#T_d64d482a_188b_11ec_b231_0242ac1c0002row1_col24,#T_d64d482a_188b_11ec_b231_0242ac1c0002row1_col25,#T_d64d482a_188b_11ec_b231_0242ac1c0002row1_col26,#T_d64d482a_188b_11ec_b231_0242ac1c0002row1_col27,#T_d64d482a_188b_11ec_b231_0242ac1c0002row2_col0,#T_d64d482a_188b_11ec_b231_0242ac1c0002row2_col1,#T_d64d482a_188b_11ec_b231_0242ac1c0002row2_col2,#T_d64d482a_188b_11ec_b231_0242ac1c0002row2_col3,#T_d64d482a_188b_11ec_b231_0242ac1c0002row2_col4,#T_d64d482a_188b_11ec_b231_0242ac1c0002row2_col5,#T_d64d482a_188b_11ec_b231_0242ac1c0002row2_col6,#T_d64d482a_188b_11ec_b231_0242ac1c0002row2_col7,#T_d64d482a_188b_11ec_b231_0242ac1c0002row2_col8,#T_d64d482a_188b_11ec_b231_0242ac1c0002row2_col9,#T_d64d482a_188b_11ec_b231_0242ac1c0002row2_col10,#T_d64d482a_188b_11ec_b231_0242ac1c0002row2_col11,#T_d64d482a_188b_11ec_b231_0242ac1c0002row2_col12,#T_d64d482a_188b_11ec_b231_0242ac1c0002row2_col13,#T_d64d482a_188b_11ec_b231_0242ac1c0002row2_col14,#T_d64d482a_188b_11ec_b231_0242ac1c0002row2_col15,#T_d64d482a_188b_11ec_b231_0242ac1c0002row2_col16,#T_d64d482a_188b_11ec_b231_0242ac1c0002row2_col17,#T_d64d482a_188b_11ec_b231_0242ac1c0002row2_col18,#T_d64d482a_188b_11ec_b231_0242ac1c0002row2_col19,#T_d64d482a_188b_11ec_b231_0242ac1c0002row2_col20,#T_d64d482a_188b_11ec_b231_0242ac1c0002row2_col21,#T_d64d482a_188b_11ec_b231_0242ac1c0002row2_col22,#T_d64d482a_188b_11ec_b231_0242ac1c0002row2_col23,#T_d64d482a_188b_11ec_b231_0242ac1c0002row2_col24,#T_d64d482a_188b_11ec_b231_0242ac1c0002row2_col25,#T_d64d482a_188b_11ec_b231_0242ac1c0002row2_col26,#T_d64d482a_188b_11ec_b231_0242ac1c0002row2_col27,#T_d64d482a_188b_11ec_b231_0242ac1c0002row3_col0,#T_d64d482a_188b_11ec_b231_0242ac1c0002row3_col1,#T_d64d482a_188b_11ec_b231_0242ac1c0002row3_col2,#T_d64d482a_188b_11ec_b231_0242ac1c0002row3_col3,#T_d64d482a_188b_11ec_b231_0242ac1c0002row3_col4,#T_d64d482a_188b_11ec_b231_0242ac1c0002row3_col5,#T_d64d482a_188b_11ec_b231_0242ac1c0002row3_col6,#T_d64d482a_188b_11ec_b231_0242ac1c0002row3_col7,#T_d64d482a_188b_11ec_b231_0242ac1c0002row3_col8,#T_d64d482a_188b_11ec_b231_0242ac1c0002row3_col21,#T_d64d482a_188b_11ec_b231_0242ac1c0002row3_col22,#T_d64d482a_188b_11ec_b231_0242ac1c0002row3_col23,#T_d64d482a_188b_11ec_b231_0242ac1c0002row3_col24,#T_d64d482a_188b_11ec_b231_0242ac1c0002row3_col25,#T_d64d482a_188b_11ec_b231_0242ac1c0002row3_col26,#T_d64d482a_188b_11ec_b231_0242ac1c0002row3_col27,#T_d64d482a_188b_11ec_b231_0242ac1c0002row4_col0,#T_d64d482a_188b_11ec_b231_0242ac1c0002row4_col2,#T_d64d482a_188b_11ec_b231_0242ac1c0002row4_col3,#T_d64d482a_188b_11ec_b231_0242ac1c0002row4_col24,#T_d64d482a_188b_11ec_b231_0242ac1c0002row4_col25,#T_d64d482a_188b_11ec_b231_0242ac1c0002row4_col26,#T_d64d482a_188b_11ec_b231_0242ac1c0002row4_col27,#T_d64d482a_188b_11ec_b231_0242ac1c0002row5_col0,#T_d64d482a_188b_11ec_b231_0242ac1c0002row5_col1,#T_d64d482a_188b_11ec_b231_0242ac1c0002row5_col2,#T_d64d482a_188b_11ec_b231_0242ac1c0002row5_col25,#T_d64d482a_188b_11ec_b231_0242ac1c0002row5_col26,#T_d64d482a_188b_11ec_b231_0242ac1c0002row5_col27,#T_d64d482a_188b_11ec_b231_0242ac1c0002row6_col0,#T_d64d482a_188b_11ec_b231_0242ac1c0002row6_col25,#T_d64d482a_188b_11ec_b231_0242ac1c0002row6_col26,#T_d64d482a_188b_11ec_b231_0242ac1c0002row6_col27,#T_d64d482a_188b_11ec_b231_0242ac1c0002row7_col0,#T_d64d482a_188b_11ec_b231_0242ac1c0002row7_col25,#T_d64d482a_188b_11ec_b231_0242ac1c0002row7_col26,#T_d64d482a_188b_11ec_b231_0242ac1c0002row7_col27,#T_d64d482a_188b_11ec_b231_0242ac1c0002row8_col0,#T_d64d482a_188b_11ec_b231_0242ac1c0002row8_col25,#T_d64d482a_188b_11ec_b231_0242ac1c0002row8_col26,#T_d64d482a_188b_11ec_b231_0242ac1c0002row8_col27,#T_d64d482a_188b_11ec_b231_0242ac1c0002row9_col0,#T_d64d482a_188b_11ec_b231_0242ac1c0002row9_col26,#T_d64d482a_188b_11ec_b231_0242ac1c0002row9_col27,#T_d64d482a_188b_11ec_b231_0242ac1c0002row10_col0,#T_d64d482a_188b_11ec_b231_0242ac1c0002row10_col26,#T_d64d482a_188b_11ec_b231_0242ac1c0002row10_col27,#T_d64d482a_188b_11ec_b231_0242ac1c0002row11_col0,#T_d64d482a_188b_11ec_b231_0242ac1c0002row11_col24,#T_d64d482a_188b_11ec_b231_0242ac1c0002row11_col26,#T_d64d482a_188b_11ec_b231_0242ac1c0002row11_col27,#T_d64d482a_188b_11ec_b231_0242ac1c0002row12_col0,#T_d64d482a_188b_11ec_b231_0242ac1c0002row12_col2,#T_d64d482a_188b_11ec_b231_0242ac1c0002row12_col26,#T_d64d482a_188b_11ec_b231_0242ac1c0002row12_col27,#T_d64d482a_188b_11ec_b231_0242ac1c0002row13_col0,#T_d64d482a_188b_11ec_b231_0242ac1c0002row13_col1,#T_d64d482a_188b_11ec_b231_0242ac1c0002row13_col2,#T_d64d482a_188b_11ec_b231_0242ac1c0002row13_col26,#T_d64d482a_188b_11ec_b231_0242ac1c0002row13_col27,#T_d64d482a_188b_11ec_b231_0242ac1c0002row14_col0,#T_d64d482a_188b_11ec_b231_0242ac1c0002row14_col2,#T_d64d482a_188b_11ec_b231_0242ac1c0002row14_col26,#T_d64d482a_188b_11ec_b231_0242ac1c0002row14_col27,#T_d64d482a_188b_11ec_b231_0242ac1c0002row15_col0,#T_d64d482a_188b_11ec_b231_0242ac1c0002row15_col27,#T_d64d482a_188b_11ec_b231_0242ac1c0002row16_col0,#T_d64d482a_188b_11ec_b231_0242ac1c0002row16_col27,#T_d64d482a_188b_11ec_b231_0242ac1c0002row17_col0,#T_d64d482a_188b_11ec_b231_0242ac1c0002row17_col25,#T_d64d482a_188b_11ec_b231_0242ac1c0002row17_col26,#T_d64d482a_188b_11ec_b231_0242ac1c0002row17_col27,#T_d64d482a_188b_11ec_b231_0242ac1c0002row18_col0,#T_d64d482a_188b_11ec_b231_0242ac1c0002row18_col25,#T_d64d482a_188b_11ec_b231_0242ac1c0002row18_col26,#T_d64d482a_188b_11ec_b231_0242ac1c0002row18_col27,#T_d64d482a_188b_11ec_b231_0242ac1c0002row19_col0,#T_d64d482a_188b_11ec_b231_0242ac1c0002row19_col26,#T_d64d482a_188b_11ec_b231_0242ac1c0002row19_col27,#T_d64d482a_188b_11ec_b231_0242ac1c0002row20_col0,#T_d64d482a_188b_11ec_b231_0242ac1c0002row20_col27,#T_d64d482a_188b_11ec_b231_0242ac1c0002row21_col0,#T_d64d482a_188b_11ec_b231_0242ac1c0002row21_col25,#T_d64d482a_188b_11ec_b231_0242ac1c0002row21_col27,#T_d64d482a_188b_11ec_b231_0242ac1c0002row22_col0,#T_d64d482a_188b_11ec_b231_0242ac1c0002row22_col25,#T_d64d482a_188b_11ec_b231_0242ac1c0002row22_col27,#T_d64d482a_188b_11ec_b231_0242ac1c0002row23_col0,#T_d64d482a_188b_11ec_b231_0242ac1c0002row23_col1,#T_d64d482a_188b_11ec_b231_0242ac1c0002row23_col27,#T_d64d482a_188b_11ec_b231_0242ac1c0002row24_col0,#T_d64d482a_188b_11ec_b231_0242ac1c0002row24_col1,#T_d64d482a_188b_11ec_b231_0242ac1c0002row24_col22,#T_d64d482a_188b_11ec_b231_0242ac1c0002row24_col23,#T_d64d482a_188b_11ec_b231_0242ac1c0002row24_col24,#T_d64d482a_188b_11ec_b231_0242ac1c0002row24_col25,#T_d64d482a_188b_11ec_b231_0242ac1c0002row24_col26,#T_d64d482a_188b_11ec_b231_0242ac1c0002row24_col27,#T_d64d482a_188b_11ec_b231_0242ac1c0002row25_col0,#T_d64d482a_188b_11ec_b231_0242ac1c0002row25_col1,#T_d64d482a_188b_11ec_b231_0242ac1c0002row25_col2,#T_d64d482a_188b_11ec_b231_0242ac1c0002row25_col3,#T_d64d482a_188b_11ec_b231_0242ac1c0002row25_col19,#T_d64d482a_188b_11ec_b231_0242ac1c0002row25_col20,#T_d64d482a_188b_11ec_b231_0242ac1c0002row25_col21,#T_d64d482a_188b_11ec_b231_0242ac1c0002row25_col22,#T_d64d482a_188b_11ec_b231_0242ac1c0002row25_col23,#T_d64d482a_188b_11ec_b231_0242ac1c0002row25_col24,#T_d64d482a_188b_11ec_b231_0242ac1c0002row25_col25,#T_d64d482a_188b_11ec_b231_0242ac1c0002row25_col26,#T_d64d482a_188b_11ec_b231_0242ac1c0002row25_col27,#T_d64d482a_188b_11ec_b231_0242ac1c0002row26_col0,#T_d64d482a_188b_11ec_b231_0242ac1c0002row26_col1,#T_d64d482a_188b_11ec_b231_0242ac1c0002row26_col2,#T_d64d482a_188b_11ec_b231_0242ac1c0002row26_col3,#T_d64d482a_188b_11ec_b231_0242ac1c0002row26_col4,#T_d64d482a_188b_11ec_b231_0242ac1c0002row26_col5,#T_d64d482a_188b_11ec_b231_0242ac1c0002row26_col6,#T_d64d482a_188b_11ec_b231_0242ac1c0002row26_col7,#T_d64d482a_188b_11ec_b231_0242ac1c0002row26_col8,#T_d64d482a_188b_11ec_b231_0242ac1c0002row26_col9,#T_d64d482a_188b_11ec_b231_0242ac1c0002row26_col10,#T_d64d482a_188b_11ec_b231_0242ac1c0002row26_col11,#T_d64d482a_188b_11ec_b231_0242ac1c0002row26_col12,#T_d64d482a_188b_11ec_b231_0242ac1c0002row26_col13,#T_d64d482a_188b_11ec_b231_0242ac1c0002row26_col14,#T_d64d482a_188b_11ec_b231_0242ac1c0002row26_col15,#T_d64d482a_188b_11ec_b231_0242ac1c0002row26_col16,#T_d64d482a_188b_11ec_b231_0242ac1c0002row26_col17,#T_d64d482a_188b_11ec_b231_0242ac1c0002row26_col18,#T_d64d482a_188b_11ec_b231_0242ac1c0002row26_col19,#T_d64d482a_188b_11ec_b231_0242ac1c0002row26_col20,#T_d64d482a_188b_11ec_b231_0242ac1c0002row26_col21,#T_d64d482a_188b_11ec_b231_0242ac1c0002row26_col22,#T_d64d482a_188b_11ec_b231_0242ac1c0002row26_col23,#T_d64d482a_188b_11ec_b231_0242ac1c0002row26_col24,#T_d64d482a_188b_11ec_b231_0242ac1c0002row26_col25,#T_d64d482a_188b_11ec_b231_0242ac1c0002row26_col26,#T_d64d482a_188b_11ec_b231_0242ac1c0002row26_col27,#T_d64d482a_188b_11ec_b231_0242ac1c0002row27_col0,#T_d64d482a_188b_11ec_b231_0242ac1c0002row27_col1,#T_d64d482a_188b_11ec_b231_0242ac1c0002row27_col2,#T_d64d482a_188b_11ec_b231_0242ac1c0002row27_col3,#T_d64d482a_188b_11ec_b231_0242ac1c0002row27_col4,#T_d64d482a_188b_11ec_b231_0242ac1c0002row27_col5,#T_d64d482a_188b_11ec_b231_0242ac1c0002row27_col6,#T_d64d482a_188b_11ec_b231_0242ac1c0002row27_col7,#T_d64d482a_188b_11ec_b231_0242ac1c0002row27_col8,#T_d64d482a_188b_11ec_b231_0242ac1c0002row27_col9,#T_d64d482a_188b_11ec_b231_0242ac1c0002row27_col10,#T_d64d482a_188b_11ec_b231_0242ac1c0002row27_col11,#T_d64d482a_188b_11ec_b231_0242ac1c0002row27_col12,#T_d64d482a_188b_11ec_b231_0242ac1c0002row27_col13,#T_d64d482a_188b_11ec_b231_0242ac1c0002row27_col14,#T_d64d482a_188b_11ec_b231_0242ac1c0002row27_col15,#T_d64d482a_188b_11ec_b231_0242ac1c0002row27_col16,#T_d64d482a_188b_11ec_b231_0242ac1c0002row27_col17,#T_d64d482a_188b_11ec_b231_0242ac1c0002row27_col18,#T_d64d482a_188b_11ec_b231_0242ac1c0002row27_col19,#T_d64d482a_188b_11ec_b231_0242ac1c0002row27_col20,#T_d64d482a_188b_11ec_b231_0242ac1c0002row27_col21,#T_d64d482a_188b_11ec_b231_0242ac1c0002row27_col22,#T_d64d482a_188b_11ec_b231_0242ac1c0002row27_col23,#T_d64d482a_188b_11ec_b231_0242ac1c0002row27_col24,#T_d64d482a_188b_11ec_b231_0242ac1c0002row27_col25,#T_d64d482a_188b_11ec_b231_0242ac1c0002row27_col26,#T_d64d482a_188b_11ec_b231_0242ac1c0002row27_col27{\n",
              "            font-size:  1pt;\n",
              "            background-color:  #ffffff;\n",
              "            color:  #000000;\n",
              "        }#T_d64d482a_188b_11ec_b231_0242ac1c0002row3_col9,#T_d64d482a_188b_11ec_b231_0242ac1c0002row3_col10,#T_d64d482a_188b_11ec_b231_0242ac1c0002row3_col19,#T_d64d482a_188b_11ec_b231_0242ac1c0002row3_col20,#T_d64d482a_188b_11ec_b231_0242ac1c0002row4_col4,#T_d64d482a_188b_11ec_b231_0242ac1c0002row4_col23,#T_d64d482a_188b_11ec_b231_0242ac1c0002row6_col1,#T_d64d482a_188b_11ec_b231_0242ac1c0002row10_col24,#T_d64d482a_188b_11ec_b231_0242ac1c0002row13_col3,#T_d64d482a_188b_11ec_b231_0242ac1c0002row14_col3,#T_d64d482a_188b_11ec_b231_0242ac1c0002row16_col25,#T_d64d482a_188b_11ec_b231_0242ac1c0002row22_col24,#T_d64d482a_188b_11ec_b231_0242ac1c0002row23_col23,#T_d64d482a_188b_11ec_b231_0242ac1c0002row24_col20,#T_d64d482a_188b_11ec_b231_0242ac1c0002row24_col21,#T_d64d482a_188b_11ec_b231_0242ac1c0002row25_col4,#T_d64d482a_188b_11ec_b231_0242ac1c0002row25_col17,#T_d64d482a_188b_11ec_b231_0242ac1c0002row25_col18{\n",
              "            font-size:  1pt;\n",
              "            background-color:  #fefefe;\n",
              "            color:  #000000;\n",
              "        }#T_d64d482a_188b_11ec_b231_0242ac1c0002row3_col11,#T_d64d482a_188b_11ec_b231_0242ac1c0002row3_col18,#T_d64d482a_188b_11ec_b231_0242ac1c0002row12_col1,#T_d64d482a_188b_11ec_b231_0242ac1c0002row23_col22,#T_d64d482a_188b_11ec_b231_0242ac1c0002row25_col5,#T_d64d482a_188b_11ec_b231_0242ac1c0002row25_col16{\n",
              "            font-size:  1pt;\n",
              "            background-color:  #fdfdfd;\n",
              "            color:  #000000;\n",
              "        }#T_d64d482a_188b_11ec_b231_0242ac1c0002row3_col12,#T_d64d482a_188b_11ec_b231_0242ac1c0002row3_col15,#T_d64d482a_188b_11ec_b231_0242ac1c0002row3_col16,#T_d64d482a_188b_11ec_b231_0242ac1c0002row3_col17,#T_d64d482a_188b_11ec_b231_0242ac1c0002row6_col2,#T_d64d482a_188b_11ec_b231_0242ac1c0002row9_col24,#T_d64d482a_188b_11ec_b231_0242ac1c0002row12_col24,#T_d64d482a_188b_11ec_b231_0242ac1c0002row13_col4,#T_d64d482a_188b_11ec_b231_0242ac1c0002row13_col5,#T_d64d482a_188b_11ec_b231_0242ac1c0002row14_col4,#T_d64d482a_188b_11ec_b231_0242ac1c0002row15_col25,#T_d64d482a_188b_11ec_b231_0242ac1c0002row22_col26,#T_d64d482a_188b_11ec_b231_0242ac1c0002row25_col6,#T_d64d482a_188b_11ec_b231_0242ac1c0002row25_col7,#T_d64d482a_188b_11ec_b231_0242ac1c0002row25_col15{\n",
              "            font-size:  1pt;\n",
              "            background-color:  #fcfcfc;\n",
              "            color:  #000000;\n",
              "        }#T_d64d482a_188b_11ec_b231_0242ac1c0002row3_col13,#T_d64d482a_188b_11ec_b231_0242ac1c0002row3_col14,#T_d64d482a_188b_11ec_b231_0242ac1c0002row4_col5,#T_d64d482a_188b_11ec_b231_0242ac1c0002row5_col3,#T_d64d482a_188b_11ec_b231_0242ac1c0002row11_col2,#T_d64d482a_188b_11ec_b231_0242ac1c0002row12_col3,#T_d64d482a_188b_11ec_b231_0242ac1c0002row12_col4,#T_d64d482a_188b_11ec_b231_0242ac1c0002row12_col23,#T_d64d482a_188b_11ec_b231_0242ac1c0002row14_col5,#T_d64d482a_188b_11ec_b231_0242ac1c0002row23_col24,#T_d64d482a_188b_11ec_b231_0242ac1c0002row24_col19,#T_d64d482a_188b_11ec_b231_0242ac1c0002row25_col8,#T_d64d482a_188b_11ec_b231_0242ac1c0002row25_col14{\n",
              "            font-size:  1pt;\n",
              "            background-color:  #fbfbfb;\n",
              "            color:  #000000;\n",
              "        }#T_d64d482a_188b_11ec_b231_0242ac1c0002row4_col1,#T_d64d482a_188b_11ec_b231_0242ac1c0002row4_col6,#T_d64d482a_188b_11ec_b231_0242ac1c0002row8_col2,#T_d64d482a_188b_11ec_b231_0242ac1c0002row11_col23,#T_d64d482a_188b_11ec_b231_0242ac1c0002row13_col6,#T_d64d482a_188b_11ec_b231_0242ac1c0002row15_col3,#T_d64d482a_188b_11ec_b231_0242ac1c0002row22_col23,#T_d64d482a_188b_11ec_b231_0242ac1c0002row24_col2,#T_d64d482a_188b_11ec_b231_0242ac1c0002row25_col10,#T_d64d482a_188b_11ec_b231_0242ac1c0002row25_col11,#T_d64d482a_188b_11ec_b231_0242ac1c0002row25_col12{\n",
              "            font-size:  1pt;\n",
              "            background-color:  #f9f9f9;\n",
              "            color:  #000000;\n",
              "        }#T_d64d482a_188b_11ec_b231_0242ac1c0002row4_col7,#T_d64d482a_188b_11ec_b231_0242ac1c0002row5_col4,#T_d64d482a_188b_11ec_b231_0242ac1c0002row11_col3,#T_d64d482a_188b_11ec_b231_0242ac1c0002row11_col4,#T_d64d482a_188b_11ec_b231_0242ac1c0002row11_col5,#T_d64d482a_188b_11ec_b231_0242ac1c0002row11_col7,#T_d64d482a_188b_11ec_b231_0242ac1c0002row13_col23,#T_d64d482a_188b_11ec_b231_0242ac1c0002row18_col11,#T_d64d482a_188b_11ec_b231_0242ac1c0002row18_col13{\n",
              "            font-size:  1pt;\n",
              "            background-color:  #f6f6f6;\n",
              "            color:  #000000;\n",
              "        }#T_d64d482a_188b_11ec_b231_0242ac1c0002row4_col8,#T_d64d482a_188b_11ec_b231_0242ac1c0002row11_col1,#T_d64d482a_188b_11ec_b231_0242ac1c0002row15_col7{\n",
              "            font-size:  1pt;\n",
              "            background-color:  #f2f2f2;\n",
              "            color:  #000000;\n",
              "        }#T_d64d482a_188b_11ec_b231_0242ac1c0002row4_col9,#T_d64d482a_188b_11ec_b231_0242ac1c0002row5_col5,#T_d64d482a_188b_11ec_b231_0242ac1c0002row8_col24,#T_d64d482a_188b_11ec_b231_0242ac1c0002row10_col10,#T_d64d482a_188b_11ec_b231_0242ac1c0002row16_col3,#T_d64d482a_188b_11ec_b231_0242ac1c0002row17_col7,#T_d64d482a_188b_11ec_b231_0242ac1c0002row19_col13,#T_d64d482a_188b_11ec_b231_0242ac1c0002row23_col19{\n",
              "            font-size:  1pt;\n",
              "            background-color:  #ececec;\n",
              "            color:  #000000;\n",
              "        }#T_d64d482a_188b_11ec_b231_0242ac1c0002row4_col10,#T_d64d482a_188b_11ec_b231_0242ac1c0002row14_col23,#T_d64d482a_188b_11ec_b231_0242ac1c0002row16_col2,#T_d64d482a_188b_11ec_b231_0242ac1c0002row16_col10,#T_d64d482a_188b_11ec_b231_0242ac1c0002row24_col6{\n",
              "            font-size:  1pt;\n",
              "            background-color:  #e1e1e1;\n",
              "            color:  #000000;\n",
              "        }#T_d64d482a_188b_11ec_b231_0242ac1c0002row4_col11,#T_d64d482a_188b_11ec_b231_0242ac1c0002row9_col9{\n",
              "            font-size:  1pt;\n",
              "            background-color:  #d6d6d6;\n",
              "            color:  #000000;\n",
              "        }#T_d64d482a_188b_11ec_b231_0242ac1c0002row4_col12,#T_d64d482a_188b_11ec_b231_0242ac1c0002row15_col1{\n",
              "            font-size:  1pt;\n",
              "            background-color:  #cccccc;\n",
              "            color:  #000000;\n",
              "        }#T_d64d482a_188b_11ec_b231_0242ac1c0002row4_col13,#T_d64d482a_188b_11ec_b231_0242ac1c0002row4_col14,#T_d64d482a_188b_11ec_b231_0242ac1c0002row6_col5{\n",
              "            font-size:  1pt;\n",
              "            background-color:  #c9c9c9;\n",
              "            color:  #000000;\n",
              "        }#T_d64d482a_188b_11ec_b231_0242ac1c0002row4_col15{\n",
              "            font-size:  1pt;\n",
              "            background-color:  #cdcdcd;\n",
              "            color:  #000000;\n",
              "        }#T_d64d482a_188b_11ec_b231_0242ac1c0002row4_col16{\n",
              "            font-size:  1pt;\n",
              "            background-color:  #d3d3d3;\n",
              "            color:  #000000;\n",
              "        }#T_d64d482a_188b_11ec_b231_0242ac1c0002row4_col17,#T_d64d482a_188b_11ec_b231_0242ac1c0002row5_col21,#T_d64d482a_188b_11ec_b231_0242ac1c0002row8_col3,#T_d64d482a_188b_11ec_b231_0242ac1c0002row9_col10,#T_d64d482a_188b_11ec_b231_0242ac1c0002row12_col9,#T_d64d482a_188b_11ec_b231_0242ac1c0002row16_col14{\n",
              "            font-size:  1pt;\n",
              "            background-color:  #dadada;\n",
              "            color:  #000000;\n",
              "        }#T_d64d482a_188b_11ec_b231_0242ac1c0002row4_col18,#T_d64d482a_188b_11ec_b231_0242ac1c0002row15_col8,#T_d64d482a_188b_11ec_b231_0242ac1c0002row19_col10{\n",
              "            font-size:  1pt;\n",
              "            background-color:  #e5e5e5;\n",
              "            color:  #000000;\n",
              "        }#T_d64d482a_188b_11ec_b231_0242ac1c0002row4_col19,#T_d64d482a_188b_11ec_b231_0242ac1c0002row13_col22,#T_d64d482a_188b_11ec_b231_0242ac1c0002row14_col7,#T_d64d482a_188b_11ec_b231_0242ac1c0002row16_col8,#T_d64d482a_188b_11ec_b231_0242ac1c0002row17_col14,#T_d64d482a_188b_11ec_b231_0242ac1c0002row18_col9,#T_d64d482a_188b_11ec_b231_0242ac1c0002row24_col4{\n",
              "            font-size:  1pt;\n",
              "            background-color:  #f0f0f0;\n",
              "            color:  #000000;\n",
              "        }#T_d64d482a_188b_11ec_b231_0242ac1c0002row4_col20,#T_d64d482a_188b_11ec_b231_0242ac1c0002row11_col8,#T_d64d482a_188b_11ec_b231_0242ac1c0002row13_col24,#T_d64d482a_188b_11ec_b231_0242ac1c0002row21_col24,#T_d64d482a_188b_11ec_b231_0242ac1c0002row23_col20,#T_d64d482a_188b_11ec_b231_0242ac1c0002row24_col3{\n",
              "            font-size:  1pt;\n",
              "            background-color:  #f5f5f5;\n",
              "            color:  #000000;\n",
              "        }#T_d64d482a_188b_11ec_b231_0242ac1c0002row4_col21,#T_d64d482a_188b_11ec_b231_0242ac1c0002row9_col2,#T_d64d482a_188b_11ec_b231_0242ac1c0002row14_col6,#T_d64d482a_188b_11ec_b231_0242ac1c0002row15_col4,#T_d64d482a_188b_11ec_b231_0242ac1c0002row23_col25{\n",
              "            font-size:  1pt;\n",
              "            background-color:  #f8f8f8;\n",
              "            color:  #000000;\n",
              "        }#T_d64d482a_188b_11ec_b231_0242ac1c0002row4_col22,#T_d64d482a_188b_11ec_b231_0242ac1c0002row7_col2,#T_d64d482a_188b_11ec_b231_0242ac1c0002row10_col2,#T_d64d482a_188b_11ec_b231_0242ac1c0002row12_col5,#T_d64d482a_188b_11ec_b231_0242ac1c0002row12_col6,#T_d64d482a_188b_11ec_b231_0242ac1c0002row23_col21,#T_d64d482a_188b_11ec_b231_0242ac1c0002row25_col9,#T_d64d482a_188b_11ec_b231_0242ac1c0002row25_col13{\n",
              "            font-size:  1pt;\n",
              "            background-color:  #fafafa;\n",
              "            color:  #000000;\n",
              "        }#T_d64d482a_188b_11ec_b231_0242ac1c0002row5_col6,#T_d64d482a_188b_11ec_b231_0242ac1c0002row6_col24,#T_d64d482a_188b_11ec_b231_0242ac1c0002row11_col10,#T_d64d482a_188b_11ec_b231_0242ac1c0002row13_col8{\n",
              "            font-size:  1pt;\n",
              "            background-color:  #e0e0e0;\n",
              "            color:  #000000;\n",
              "        }#T_d64d482a_188b_11ec_b231_0242ac1c0002row5_col7,#T_d64d482a_188b_11ec_b231_0242ac1c0002row9_col5,#T_d64d482a_188b_11ec_b231_0242ac1c0002row24_col8{\n",
              "            font-size:  1pt;\n",
              "            background-color:  #cecece;\n",
              "            color:  #000000;\n",
              "        }#T_d64d482a_188b_11ec_b231_0242ac1c0002row5_col8,#T_d64d482a_188b_11ec_b231_0242ac1c0002row8_col4{\n",
              "            font-size:  1pt;\n",
              "            background-color:  #bdbdbd;\n",
              "            color:  #000000;\n",
              "        }#T_d64d482a_188b_11ec_b231_0242ac1c0002row5_col9,#T_d64d482a_188b_11ec_b231_0242ac1c0002row8_col6,#T_d64d482a_188b_11ec_b231_0242ac1c0002row8_col14{\n",
              "            font-size:  1pt;\n",
              "            background-color:  #9f9f9f;\n",
              "            color:  #000000;\n",
              "        }#T_d64d482a_188b_11ec_b231_0242ac1c0002row5_col10,#T_d64d482a_188b_11ec_b231_0242ac1c0002row8_col15,#T_d64d482a_188b_11ec_b231_0242ac1c0002row22_col2{\n",
              "            font-size:  1pt;\n",
              "            background-color:  #7e7e7e;\n",
              "            color:  #000000;\n",
              "        }#T_d64d482a_188b_11ec_b231_0242ac1c0002row5_col11{\n",
              "            font-size:  1pt;\n",
              "            background-color:  #626262;\n",
              "            color:  #f1f1f1;\n",
              "        }#T_d64d482a_188b_11ec_b231_0242ac1c0002row5_col12,#T_d64d482a_188b_11ec_b231_0242ac1c0002row16_col23,#T_d64d482a_188b_11ec_b231_0242ac1c0002row21_col1,#T_d64d482a_188b_11ec_b231_0242ac1c0002row22_col5{\n",
              "            font-size:  1pt;\n",
              "            background-color:  #474747;\n",
              "            color:  #f1f1f1;\n",
              "        }#T_d64d482a_188b_11ec_b231_0242ac1c0002row5_col13,#T_d64d482a_188b_11ec_b231_0242ac1c0002row5_col14{\n",
              "            font-size:  1pt;\n",
              "            background-color:  #404040;\n",
              "            color:  #f1f1f1;\n",
              "        }#T_d64d482a_188b_11ec_b231_0242ac1c0002row5_col15{\n",
              "            font-size:  1pt;\n",
              "            background-color:  #4a4a4a;\n",
              "            color:  #f1f1f1;\n",
              "        }#T_d64d482a_188b_11ec_b231_0242ac1c0002row5_col16,#T_d64d482a_188b_11ec_b231_0242ac1c0002row9_col16{\n",
              "            font-size:  1pt;\n",
              "            background-color:  #535353;\n",
              "            color:  #f1f1f1;\n",
              "        }#T_d64d482a_188b_11ec_b231_0242ac1c0002row5_col17,#T_d64d482a_188b_11ec_b231_0242ac1c0002row15_col21{\n",
              "            font-size:  1pt;\n",
              "            background-color:  #656565;\n",
              "            color:  #f1f1f1;\n",
              "        }#T_d64d482a_188b_11ec_b231_0242ac1c0002row5_col18,#T_d64d482a_188b_11ec_b231_0242ac1c0002row18_col4{\n",
              "            font-size:  1pt;\n",
              "            background-color:  #8c8c8c;\n",
              "            color:  #000000;\n",
              "        }#T_d64d482a_188b_11ec_b231_0242ac1c0002row5_col19,#T_d64d482a_188b_11ec_b231_0242ac1c0002row20_col10{\n",
              "            font-size:  1pt;\n",
              "            background-color:  #b6b6b6;\n",
              "            color:  #000000;\n",
              "        }#T_d64d482a_188b_11ec_b231_0242ac1c0002row5_col20,#T_d64d482a_188b_11ec_b231_0242ac1c0002row9_col7,#T_d64d482a_188b_11ec_b231_0242ac1c0002row11_col20,#T_d64d482a_188b_11ec_b231_0242ac1c0002row17_col2,#T_d64d482a_188b_11ec_b231_0242ac1c0002row17_col3,#T_d64d482a_188b_11ec_b231_0242ac1c0002row20_col24{\n",
              "            font-size:  1pt;\n",
              "            background-color:  #cacaca;\n",
              "            color:  #000000;\n",
              "        }#T_d64d482a_188b_11ec_b231_0242ac1c0002row5_col22,#T_d64d482a_188b_11ec_b231_0242ac1c0002row10_col5,#T_d64d482a_188b_11ec_b231_0242ac1c0002row10_col6,#T_d64d482a_188b_11ec_b231_0242ac1c0002row21_col23,#T_d64d482a_188b_11ec_b231_0242ac1c0002row21_col26{\n",
              "            font-size:  1pt;\n",
              "            background-color:  #eaeaea;\n",
              "            color:  #000000;\n",
              "        }#T_d64d482a_188b_11ec_b231_0242ac1c0002row5_col23,#T_d64d482a_188b_11ec_b231_0242ac1c0002row11_col22,#T_d64d482a_188b_11ec_b231_0242ac1c0002row13_col7,#T_d64d482a_188b_11ec_b231_0242ac1c0002row16_col6,#T_d64d482a_188b_11ec_b231_0242ac1c0002row16_col7,#T_d64d482a_188b_11ec_b231_0242ac1c0002row17_col9,#T_d64d482a_188b_11ec_b231_0242ac1c0002row19_col25,#T_d64d482a_188b_11ec_b231_0242ac1c0002row20_col25,#T_d64d482a_188b_11ec_b231_0242ac1c0002row22_col22{\n",
              "            font-size:  1pt;\n",
              "            background-color:  #f3f3f3;\n",
              "            color:  #000000;\n",
              "        }#T_d64d482a_188b_11ec_b231_0242ac1c0002row5_col24,#T_d64d482a_188b_11ec_b231_0242ac1c0002row11_col6,#T_d64d482a_188b_11ec_b231_0242ac1c0002row12_col7,#T_d64d482a_188b_11ec_b231_0242ac1c0002row12_col22,#T_d64d482a_188b_11ec_b231_0242ac1c0002row15_col2,#T_d64d482a_188b_11ec_b231_0242ac1c0002row15_col5,#T_d64d482a_188b_11ec_b231_0242ac1c0002row15_col6,#T_d64d482a_188b_11ec_b231_0242ac1c0002row18_col12,#T_d64d482a_188b_11ec_b231_0242ac1c0002row22_col1,#T_d64d482a_188b_11ec_b231_0242ac1c0002row24_col18{\n",
              "            font-size:  1pt;\n",
              "            background-color:  #f7f7f7;\n",
              "            color:  #000000;\n",
              "        }#T_d64d482a_188b_11ec_b231_0242ac1c0002row6_col3,#T_d64d482a_188b_11ec_b231_0242ac1c0002row16_col5,#T_d64d482a_188b_11ec_b231_0242ac1c0002row17_col8,#T_d64d482a_188b_11ec_b231_0242ac1c0002row18_col14,#T_d64d482a_188b_11ec_b231_0242ac1c0002row24_col17{\n",
              "            font-size:  1pt;\n",
              "            background-color:  #f1f1f1;\n",
              "            color:  #000000;\n",
              "        }#T_d64d482a_188b_11ec_b231_0242ac1c0002row6_col4,#T_d64d482a_188b_11ec_b231_0242ac1c0002row16_col13,#T_d64d482a_188b_11ec_b231_0242ac1c0002row23_col2,#T_d64d482a_188b_11ec_b231_0242ac1c0002row24_col15{\n",
              "            font-size:  1pt;\n",
              "            background-color:  #dedede;\n",
              "            color:  #000000;\n",
              "        }#T_d64d482a_188b_11ec_b231_0242ac1c0002row6_col6,#T_d64d482a_188b_11ec_b231_0242ac1c0002row12_col10{\n",
              "            font-size:  1pt;\n",
              "            background-color:  #aeaeae;\n",
              "            color:  #000000;\n",
              "        }#T_d64d482a_188b_11ec_b231_0242ac1c0002row6_col7,#T_d64d482a_188b_11ec_b231_0242ac1c0002row18_col2,#T_d64d482a_188b_11ec_b231_0242ac1c0002row22_col18{\n",
              "            font-size:  1pt;\n",
              "            background-color:  #878787;\n",
              "            color:  #000000;\n",
              "        }#T_d64d482a_188b_11ec_b231_0242ac1c0002row6_col8,#T_d64d482a_188b_11ec_b231_0242ac1c0002row7_col7{\n",
              "            font-size:  1pt;\n",
              "            background-color:  #6e6e6e;\n",
              "            color:  #000000;\n",
              "        }#T_d64d482a_188b_11ec_b231_0242ac1c0002row6_col9,#T_d64d482a_188b_11ec_b231_0242ac1c0002row7_col20,#T_d64d482a_188b_11ec_b231_0242ac1c0002row21_col10{\n",
              "            font-size:  1pt;\n",
              "            background-color:  #565656;\n",
              "            color:  #f1f1f1;\n",
              "        }#T_d64d482a_188b_11ec_b231_0242ac1c0002row6_col10{\n",
              "            font-size:  1pt;\n",
              "            background-color:  #363636;\n",
              "            color:  #f1f1f1;\n",
              "        }#T_d64d482a_188b_11ec_b231_0242ac1c0002row6_col11,#T_d64d482a_188b_11ec_b231_0242ac1c0002row9_col18,#T_d64d482a_188b_11ec_b231_0242ac1c0002row14_col18,#T_d64d482a_188b_11ec_b231_0242ac1c0002row21_col8{\n",
              "            font-size:  1pt;\n",
              "            background-color:  #1c1c1c;\n",
              "            color:  #f1f1f1;\n",
              "        }#T_d64d482a_188b_11ec_b231_0242ac1c0002row6_col12,#T_d64d482a_188b_11ec_b231_0242ac1c0002row6_col14,#T_d64d482a_188b_11ec_b231_0242ac1c0002row14_col17,#T_d64d482a_188b_11ec_b231_0242ac1c0002row16_col20{\n",
              "            font-size:  1pt;\n",
              "            background-color:  #0d0d0d;\n",
              "            color:  #f1f1f1;\n",
              "        }#T_d64d482a_188b_11ec_b231_0242ac1c0002row6_col13{\n",
              "            font-size:  1pt;\n",
              "            background-color:  #101010;\n",
              "            color:  #f1f1f1;\n",
              "        }#T_d64d482a_188b_11ec_b231_0242ac1c0002row6_col15,#T_d64d482a_188b_11ec_b231_0242ac1c0002row10_col17,#T_d64d482a_188b_11ec_b231_0242ac1c0002row11_col16,#T_d64d482a_188b_11ec_b231_0242ac1c0002row17_col22{\n",
              "            font-size:  1pt;\n",
              "            background-color:  #0c0c0c;\n",
              "            color:  #f1f1f1;\n",
              "        }#T_d64d482a_188b_11ec_b231_0242ac1c0002row6_col16,#T_d64d482a_188b_11ec_b231_0242ac1c0002row12_col14,#T_d64d482a_188b_11ec_b231_0242ac1c0002row17_col21,#T_d64d482a_188b_11ec_b231_0242ac1c0002row18_col19{\n",
              "            font-size:  1pt;\n",
              "            background-color:  #020202;\n",
              "            color:  #f1f1f1;\n",
              "        }#T_d64d482a_188b_11ec_b231_0242ac1c0002row6_col17,#T_d64d482a_188b_11ec_b231_0242ac1c0002row16_col19,#T_d64d482a_188b_11ec_b231_0242ac1c0002row20_col5{\n",
              "            font-size:  1pt;\n",
              "            background-color:  #060606;\n",
              "            color:  #f1f1f1;\n",
              "        }#T_d64d482a_188b_11ec_b231_0242ac1c0002row6_col18,#T_d64d482a_188b_11ec_b231_0242ac1c0002row10_col18,#T_d64d482a_188b_11ec_b231_0242ac1c0002row14_col12,#T_d64d482a_188b_11ec_b231_0242ac1c0002row18_col24{\n",
              "            font-size:  1pt;\n",
              "            background-color:  #303030;\n",
              "            color:  #f1f1f1;\n",
              "        }#T_d64d482a_188b_11ec_b231_0242ac1c0002row6_col19{\n",
              "            font-size:  1pt;\n",
              "            background-color:  #6a6a6a;\n",
              "            color:  #000000;\n",
              "        }#T_d64d482a_188b_11ec_b231_0242ac1c0002row6_col20{\n",
              "            font-size:  1pt;\n",
              "            background-color:  #7f7f7f;\n",
              "            color:  #000000;\n",
              "        }#T_d64d482a_188b_11ec_b231_0242ac1c0002row6_col21,#T_d64d482a_188b_11ec_b231_0242ac1c0002row8_col9,#T_d64d482a_188b_11ec_b231_0242ac1c0002row11_col12,#T_d64d482a_188b_11ec_b231_0242ac1c0002row13_col25,#T_d64d482a_188b_11ec_b231_0242ac1c0002row20_col9{\n",
              "            font-size:  1pt;\n",
              "            background-color:  #989898;\n",
              "            color:  #000000;\n",
              "        }#T_d64d482a_188b_11ec_b231_0242ac1c0002row6_col22,#T_d64d482a_188b_11ec_b231_0242ac1c0002row18_col1,#T_d64d482a_188b_11ec_b231_0242ac1c0002row18_col6{\n",
              "            font-size:  1pt;\n",
              "            background-color:  #c4c4c4;\n",
              "            color:  #000000;\n",
              "        }#T_d64d482a_188b_11ec_b231_0242ac1c0002row6_col23,#T_d64d482a_188b_11ec_b231_0242ac1c0002row9_col11,#T_d64d482a_188b_11ec_b231_0242ac1c0002row9_col12,#T_d64d482a_188b_11ec_b231_0242ac1c0002row10_col22,#T_d64d482a_188b_11ec_b231_0242ac1c0002row13_col21,#T_d64d482a_188b_11ec_b231_0242ac1c0002row14_col8,#T_d64d482a_188b_11ec_b231_0242ac1c0002row16_col12,#T_d64d482a_188b_11ec_b231_0242ac1c0002row17_col5,#T_d64d482a_188b_11ec_b231_0242ac1c0002row18_col15{\n",
              "            font-size:  1pt;\n",
              "            background-color:  #dcdcdc;\n",
              "            color:  #000000;\n",
              "        }#T_d64d482a_188b_11ec_b231_0242ac1c0002row7_col1{\n",
              "            font-size:  1pt;\n",
              "            background-color:  #606060;\n",
              "            color:  #f1f1f1;\n",
              "        }#T_d64d482a_188b_11ec_b231_0242ac1c0002row7_col3{\n",
              "            font-size:  1pt;\n",
              "            background-color:  #e2e2e2;\n",
              "            color:  #000000;\n",
              "        }#T_d64d482a_188b_11ec_b231_0242ac1c0002row7_col4{\n",
              "            font-size:  1pt;\n",
              "            background-color:  #c3c3c3;\n",
              "            color:  #000000;\n",
              "        }#T_d64d482a_188b_11ec_b231_0242ac1c0002row7_col5,#T_d64d482a_188b_11ec_b231_0242ac1c0002row18_col5{\n",
              "            font-size:  1pt;\n",
              "            background-color:  #a7a7a7;\n",
              "            color:  #000000;\n",
              "        }#T_d64d482a_188b_11ec_b231_0242ac1c0002row7_col6,#T_d64d482a_188b_11ec_b231_0242ac1c0002row9_col15{\n",
              "            font-size:  1pt;\n",
              "            background-color:  #8a8a8a;\n",
              "            color:  #000000;\n",
              "        }#T_d64d482a_188b_11ec_b231_0242ac1c0002row7_col8,#T_d64d482a_188b_11ec_b231_0242ac1c0002row21_col12{\n",
              "            font-size:  1pt;\n",
              "            background-color:  #646464;\n",
              "            color:  #f1f1f1;\n",
              "        }#T_d64d482a_188b_11ec_b231_0242ac1c0002row7_col9{\n",
              "            font-size:  1pt;\n",
              "            background-color:  #5b5b5b;\n",
              "            color:  #f1f1f1;\n",
              "        }#T_d64d482a_188b_11ec_b231_0242ac1c0002row7_col10{\n",
              "            font-size:  1pt;\n",
              "            background-color:  #525252;\n",
              "            color:  #f1f1f1;\n",
              "        }#T_d64d482a_188b_11ec_b231_0242ac1c0002row7_col11,#T_d64d482a_188b_11ec_b231_0242ac1c0002row7_col12,#T_d64d482a_188b_11ec_b231_0242ac1c0002row13_col18,#T_d64d482a_188b_11ec_b231_0242ac1c0002row20_col20,#T_d64d482a_188b_11ec_b231_0242ac1c0002row21_col14{\n",
              "            font-size:  1pt;\n",
              "            background-color:  #4e4e4e;\n",
              "            color:  #f1f1f1;\n",
              "        }#T_d64d482a_188b_11ec_b231_0242ac1c0002row7_col13,#T_d64d482a_188b_11ec_b231_0242ac1c0002row17_col17{\n",
              "            font-size:  1pt;\n",
              "            background-color:  #575757;\n",
              "            color:  #f1f1f1;\n",
              "        }#T_d64d482a_188b_11ec_b231_0242ac1c0002row7_col14,#T_d64d482a_188b_11ec_b231_0242ac1c0002row8_col20,#T_d64d482a_188b_11ec_b231_0242ac1c0002row14_col11{\n",
              "            font-size:  1pt;\n",
              "            background-color:  #515151;\n",
              "            color:  #f1f1f1;\n",
              "        }#T_d64d482a_188b_11ec_b231_0242ac1c0002row7_col15,#T_d64d482a_188b_11ec_b231_0242ac1c0002row14_col14,#T_d64d482a_188b_11ec_b231_0242ac1c0002row15_col20,#T_d64d482a_188b_11ec_b231_0242ac1c0002row21_col9{\n",
              "            font-size:  1pt;\n",
              "            background-color:  #3d3d3d;\n",
              "            color:  #f1f1f1;\n",
              "        }#T_d64d482a_188b_11ec_b231_0242ac1c0002row7_col16,#T_d64d482a_188b_11ec_b231_0242ac1c0002row12_col13,#T_d64d482a_188b_11ec_b231_0242ac1c0002row12_col17,#T_d64d482a_188b_11ec_b231_0242ac1c0002row16_col24,#T_d64d482a_188b_11ec_b231_0242ac1c0002row19_col20{\n",
              "            font-size:  1pt;\n",
              "            background-color:  #181818;\n",
              "            color:  #f1f1f1;\n",
              "        }#T_d64d482a_188b_11ec_b231_0242ac1c0002row7_col17,#T_d64d482a_188b_11ec_b231_0242ac1c0002row12_col15,#T_d64d482a_188b_11ec_b231_0242ac1c0002row12_col16,#T_d64d482a_188b_11ec_b231_0242ac1c0002row12_col25,#T_d64d482a_188b_11ec_b231_0242ac1c0002row13_col13,#T_d64d482a_188b_11ec_b231_0242ac1c0002row13_col14,#T_d64d482a_188b_11ec_b231_0242ac1c0002row15_col26,#T_d64d482a_188b_11ec_b231_0242ac1c0002row17_col19,#T_d64d482a_188b_11ec_b231_0242ac1c0002row17_col20,#T_d64d482a_188b_11ec_b231_0242ac1c0002row17_col23,#T_d64d482a_188b_11ec_b231_0242ac1c0002row17_col24,#T_d64d482a_188b_11ec_b231_0242ac1c0002row18_col21,#T_d64d482a_188b_11ec_b231_0242ac1c0002row18_col22,#T_d64d482a_188b_11ec_b231_0242ac1c0002row19_col18,#T_d64d482a_188b_11ec_b231_0242ac1c0002row20_col1,#T_d64d482a_188b_11ec_b231_0242ac1c0002row20_col2,#T_d64d482a_188b_11ec_b231_0242ac1c0002row20_col3,#T_d64d482a_188b_11ec_b231_0242ac1c0002row20_col4,#T_d64d482a_188b_11ec_b231_0242ac1c0002row21_col5,#T_d64d482a_188b_11ec_b231_0242ac1c0002row21_col6,#T_d64d482a_188b_11ec_b231_0242ac1c0002row21_col7,#T_d64d482a_188b_11ec_b231_0242ac1c0002row22_col7,#T_d64d482a_188b_11ec_b231_0242ac1c0002row22_col8,#T_d64d482a_188b_11ec_b231_0242ac1c0002row22_col9,#T_d64d482a_188b_11ec_b231_0242ac1c0002row22_col10,#T_d64d482a_188b_11ec_b231_0242ac1c0002row22_col11,#T_d64d482a_188b_11ec_b231_0242ac1c0002row22_col12{\n",
              "            font-size:  1pt;\n",
              "            background-color:  #000000;\n",
              "            color:  #f1f1f1;\n",
              "        }#T_d64d482a_188b_11ec_b231_0242ac1c0002row7_col18,#T_d64d482a_188b_11ec_b231_0242ac1c0002row22_col14,#T_d64d482a_188b_11ec_b231_0242ac1c0002row23_col11{\n",
              "            font-size:  1pt;\n",
              "            background-color:  #151515;\n",
              "            color:  #f1f1f1;\n",
              "        }#T_d64d482a_188b_11ec_b231_0242ac1c0002row7_col19,#T_d64d482a_188b_11ec_b231_0242ac1c0002row16_col22{\n",
              "            font-size:  1pt;\n",
              "            background-color:  #434343;\n",
              "            color:  #f1f1f1;\n",
              "        }#T_d64d482a_188b_11ec_b231_0242ac1c0002row7_col21{\n",
              "            font-size:  1pt;\n",
              "            background-color:  #6b6b6b;\n",
              "            color:  #000000;\n",
              "        }#T_d64d482a_188b_11ec_b231_0242ac1c0002row7_col22,#T_d64d482a_188b_11ec_b231_0242ac1c0002row15_col11,#T_d64d482a_188b_11ec_b231_0242ac1c0002row15_col13,#T_d64d482a_188b_11ec_b231_0242ac1c0002row15_col14,#T_d64d482a_188b_11ec_b231_0242ac1c0002row23_col16{\n",
              "            font-size:  1pt;\n",
              "            background-color:  #979797;\n",
              "            color:  #000000;\n",
              "        }#T_d64d482a_188b_11ec_b231_0242ac1c0002row7_col23,#T_d64d482a_188b_11ec_b231_0242ac1c0002row17_col1,#T_d64d482a_188b_11ec_b231_0242ac1c0002row20_col11,#T_d64d482a_188b_11ec_b231_0242ac1c0002row24_col9{\n",
              "            font-size:  1pt;\n",
              "            background-color:  #c5c5c5;\n",
              "            color:  #000000;\n",
              "        }#T_d64d482a_188b_11ec_b231_0242ac1c0002row7_col24,#T_d64d482a_188b_11ec_b231_0242ac1c0002row8_col1,#T_d64d482a_188b_11ec_b231_0242ac1c0002row9_col4,#T_d64d482a_188b_11ec_b231_0242ac1c0002row16_col1,#T_d64d482a_188b_11ec_b231_0242ac1c0002row18_col7{\n",
              "            font-size:  1pt;\n",
              "            background-color:  #d4d4d4;\n",
              "            color:  #000000;\n",
              "        }#T_d64d482a_188b_11ec_b231_0242ac1c0002row8_col5{\n",
              "            font-size:  1pt;\n",
              "            background-color:  #adadad;\n",
              "            color:  #000000;\n",
              "        }#T_d64d482a_188b_11ec_b231_0242ac1c0002row8_col7,#T_d64d482a_188b_11ec_b231_0242ac1c0002row10_col14,#T_d64d482a_188b_11ec_b231_0242ac1c0002row13_col19{\n",
              "            font-size:  1pt;\n",
              "            background-color:  #919191;\n",
              "            color:  #000000;\n",
              "        }#T_d64d482a_188b_11ec_b231_0242ac1c0002row8_col8{\n",
              "            font-size:  1pt;\n",
              "            background-color:  #949494;\n",
              "            color:  #000000;\n",
              "        }#T_d64d482a_188b_11ec_b231_0242ac1c0002row8_col10,#T_d64d482a_188b_11ec_b231_0242ac1c0002row16_col16{\n",
              "            font-size:  1pt;\n",
              "            background-color:  #9c9c9c;\n",
              "            color:  #000000;\n",
              "        }#T_d64d482a_188b_11ec_b231_0242ac1c0002row8_col11{\n",
              "            font-size:  1pt;\n",
              "            background-color:  #a4a4a4;\n",
              "            color:  #000000;\n",
              "        }#T_d64d482a_188b_11ec_b231_0242ac1c0002row8_col12,#T_d64d482a_188b_11ec_b231_0242ac1c0002row14_col21{\n",
              "            font-size:  1pt;\n",
              "            background-color:  #aaaaaa;\n",
              "            color:  #000000;\n",
              "        }#T_d64d482a_188b_11ec_b231_0242ac1c0002row8_col13{\n",
              "            font-size:  1pt;\n",
              "            background-color:  #afafaf;\n",
              "            color:  #000000;\n",
              "        }#T_d64d482a_188b_11ec_b231_0242ac1c0002row8_col16,#T_d64d482a_188b_11ec_b231_0242ac1c0002row9_col19,#T_d64d482a_188b_11ec_b231_0242ac1c0002row23_col8{\n",
              "            font-size:  1pt;\n",
              "            background-color:  #505050;\n",
              "            color:  #f1f1f1;\n",
              "        }#T_d64d482a_188b_11ec_b231_0242ac1c0002row8_col17{\n",
              "            font-size:  1pt;\n",
              "            background-color:  #171717;\n",
              "            color:  #f1f1f1;\n",
              "        }#T_d64d482a_188b_11ec_b231_0242ac1c0002row8_col18,#T_d64d482a_188b_11ec_b231_0242ac1c0002row9_col17,#T_d64d482a_188b_11ec_b231_0242ac1c0002row21_col4,#T_d64d482a_188b_11ec_b231_0242ac1c0002row23_col12{\n",
              "            font-size:  1pt;\n",
              "            background-color:  #161616;\n",
              "            color:  #f1f1f1;\n",
              "        }#T_d64d482a_188b_11ec_b231_0242ac1c0002row8_col19,#T_d64d482a_188b_11ec_b231_0242ac1c0002row19_col4{\n",
              "            font-size:  1pt;\n",
              "            background-color:  #3c3c3c;\n",
              "            color:  #f1f1f1;\n",
              "        }#T_d64d482a_188b_11ec_b231_0242ac1c0002row8_col21{\n",
              "            font-size:  1pt;\n",
              "            background-color:  #676767;\n",
              "            color:  #f1f1f1;\n",
              "        }#T_d64d482a_188b_11ec_b231_0242ac1c0002row8_col22{\n",
              "            font-size:  1pt;\n",
              "            background-color:  #8e8e8e;\n",
              "            color:  #000000;\n",
              "        }#T_d64d482a_188b_11ec_b231_0242ac1c0002row8_col23{\n",
              "            font-size:  1pt;\n",
              "            background-color:  #c7c7c7;\n",
              "            color:  #000000;\n",
              "        }#T_d64d482a_188b_11ec_b231_0242ac1c0002row9_col1,#T_d64d482a_188b_11ec_b231_0242ac1c0002row9_col25,#T_d64d482a_188b_11ec_b231_0242ac1c0002row17_col4{\n",
              "            font-size:  1pt;\n",
              "            background-color:  #d0d0d0;\n",
              "            color:  #000000;\n",
              "        }#T_d64d482a_188b_11ec_b231_0242ac1c0002row9_col3,#T_d64d482a_188b_11ec_b231_0242ac1c0002row11_col21,#T_d64d482a_188b_11ec_b231_0242ac1c0002row14_col25,#T_d64d482a_188b_11ec_b231_0242ac1c0002row18_col8{\n",
              "            font-size:  1pt;\n",
              "            background-color:  #e4e4e4;\n",
              "            color:  #000000;\n",
              "        }#T_d64d482a_188b_11ec_b231_0242ac1c0002row9_col6,#T_d64d482a_188b_11ec_b231_0242ac1c0002row16_col15{\n",
              "            font-size:  1pt;\n",
              "            background-color:  #cbcbcb;\n",
              "            color:  #000000;\n",
              "        }#T_d64d482a_188b_11ec_b231_0242ac1c0002row9_col8{\n",
              "            font-size:  1pt;\n",
              "            background-color:  #d1d1d1;\n",
              "            color:  #000000;\n",
              "        }#T_d64d482a_188b_11ec_b231_0242ac1c0002row9_col13,#T_d64d482a_188b_11ec_b231_0242ac1c0002row21_col22{\n",
              "            font-size:  1pt;\n",
              "            background-color:  #d5d5d5;\n",
              "            color:  #000000;\n",
              "        }#T_d64d482a_188b_11ec_b231_0242ac1c0002row9_col14,#T_d64d482a_188b_11ec_b231_0242ac1c0002row20_col26{\n",
              "            font-size:  1pt;\n",
              "            background-color:  #bebebe;\n",
              "            color:  #000000;\n",
              "        }#T_d64d482a_188b_11ec_b231_0242ac1c0002row9_col20{\n",
              "            font-size:  1pt;\n",
              "            background-color:  #696969;\n",
              "            color:  #000000;\n",
              "        }#T_d64d482a_188b_11ec_b231_0242ac1c0002row9_col21{\n",
              "            font-size:  1pt;\n",
              "            background-color:  #898989;\n",
              "            color:  #000000;\n",
              "        }#T_d64d482a_188b_11ec_b231_0242ac1c0002row9_col22{\n",
              "            font-size:  1pt;\n",
              "            background-color:  #b2b2b2;\n",
              "            color:  #000000;\n",
              "        }#T_d64d482a_188b_11ec_b231_0242ac1c0002row9_col23,#T_d64d482a_188b_11ec_b231_0242ac1c0002row12_col20,#T_d64d482a_188b_11ec_b231_0242ac1c0002row22_col20{\n",
              "            font-size:  1pt;\n",
              "            background-color:  #d8d8d8;\n",
              "            color:  #000000;\n",
              "        }#T_d64d482a_188b_11ec_b231_0242ac1c0002row10_col1,#T_d64d482a_188b_11ec_b231_0242ac1c0002row10_col3,#T_d64d482a_188b_11ec_b231_0242ac1c0002row12_col21,#T_d64d482a_188b_11ec_b231_0242ac1c0002row19_col11{\n",
              "            font-size:  1pt;\n",
              "            background-color:  #ededed;\n",
              "            color:  #000000;\n",
              "        }#T_d64d482a_188b_11ec_b231_0242ac1c0002row10_col4,#T_d64d482a_188b_11ec_b231_0242ac1c0002row10_col7{\n",
              "            font-size:  1pt;\n",
              "            background-color:  #ebebeb;\n",
              "            color:  #000000;\n",
              "        }#T_d64d482a_188b_11ec_b231_0242ac1c0002row10_col8,#T_d64d482a_188b_11ec_b231_0242ac1c0002row10_col23,#T_d64d482a_188b_11ec_b231_0242ac1c0002row12_col8,#T_d64d482a_188b_11ec_b231_0242ac1c0002row16_col4{\n",
              "            font-size:  1pt;\n",
              "            background-color:  #eeeeee;\n",
              "            color:  #000000;\n",
              "        }#T_d64d482a_188b_11ec_b231_0242ac1c0002row10_col9,#T_d64d482a_188b_11ec_b231_0242ac1c0002row11_col9,#T_d64d482a_188b_11ec_b231_0242ac1c0002row19_col12{\n",
              "            font-size:  1pt;\n",
              "            background-color:  #efefef;\n",
              "            color:  #000000;\n",
              "        }#T_d64d482a_188b_11ec_b231_0242ac1c0002row10_col11{\n",
              "            font-size:  1pt;\n",
              "            background-color:  #e6e6e6;\n",
              "            color:  #000000;\n",
              "        }#T_d64d482a_188b_11ec_b231_0242ac1c0002row10_col12,#T_d64d482a_188b_11ec_b231_0242ac1c0002row19_col9,#T_d64d482a_188b_11ec_b231_0242ac1c0002row23_col18{\n",
              "            font-size:  1pt;\n",
              "            background-color:  #d9d9d9;\n",
              "            color:  #000000;\n",
              "        }#T_d64d482a_188b_11ec_b231_0242ac1c0002row10_col13,#T_d64d482a_188b_11ec_b231_0242ac1c0002row20_col13{\n",
              "            font-size:  1pt;\n",
              "            background-color:  #c1c1c1;\n",
              "            color:  #000000;\n",
              "        }#T_d64d482a_188b_11ec_b231_0242ac1c0002row10_col15,#T_d64d482a_188b_11ec_b231_0242ac1c0002row20_col21,#T_d64d482a_188b_11ec_b231_0242ac1c0002row21_col11,#T_d64d482a_188b_11ec_b231_0242ac1c0002row23_col7{\n",
              "            font-size:  1pt;\n",
              "            background-color:  #636363;\n",
              "            color:  #f1f1f1;\n",
              "        }#T_d64d482a_188b_11ec_b231_0242ac1c0002row10_col16,#T_d64d482a_188b_11ec_b231_0242ac1c0002row14_col16,#T_d64d482a_188b_11ec_b231_0242ac1c0002row21_col3{\n",
              "            font-size:  1pt;\n",
              "            background-color:  #292929;\n",
              "            color:  #f1f1f1;\n",
              "        }#T_d64d482a_188b_11ec_b231_0242ac1c0002row10_col19{\n",
              "            font-size:  1pt;\n",
              "            background-color:  #737373;\n",
              "            color:  #000000;\n",
              "        }#T_d64d482a_188b_11ec_b231_0242ac1c0002row10_col20,#T_d64d482a_188b_11ec_b231_0242ac1c0002row19_col7{\n",
              "            font-size:  1pt;\n",
              "            background-color:  #9a9a9a;\n",
              "            color:  #000000;\n",
              "        }#T_d64d482a_188b_11ec_b231_0242ac1c0002row10_col21,#T_d64d482a_188b_11ec_b231_0242ac1c0002row13_col20,#T_d64d482a_188b_11ec_b231_0242ac1c0002row19_col8{\n",
              "            font-size:  1pt;\n",
              "            background-color:  #c2c2c2;\n",
              "            color:  #000000;\n",
              "        }#T_d64d482a_188b_11ec_b231_0242ac1c0002row10_col25{\n",
              "            font-size:  1pt;\n",
              "            background-color:  #252525;\n",
              "            color:  #f1f1f1;\n",
              "        }#T_d64d482a_188b_11ec_b231_0242ac1c0002row11_col11{\n",
              "            font-size:  1pt;\n",
              "            background-color:  #c6c6c6;\n",
              "            color:  #000000;\n",
              "        }#T_d64d482a_188b_11ec_b231_0242ac1c0002row11_col13{\n",
              "            font-size:  1pt;\n",
              "            background-color:  #6f6f6f;\n",
              "            color:  #000000;\n",
              "        }#T_d64d482a_188b_11ec_b231_0242ac1c0002row11_col14{\n",
              "            font-size:  1pt;\n",
              "            background-color:  #464646;\n",
              "            color:  #f1f1f1;\n",
              "        }#T_d64d482a_188b_11ec_b231_0242ac1c0002row11_col15,#T_d64d482a_188b_11ec_b231_0242ac1c0002row22_col6,#T_d64d482a_188b_11ec_b231_0242ac1c0002row23_col10{\n",
              "            font-size:  1pt;\n",
              "            background-color:  #222222;\n",
              "            color:  #f1f1f1;\n",
              "        }#T_d64d482a_188b_11ec_b231_0242ac1c0002row11_col17,#T_d64d482a_188b_11ec_b231_0242ac1c0002row13_col17{\n",
              "            font-size:  1pt;\n",
              "            background-color:  #111111;\n",
              "            color:  #f1f1f1;\n",
              "        }#T_d64d482a_188b_11ec_b231_0242ac1c0002row11_col18,#T_d64d482a_188b_11ec_b231_0242ac1c0002row14_col19{\n",
              "            font-size:  1pt;\n",
              "            background-color:  #5a5a5a;\n",
              "            color:  #f1f1f1;\n",
              "        }#T_d64d482a_188b_11ec_b231_0242ac1c0002row11_col19{\n",
              "            font-size:  1pt;\n",
              "            background-color:  #9e9e9e;\n",
              "            color:  #000000;\n",
              "        }#T_d64d482a_188b_11ec_b231_0242ac1c0002row11_col25,#T_d64d482a_188b_11ec_b231_0242ac1c0002row19_col19{\n",
              "            font-size:  1pt;\n",
              "            background-color:  #0f0f0f;\n",
              "            color:  #f1f1f1;\n",
              "        }#T_d64d482a_188b_11ec_b231_0242ac1c0002row12_col11{\n",
              "            font-size:  1pt;\n",
              "            background-color:  #727272;\n",
              "            color:  #000000;\n",
              "        }#T_d64d482a_188b_11ec_b231_0242ac1c0002row12_col12,#T_d64d482a_188b_11ec_b231_0242ac1c0002row13_col11{\n",
              "            font-size:  1pt;\n",
              "            background-color:  #3a3a3a;\n",
              "            color:  #f1f1f1;\n",
              "        }#T_d64d482a_188b_11ec_b231_0242ac1c0002row12_col18,#T_d64d482a_188b_11ec_b231_0242ac1c0002row15_col16{\n",
              "            font-size:  1pt;\n",
              "            background-color:  #686868;\n",
              "            color:  #f1f1f1;\n",
              "        }#T_d64d482a_188b_11ec_b231_0242ac1c0002row12_col19,#T_d64d482a_188b_11ec_b231_0242ac1c0002row15_col10,#T_d64d482a_188b_11ec_b231_0242ac1c0002row24_col11{\n",
              "            font-size:  1pt;\n",
              "            background-color:  #b0b0b0;\n",
              "            color:  #000000;\n",
              "        }#T_d64d482a_188b_11ec_b231_0242ac1c0002row13_col9{\n",
              "            font-size:  1pt;\n",
              "            background-color:  #bbbbbb;\n",
              "            color:  #000000;\n",
              "        }#T_d64d482a_188b_11ec_b231_0242ac1c0002row13_col10,#T_d64d482a_188b_11ec_b231_0242ac1c0002row20_col15{\n",
              "            font-size:  1pt;\n",
              "            background-color:  #7a7a7a;\n",
              "            color:  #000000;\n",
              "        }#T_d64d482a_188b_11ec_b231_0242ac1c0002row13_col12,#T_d64d482a_188b_11ec_b231_0242ac1c0002row13_col16,#T_d64d482a_188b_11ec_b231_0242ac1c0002row15_col18,#T_d64d482a_188b_11ec_b231_0242ac1c0002row18_col18{\n",
              "            font-size:  1pt;\n",
              "            background-color:  #070707;\n",
              "            color:  #f1f1f1;\n",
              "        }#T_d64d482a_188b_11ec_b231_0242ac1c0002row13_col15,#T_d64d482a_188b_11ec_b231_0242ac1c0002row21_col17{\n",
              "            font-size:  1pt;\n",
              "            background-color:  #090909;\n",
              "            color:  #f1f1f1;\n",
              "        }#T_d64d482a_188b_11ec_b231_0242ac1c0002row14_col1,#T_d64d482a_188b_11ec_b231_0242ac1c0002row17_col15,#T_d64d482a_188b_11ec_b231_0242ac1c0002row19_col14{\n",
              "            font-size:  1pt;\n",
              "            background-color:  #dfdfdf;\n",
              "            color:  #000000;\n",
              "        }#T_d64d482a_188b_11ec_b231_0242ac1c0002row14_col9{\n",
              "            font-size:  1pt;\n",
              "            background-color:  #b4b4b4;\n",
              "            color:  #000000;\n",
              "        }#T_d64d482a_188b_11ec_b231_0242ac1c0002row14_col10,#T_d64d482a_188b_11ec_b231_0242ac1c0002row19_col24{\n",
              "            font-size:  1pt;\n",
              "            background-color:  #7c7c7c;\n",
              "            color:  #000000;\n",
              "        }#T_d64d482a_188b_11ec_b231_0242ac1c0002row14_col13,#T_d64d482a_188b_11ec_b231_0242ac1c0002row23_col9{\n",
              "            font-size:  1pt;\n",
              "            background-color:  #393939;\n",
              "            color:  #f1f1f1;\n",
              "        }#T_d64d482a_188b_11ec_b231_0242ac1c0002row14_col15{\n",
              "            font-size:  1pt;\n",
              "            background-color:  #414141;\n",
              "            color:  #f1f1f1;\n",
              "        }#T_d64d482a_188b_11ec_b231_0242ac1c0002row14_col20{\n",
              "            font-size:  1pt;\n",
              "            background-color:  #828282;\n",
              "            color:  #000000;\n",
              "        }#T_d64d482a_188b_11ec_b231_0242ac1c0002row14_col22,#T_d64d482a_188b_11ec_b231_0242ac1c0002row15_col9,#T_d64d482a_188b_11ec_b231_0242ac1c0002row24_col14{\n",
              "            font-size:  1pt;\n",
              "            background-color:  #cfcfcf;\n",
              "            color:  #000000;\n",
              "        }#T_d64d482a_188b_11ec_b231_0242ac1c0002row14_col24{\n",
              "            font-size:  1pt;\n",
              "            background-color:  #e3e3e3;\n",
              "            color:  #000000;\n",
              "        }#T_d64d482a_188b_11ec_b231_0242ac1c0002row15_col12{\n",
              "            font-size:  1pt;\n",
              "            background-color:  #8f8f8f;\n",
              "            color:  #000000;\n",
              "        }#T_d64d482a_188b_11ec_b231_0242ac1c0002row15_col15{\n",
              "            font-size:  1pt;\n",
              "            background-color:  #8d8d8d;\n",
              "            color:  #000000;\n",
              "        }#T_d64d482a_188b_11ec_b231_0242ac1c0002row15_col17,#T_d64d482a_188b_11ec_b231_0242ac1c0002row16_col21,#T_d64d482a_188b_11ec_b231_0242ac1c0002row19_col2,#T_d64d482a_188b_11ec_b231_0242ac1c0002row19_col17{\n",
              "            font-size:  1pt;\n",
              "            background-color:  #232323;\n",
              "            color:  #f1f1f1;\n",
              "        }#T_d64d482a_188b_11ec_b231_0242ac1c0002row15_col19{\n",
              "            font-size:  1pt;\n",
              "            background-color:  #1f1f1f;\n",
              "            color:  #f1f1f1;\n",
              "        }#T_d64d482a_188b_11ec_b231_0242ac1c0002row15_col22,#T_d64d482a_188b_11ec_b231_0242ac1c0002row20_col22,#T_d64d482a_188b_11ec_b231_0242ac1c0002row22_col3{\n",
              "            font-size:  1pt;\n",
              "            background-color:  #848484;\n",
              "            color:  #000000;\n",
              "        }#T_d64d482a_188b_11ec_b231_0242ac1c0002row15_col23{\n",
              "            font-size:  1pt;\n",
              "            background-color:  #a2a2a2;\n",
              "            color:  #000000;\n",
              "        }#T_d64d482a_188b_11ec_b231_0242ac1c0002row15_col24{\n",
              "            font-size:  1pt;\n",
              "            background-color:  #a0a0a0;\n",
              "            color:  #000000;\n",
              "        }#T_d64d482a_188b_11ec_b231_0242ac1c0002row16_col9,#T_d64d482a_188b_11ec_b231_0242ac1c0002row16_col26,#T_d64d482a_188b_11ec_b231_0242ac1c0002row24_col5,#T_d64d482a_188b_11ec_b231_0242ac1c0002row24_col16{\n",
              "            font-size:  1pt;\n",
              "            background-color:  #e9e9e9;\n",
              "            color:  #000000;\n",
              "        }#T_d64d482a_188b_11ec_b231_0242ac1c0002row16_col11{\n",
              "            font-size:  1pt;\n",
              "            background-color:  #dddddd;\n",
              "            color:  #000000;\n",
              "        }#T_d64d482a_188b_11ec_b231_0242ac1c0002row16_col17{\n",
              "            font-size:  1pt;\n",
              "            background-color:  #484848;\n",
              "            color:  #f1f1f1;\n",
              "        }#T_d64d482a_188b_11ec_b231_0242ac1c0002row16_col18,#T_d64d482a_188b_11ec_b231_0242ac1c0002row18_col23,#T_d64d482a_188b_11ec_b231_0242ac1c0002row20_col17,#T_d64d482a_188b_11ec_b231_0242ac1c0002row20_col18{\n",
              "            font-size:  1pt;\n",
              "            background-color:  #050505;\n",
              "            color:  #f1f1f1;\n",
              "        }#T_d64d482a_188b_11ec_b231_0242ac1c0002row17_col6{\n",
              "            font-size:  1pt;\n",
              "            background-color:  #e7e7e7;\n",
              "            color:  #000000;\n",
              "        }#T_d64d482a_188b_11ec_b231_0242ac1c0002row17_col10,#T_d64d482a_188b_11ec_b231_0242ac1c0002row17_col11,#T_d64d482a_188b_11ec_b231_0242ac1c0002row17_col12,#T_d64d482a_188b_11ec_b231_0242ac1c0002row17_col13,#T_d64d482a_188b_11ec_b231_0242ac1c0002row18_col10{\n",
              "            font-size:  1pt;\n",
              "            background-color:  #f4f4f4;\n",
              "            color:  #000000;\n",
              "        }#T_d64d482a_188b_11ec_b231_0242ac1c0002row17_col16,#T_d64d482a_188b_11ec_b231_0242ac1c0002row20_col23,#T_d64d482a_188b_11ec_b231_0242ac1c0002row24_col12{\n",
              "            font-size:  1pt;\n",
              "            background-color:  #b3b3b3;\n",
              "            color:  #000000;\n",
              "        }#T_d64d482a_188b_11ec_b231_0242ac1c0002row17_col18{\n",
              "            font-size:  1pt;\n",
              "            background-color:  #0a0a0a;\n",
              "            color:  #f1f1f1;\n",
              "        }#T_d64d482a_188b_11ec_b231_0242ac1c0002row18_col3{\n",
              "            font-size:  1pt;\n",
              "            background-color:  #818181;\n",
              "            color:  #000000;\n",
              "        }#T_d64d482a_188b_11ec_b231_0242ac1c0002row18_col16,#T_d64d482a_188b_11ec_b231_0242ac1c0002row20_col14{\n",
              "            font-size:  1pt;\n",
              "            background-color:  #a3a3a3;\n",
              "            color:  #000000;\n",
              "        }#T_d64d482a_188b_11ec_b231_0242ac1c0002row18_col17{\n",
              "            font-size:  1pt;\n",
              "            background-color:  #4b4b4b;\n",
              "            color:  #f1f1f1;\n",
              "        }#T_d64d482a_188b_11ec_b231_0242ac1c0002row18_col20{\n",
              "            font-size:  1pt;\n",
              "            background-color:  #030303;\n",
              "            color:  #f1f1f1;\n",
              "        }#T_d64d482a_188b_11ec_b231_0242ac1c0002row19_col1,#T_d64d482a_188b_11ec_b231_0242ac1c0002row23_col6{\n",
              "            font-size:  1pt;\n",
              "            background-color:  #888888;\n",
              "            color:  #000000;\n",
              "        }#T_d64d482a_188b_11ec_b231_0242ac1c0002row19_col3,#T_d64d482a_188b_11ec_b231_0242ac1c0002row21_col2,#T_d64d482a_188b_11ec_b231_0242ac1c0002row21_col15,#T_d64d482a_188b_11ec_b231_0242ac1c0002row23_col13{\n",
              "            font-size:  1pt;\n",
              "            background-color:  #323232;\n",
              "            color:  #f1f1f1;\n",
              "        }#T_d64d482a_188b_11ec_b231_0242ac1c0002row19_col5,#T_d64d482a_188b_11ec_b231_0242ac1c0002row22_col17{\n",
              "            font-size:  1pt;\n",
              "            background-color:  #545454;\n",
              "            color:  #f1f1f1;\n",
              "        }#T_d64d482a_188b_11ec_b231_0242ac1c0002row19_col6{\n",
              "            font-size:  1pt;\n",
              "            background-color:  #7b7b7b;\n",
              "            color:  #000000;\n",
              "        }#T_d64d482a_188b_11ec_b231_0242ac1c0002row19_col15,#T_d64d482a_188b_11ec_b231_0242ac1c0002row22_col19,#T_d64d482a_188b_11ec_b231_0242ac1c0002row23_col4{\n",
              "            font-size:  1pt;\n",
              "            background-color:  #bfbfbf;\n",
              "            color:  #000000;\n",
              "        }#T_d64d482a_188b_11ec_b231_0242ac1c0002row19_col16{\n",
              "            font-size:  1pt;\n",
              "            background-color:  #797979;\n",
              "            color:  #000000;\n",
              "        }#T_d64d482a_188b_11ec_b231_0242ac1c0002row19_col21{\n",
              "            font-size:  1pt;\n",
              "            background-color:  #1b1b1b;\n",
              "            color:  #f1f1f1;\n",
              "        }#T_d64d482a_188b_11ec_b231_0242ac1c0002row19_col22{\n",
              "            font-size:  1pt;\n",
              "            background-color:  #2c2c2c;\n",
              "            color:  #f1f1f1;\n",
              "        }#T_d64d482a_188b_11ec_b231_0242ac1c0002row19_col23{\n",
              "            font-size:  1pt;\n",
              "            background-color:  #5d5d5d;\n",
              "            color:  #f1f1f1;\n",
              "        }#T_d64d482a_188b_11ec_b231_0242ac1c0002row20_col6{\n",
              "            font-size:  1pt;\n",
              "            background-color:  #2e2e2e;\n",
              "            color:  #f1f1f1;\n",
              "        }#T_d64d482a_188b_11ec_b231_0242ac1c0002row20_col7{\n",
              "            font-size:  1pt;\n",
              "            background-color:  #4d4d4d;\n",
              "            color:  #f1f1f1;\n",
              "        }#T_d64d482a_188b_11ec_b231_0242ac1c0002row20_col8{\n",
              "            font-size:  1pt;\n",
              "            background-color:  #757575;\n",
              "            color:  #000000;\n",
              "        }#T_d64d482a_188b_11ec_b231_0242ac1c0002row20_col12{\n",
              "            font-size:  1pt;\n",
              "            background-color:  #c8c8c8;\n",
              "            color:  #000000;\n",
              "        }#T_d64d482a_188b_11ec_b231_0242ac1c0002row20_col16{\n",
              "            font-size:  1pt;\n",
              "            background-color:  #3f3f3f;\n",
              "            color:  #f1f1f1;\n",
              "        }#T_d64d482a_188b_11ec_b231_0242ac1c0002row20_col19,#T_d64d482a_188b_11ec_b231_0242ac1c0002row21_col18,#T_d64d482a_188b_11ec_b231_0242ac1c0002row22_col16{\n",
              "            font-size:  1pt;\n",
              "            background-color:  #353535;\n",
              "            color:  #f1f1f1;\n",
              "        }#T_d64d482a_188b_11ec_b231_0242ac1c0002row21_col13{\n",
              "            font-size:  1pt;\n",
              "            background-color:  #616161;\n",
              "            color:  #f1f1f1;\n",
              "        }#T_d64d482a_188b_11ec_b231_0242ac1c0002row21_col16{\n",
              "            font-size:  1pt;\n",
              "            background-color:  #141414;\n",
              "            color:  #f1f1f1;\n",
              "        }#T_d64d482a_188b_11ec_b231_0242ac1c0002row21_col19{\n",
              "            font-size:  1pt;\n",
              "            background-color:  #717171;\n",
              "            color:  #000000;\n",
              "        }#T_d64d482a_188b_11ec_b231_0242ac1c0002row21_col20{\n",
              "            font-size:  1pt;\n",
              "            background-color:  #939393;\n",
              "            color:  #000000;\n",
              "        }#T_d64d482a_188b_11ec_b231_0242ac1c0002row21_col21{\n",
              "            font-size:  1pt;\n",
              "            background-color:  #b5b5b5;\n",
              "            color:  #000000;\n",
              "        }#T_d64d482a_188b_11ec_b231_0242ac1c0002row22_col4{\n",
              "            font-size:  1pt;\n",
              "            background-color:  #666666;\n",
              "            color:  #f1f1f1;\n",
              "        }#T_d64d482a_188b_11ec_b231_0242ac1c0002row22_col13{\n",
              "            font-size:  1pt;\n",
              "            background-color:  #0e0e0e;\n",
              "            color:  #f1f1f1;\n",
              "        }#T_d64d482a_188b_11ec_b231_0242ac1c0002row22_col15{\n",
              "            font-size:  1pt;\n",
              "            background-color:  #242424;\n",
              "            color:  #f1f1f1;\n",
              "        }#T_d64d482a_188b_11ec_b231_0242ac1c0002row22_col21{\n",
              "            font-size:  1pt;\n",
              "            background-color:  #e8e8e8;\n",
              "            color:  #000000;\n",
              "        }#T_d64d482a_188b_11ec_b231_0242ac1c0002row23_col3,#T_d64d482a_188b_11ec_b231_0242ac1c0002row24_col7{\n",
              "            font-size:  1pt;\n",
              "            background-color:  #d7d7d7;\n",
              "            color:  #000000;\n",
              "        }#T_d64d482a_188b_11ec_b231_0242ac1c0002row23_col5{\n",
              "            font-size:  1pt;\n",
              "            background-color:  #a5a5a5;\n",
              "            color:  #000000;\n",
              "        }#T_d64d482a_188b_11ec_b231_0242ac1c0002row23_col14{\n",
              "            font-size:  1pt;\n",
              "            background-color:  #555555;\n",
              "            color:  #f1f1f1;\n",
              "        }#T_d64d482a_188b_11ec_b231_0242ac1c0002row23_col15{\n",
              "            font-size:  1pt;\n",
              "            background-color:  #777777;\n",
              "            color:  #000000;\n",
              "        }#T_d64d482a_188b_11ec_b231_0242ac1c0002row23_col17,#T_d64d482a_188b_11ec_b231_0242ac1c0002row24_col10{\n",
              "            font-size:  1pt;\n",
              "            background-color:  #bababa;\n",
              "            color:  #000000;\n",
              "        }#T_d64d482a_188b_11ec_b231_0242ac1c0002row23_col26{\n",
              "            font-size:  1pt;\n",
              "            background-color:  #b9b9b9;\n",
              "            color:  #000000;\n",
              "        }#T_d64d482a_188b_11ec_b231_0242ac1c0002row24_col13{\n",
              "            font-size:  1pt;\n",
              "            background-color:  #c0c0c0;\n",
              "            color:  #000000;\n",
              "        }</style><table id=\"T_d64d482a_188b_11ec_b231_0242ac1c0002\" ><thead>    <tr>        <th class=\"blank level0\" ></th>        <th class=\"col_heading level0 col0\" >0</th>        <th class=\"col_heading level0 col1\" >1</th>        <th class=\"col_heading level0 col2\" >2</th>        <th class=\"col_heading level0 col3\" >3</th>        <th class=\"col_heading level0 col4\" >4</th>        <th class=\"col_heading level0 col5\" >5</th>        <th class=\"col_heading level0 col6\" >6</th>        <th class=\"col_heading level0 col7\" >7</th>        <th class=\"col_heading level0 col8\" >8</th>        <th class=\"col_heading level0 col9\" >9</th>        <th class=\"col_heading level0 col10\" >10</th>        <th class=\"col_heading level0 col11\" >11</th>        <th class=\"col_heading level0 col12\" >12</th>        <th class=\"col_heading level0 col13\" >13</th>        <th class=\"col_heading level0 col14\" >14</th>        <th class=\"col_heading level0 col15\" >15</th>        <th class=\"col_heading level0 col16\" >16</th>        <th class=\"col_heading level0 col17\" >17</th>        <th class=\"col_heading level0 col18\" >18</th>        <th class=\"col_heading level0 col19\" >19</th>        <th class=\"col_heading level0 col20\" >20</th>        <th class=\"col_heading level0 col21\" >21</th>        <th class=\"col_heading level0 col22\" >22</th>        <th class=\"col_heading level0 col23\" >23</th>        <th class=\"col_heading level0 col24\" >24</th>        <th class=\"col_heading level0 col25\" >25</th>        <th class=\"col_heading level0 col26\" >26</th>        <th class=\"col_heading level0 col27\" >27</th>    </tr></thead><tbody>\n",
              "                <tr>\n",
              "                        <th id=\"T_d64d482a_188b_11ec_b231_0242ac1c0002level0_row0\" class=\"row_heading level0 row0\" >0</th>\n",
              "                        <td id=\"T_d64d482a_188b_11ec_b231_0242ac1c0002row0_col0\" class=\"data row0 col0\" >0.000000</td>\n",
              "                        <td id=\"T_d64d482a_188b_11ec_b231_0242ac1c0002row0_col1\" class=\"data row0 col1\" >0.000000</td>\n",
              "                        <td id=\"T_d64d482a_188b_11ec_b231_0242ac1c0002row0_col2\" class=\"data row0 col2\" >0.000000</td>\n",
              "                        <td id=\"T_d64d482a_188b_11ec_b231_0242ac1c0002row0_col3\" class=\"data row0 col3\" >0.000000</td>\n",
              "                        <td id=\"T_d64d482a_188b_11ec_b231_0242ac1c0002row0_col4\" class=\"data row0 col4\" >0.000000</td>\n",
              "                        <td id=\"T_d64d482a_188b_11ec_b231_0242ac1c0002row0_col5\" class=\"data row0 col5\" >0.000000</td>\n",
              "                        <td id=\"T_d64d482a_188b_11ec_b231_0242ac1c0002row0_col6\" class=\"data row0 col6\" >0.000000</td>\n",
              "                        <td id=\"T_d64d482a_188b_11ec_b231_0242ac1c0002row0_col7\" class=\"data row0 col7\" >0.000000</td>\n",
              "                        <td id=\"T_d64d482a_188b_11ec_b231_0242ac1c0002row0_col8\" class=\"data row0 col8\" >0.000000</td>\n",
              "                        <td id=\"T_d64d482a_188b_11ec_b231_0242ac1c0002row0_col9\" class=\"data row0 col9\" >0.000000</td>\n",
              "                        <td id=\"T_d64d482a_188b_11ec_b231_0242ac1c0002row0_col10\" class=\"data row0 col10\" >0.000000</td>\n",
              "                        <td id=\"T_d64d482a_188b_11ec_b231_0242ac1c0002row0_col11\" class=\"data row0 col11\" >0.000000</td>\n",
              "                        <td id=\"T_d64d482a_188b_11ec_b231_0242ac1c0002row0_col12\" class=\"data row0 col12\" >0.000000</td>\n",
              "                        <td id=\"T_d64d482a_188b_11ec_b231_0242ac1c0002row0_col13\" class=\"data row0 col13\" >0.000000</td>\n",
              "                        <td id=\"T_d64d482a_188b_11ec_b231_0242ac1c0002row0_col14\" class=\"data row0 col14\" >0.000000</td>\n",
              "                        <td id=\"T_d64d482a_188b_11ec_b231_0242ac1c0002row0_col15\" class=\"data row0 col15\" >0.000000</td>\n",
              "                        <td id=\"T_d64d482a_188b_11ec_b231_0242ac1c0002row0_col16\" class=\"data row0 col16\" >0.000000</td>\n",
              "                        <td id=\"T_d64d482a_188b_11ec_b231_0242ac1c0002row0_col17\" class=\"data row0 col17\" >0.000000</td>\n",
              "                        <td id=\"T_d64d482a_188b_11ec_b231_0242ac1c0002row0_col18\" class=\"data row0 col18\" >0.000000</td>\n",
              "                        <td id=\"T_d64d482a_188b_11ec_b231_0242ac1c0002row0_col19\" class=\"data row0 col19\" >0.000000</td>\n",
              "                        <td id=\"T_d64d482a_188b_11ec_b231_0242ac1c0002row0_col20\" class=\"data row0 col20\" >0.000000</td>\n",
              "                        <td id=\"T_d64d482a_188b_11ec_b231_0242ac1c0002row0_col21\" class=\"data row0 col21\" >0.000000</td>\n",
              "                        <td id=\"T_d64d482a_188b_11ec_b231_0242ac1c0002row0_col22\" class=\"data row0 col22\" >0.000000</td>\n",
              "                        <td id=\"T_d64d482a_188b_11ec_b231_0242ac1c0002row0_col23\" class=\"data row0 col23\" >0.000000</td>\n",
              "                        <td id=\"T_d64d482a_188b_11ec_b231_0242ac1c0002row0_col24\" class=\"data row0 col24\" >0.000000</td>\n",
              "                        <td id=\"T_d64d482a_188b_11ec_b231_0242ac1c0002row0_col25\" class=\"data row0 col25\" >0.000000</td>\n",
              "                        <td id=\"T_d64d482a_188b_11ec_b231_0242ac1c0002row0_col26\" class=\"data row0 col26\" >0.000000</td>\n",
              "                        <td id=\"T_d64d482a_188b_11ec_b231_0242ac1c0002row0_col27\" class=\"data row0 col27\" >0.000000</td>\n",
              "            </tr>\n",
              "            <tr>\n",
              "                        <th id=\"T_d64d482a_188b_11ec_b231_0242ac1c0002level0_row1\" class=\"row_heading level0 row1\" >1</th>\n",
              "                        <td id=\"T_d64d482a_188b_11ec_b231_0242ac1c0002row1_col0\" class=\"data row1 col0\" >0.000000</td>\n",
              "                        <td id=\"T_d64d482a_188b_11ec_b231_0242ac1c0002row1_col1\" class=\"data row1 col1\" >0.000000</td>\n",
              "                        <td id=\"T_d64d482a_188b_11ec_b231_0242ac1c0002row1_col2\" class=\"data row1 col2\" >0.000000</td>\n",
              "                        <td id=\"T_d64d482a_188b_11ec_b231_0242ac1c0002row1_col3\" class=\"data row1 col3\" >0.000000</td>\n",
              "                        <td id=\"T_d64d482a_188b_11ec_b231_0242ac1c0002row1_col4\" class=\"data row1 col4\" >0.000000</td>\n",
              "                        <td id=\"T_d64d482a_188b_11ec_b231_0242ac1c0002row1_col5\" class=\"data row1 col5\" >0.000000</td>\n",
              "                        <td id=\"T_d64d482a_188b_11ec_b231_0242ac1c0002row1_col6\" class=\"data row1 col6\" >0.000000</td>\n",
              "                        <td id=\"T_d64d482a_188b_11ec_b231_0242ac1c0002row1_col7\" class=\"data row1 col7\" >0.000000</td>\n",
              "                        <td id=\"T_d64d482a_188b_11ec_b231_0242ac1c0002row1_col8\" class=\"data row1 col8\" >0.000000</td>\n",
              "                        <td id=\"T_d64d482a_188b_11ec_b231_0242ac1c0002row1_col9\" class=\"data row1 col9\" >0.000000</td>\n",
              "                        <td id=\"T_d64d482a_188b_11ec_b231_0242ac1c0002row1_col10\" class=\"data row1 col10\" >0.000000</td>\n",
              "                        <td id=\"T_d64d482a_188b_11ec_b231_0242ac1c0002row1_col11\" class=\"data row1 col11\" >0.000000</td>\n",
              "                        <td id=\"T_d64d482a_188b_11ec_b231_0242ac1c0002row1_col12\" class=\"data row1 col12\" >0.000000</td>\n",
              "                        <td id=\"T_d64d482a_188b_11ec_b231_0242ac1c0002row1_col13\" class=\"data row1 col13\" >0.000000</td>\n",
              "                        <td id=\"T_d64d482a_188b_11ec_b231_0242ac1c0002row1_col14\" class=\"data row1 col14\" >0.000000</td>\n",
              "                        <td id=\"T_d64d482a_188b_11ec_b231_0242ac1c0002row1_col15\" class=\"data row1 col15\" >0.000000</td>\n",
              "                        <td id=\"T_d64d482a_188b_11ec_b231_0242ac1c0002row1_col16\" class=\"data row1 col16\" >0.000000</td>\n",
              "                        <td id=\"T_d64d482a_188b_11ec_b231_0242ac1c0002row1_col17\" class=\"data row1 col17\" >0.000000</td>\n",
              "                        <td id=\"T_d64d482a_188b_11ec_b231_0242ac1c0002row1_col18\" class=\"data row1 col18\" >0.000000</td>\n",
              "                        <td id=\"T_d64d482a_188b_11ec_b231_0242ac1c0002row1_col19\" class=\"data row1 col19\" >0.000000</td>\n",
              "                        <td id=\"T_d64d482a_188b_11ec_b231_0242ac1c0002row1_col20\" class=\"data row1 col20\" >0.000000</td>\n",
              "                        <td id=\"T_d64d482a_188b_11ec_b231_0242ac1c0002row1_col21\" class=\"data row1 col21\" >0.000000</td>\n",
              "                        <td id=\"T_d64d482a_188b_11ec_b231_0242ac1c0002row1_col22\" class=\"data row1 col22\" >0.000000</td>\n",
              "                        <td id=\"T_d64d482a_188b_11ec_b231_0242ac1c0002row1_col23\" class=\"data row1 col23\" >0.000000</td>\n",
              "                        <td id=\"T_d64d482a_188b_11ec_b231_0242ac1c0002row1_col24\" class=\"data row1 col24\" >0.000000</td>\n",
              "                        <td id=\"T_d64d482a_188b_11ec_b231_0242ac1c0002row1_col25\" class=\"data row1 col25\" >0.000000</td>\n",
              "                        <td id=\"T_d64d482a_188b_11ec_b231_0242ac1c0002row1_col26\" class=\"data row1 col26\" >0.000000</td>\n",
              "                        <td id=\"T_d64d482a_188b_11ec_b231_0242ac1c0002row1_col27\" class=\"data row1 col27\" >0.000000</td>\n",
              "            </tr>\n",
              "            <tr>\n",
              "                        <th id=\"T_d64d482a_188b_11ec_b231_0242ac1c0002level0_row2\" class=\"row_heading level0 row2\" >2</th>\n",
              "                        <td id=\"T_d64d482a_188b_11ec_b231_0242ac1c0002row2_col0\" class=\"data row2 col0\" >0.000000</td>\n",
              "                        <td id=\"T_d64d482a_188b_11ec_b231_0242ac1c0002row2_col1\" class=\"data row2 col1\" >0.000000</td>\n",
              "                        <td id=\"T_d64d482a_188b_11ec_b231_0242ac1c0002row2_col2\" class=\"data row2 col2\" >0.000000</td>\n",
              "                        <td id=\"T_d64d482a_188b_11ec_b231_0242ac1c0002row2_col3\" class=\"data row2 col3\" >0.000000</td>\n",
              "                        <td id=\"T_d64d482a_188b_11ec_b231_0242ac1c0002row2_col4\" class=\"data row2 col4\" >0.000000</td>\n",
              "                        <td id=\"T_d64d482a_188b_11ec_b231_0242ac1c0002row2_col5\" class=\"data row2 col5\" >0.000000</td>\n",
              "                        <td id=\"T_d64d482a_188b_11ec_b231_0242ac1c0002row2_col6\" class=\"data row2 col6\" >0.000000</td>\n",
              "                        <td id=\"T_d64d482a_188b_11ec_b231_0242ac1c0002row2_col7\" class=\"data row2 col7\" >0.000000</td>\n",
              "                        <td id=\"T_d64d482a_188b_11ec_b231_0242ac1c0002row2_col8\" class=\"data row2 col8\" >0.000000</td>\n",
              "                        <td id=\"T_d64d482a_188b_11ec_b231_0242ac1c0002row2_col9\" class=\"data row2 col9\" >0.000000</td>\n",
              "                        <td id=\"T_d64d482a_188b_11ec_b231_0242ac1c0002row2_col10\" class=\"data row2 col10\" >0.000073</td>\n",
              "                        <td id=\"T_d64d482a_188b_11ec_b231_0242ac1c0002row2_col11\" class=\"data row2 col11\" >0.000196</td>\n",
              "                        <td id=\"T_d64d482a_188b_11ec_b231_0242ac1c0002row2_col12\" class=\"data row2 col12\" >0.000234</td>\n",
              "                        <td id=\"T_d64d482a_188b_11ec_b231_0242ac1c0002row2_col13\" class=\"data row2 col13\" >0.000193</td>\n",
              "                        <td id=\"T_d64d482a_188b_11ec_b231_0242ac1c0002row2_col14\" class=\"data row2 col14\" >0.000276</td>\n",
              "                        <td id=\"T_d64d482a_188b_11ec_b231_0242ac1c0002row2_col15\" class=\"data row2 col15\" >0.000262</td>\n",
              "                        <td id=\"T_d64d482a_188b_11ec_b231_0242ac1c0002row2_col16\" class=\"data row2 col16\" >0.000294</td>\n",
              "                        <td id=\"T_d64d482a_188b_11ec_b231_0242ac1c0002row2_col17\" class=\"data row2 col17\" >0.000284</td>\n",
              "                        <td id=\"T_d64d482a_188b_11ec_b231_0242ac1c0002row2_col18\" class=\"data row2 col18\" >0.000157</td>\n",
              "                        <td id=\"T_d64d482a_188b_11ec_b231_0242ac1c0002row2_col19\" class=\"data row2 col19\" >0.000049</td>\n",
              "                        <td id=\"T_d64d482a_188b_11ec_b231_0242ac1c0002row2_col20\" class=\"data row2 col20\" >0.000006</td>\n",
              "                        <td id=\"T_d64d482a_188b_11ec_b231_0242ac1c0002row2_col21\" class=\"data row2 col21\" >0.000000</td>\n",
              "                        <td id=\"T_d64d482a_188b_11ec_b231_0242ac1c0002row2_col22\" class=\"data row2 col22\" >0.000000</td>\n",
              "                        <td id=\"T_d64d482a_188b_11ec_b231_0242ac1c0002row2_col23\" class=\"data row2 col23\" >0.000000</td>\n",
              "                        <td id=\"T_d64d482a_188b_11ec_b231_0242ac1c0002row2_col24\" class=\"data row2 col24\" >0.000000</td>\n",
              "                        <td id=\"T_d64d482a_188b_11ec_b231_0242ac1c0002row2_col25\" class=\"data row2 col25\" >0.000000</td>\n",
              "                        <td id=\"T_d64d482a_188b_11ec_b231_0242ac1c0002row2_col26\" class=\"data row2 col26\" >0.000000</td>\n",
              "                        <td id=\"T_d64d482a_188b_11ec_b231_0242ac1c0002row2_col27\" class=\"data row2 col27\" >0.000000</td>\n",
              "            </tr>\n",
              "            <tr>\n",
              "                        <th id=\"T_d64d482a_188b_11ec_b231_0242ac1c0002level0_row3\" class=\"row_heading level0 row3\" >3</th>\n",
              "                        <td id=\"T_d64d482a_188b_11ec_b231_0242ac1c0002row3_col0\" class=\"data row3 col0\" >0.000000</td>\n",
              "                        <td id=\"T_d64d482a_188b_11ec_b231_0242ac1c0002row3_col1\" class=\"data row3 col1\" >0.000000</td>\n",
              "                        <td id=\"T_d64d482a_188b_11ec_b231_0242ac1c0002row3_col2\" class=\"data row3 col2\" >0.000000</td>\n",
              "                        <td id=\"T_d64d482a_188b_11ec_b231_0242ac1c0002row3_col3\" class=\"data row3 col3\" >0.000000</td>\n",
              "                        <td id=\"T_d64d482a_188b_11ec_b231_0242ac1c0002row3_col4\" class=\"data row3 col4\" >0.000016</td>\n",
              "                        <td id=\"T_d64d482a_188b_11ec_b231_0242ac1c0002row3_col5\" class=\"data row3 col5\" >0.000487</td>\n",
              "                        <td id=\"T_d64d482a_188b_11ec_b231_0242ac1c0002row3_col6\" class=\"data row3 col6\" >0.000773</td>\n",
              "                        <td id=\"T_d64d482a_188b_11ec_b231_0242ac1c0002row3_col7\" class=\"data row3 col7\" >0.001447</td>\n",
              "                        <td id=\"T_d64d482a_188b_11ec_b231_0242ac1c0002row3_col8\" class=\"data row3 col8\" >0.002979</td>\n",
              "                        <td id=\"T_d64d482a_188b_11ec_b231_0242ac1c0002row3_col9\" class=\"data row3 col9\" >0.005649</td>\n",
              "                        <td id=\"T_d64d482a_188b_11ec_b231_0242ac1c0002row3_col10\" class=\"data row3 col10\" >0.009518</td>\n",
              "                        <td id=\"T_d64d482a_188b_11ec_b231_0242ac1c0002row3_col11\" class=\"data row3 col11\" >0.015693</td>\n",
              "                        <td id=\"T_d64d482a_188b_11ec_b231_0242ac1c0002row3_col12\" class=\"data row3 col12\" >0.021113</td>\n",
              "                        <td id=\"T_d64d482a_188b_11ec_b231_0242ac1c0002row3_col13\" class=\"data row3 col13\" >0.024280</td>\n",
              "                        <td id=\"T_d64d482a_188b_11ec_b231_0242ac1c0002row3_col14\" class=\"data row3 col14\" >0.025964</td>\n",
              "                        <td id=\"T_d64d482a_188b_11ec_b231_0242ac1c0002row3_col15\" class=\"data row3 col15\" >0.024268</td>\n",
              "                        <td id=\"T_d64d482a_188b_11ec_b231_0242ac1c0002row3_col16\" class=\"data row3 col16\" >0.020875</td>\n",
              "                        <td id=\"T_d64d482a_188b_11ec_b231_0242ac1c0002row3_col17\" class=\"data row3 col17\" >0.017108</td>\n",
              "                        <td id=\"T_d64d482a_188b_11ec_b231_0242ac1c0002row3_col18\" class=\"data row3 col18\" >0.011642</td>\n",
              "                        <td id=\"T_d64d482a_188b_11ec_b231_0242ac1c0002row3_col19\" class=\"data row3 col19\" >0.007044</td>\n",
              "                        <td id=\"T_d64d482a_188b_11ec_b231_0242ac1c0002row3_col20\" class=\"data row3 col20\" >0.003994</td>\n",
              "                        <td id=\"T_d64d482a_188b_11ec_b231_0242ac1c0002row3_col21\" class=\"data row3 col21\" >0.001495</td>\n",
              "                        <td id=\"T_d64d482a_188b_11ec_b231_0242ac1c0002row3_col22\" class=\"data row3 col22\" >0.000329</td>\n",
              "                        <td id=\"T_d64d482a_188b_11ec_b231_0242ac1c0002row3_col23\" class=\"data row3 col23\" >0.000000</td>\n",
              "                        <td id=\"T_d64d482a_188b_11ec_b231_0242ac1c0002row3_col24\" class=\"data row3 col24\" >0.000000</td>\n",
              "                        <td id=\"T_d64d482a_188b_11ec_b231_0242ac1c0002row3_col25\" class=\"data row3 col25\" >0.000000</td>\n",
              "                        <td id=\"T_d64d482a_188b_11ec_b231_0242ac1c0002row3_col26\" class=\"data row3 col26\" >0.000000</td>\n",
              "                        <td id=\"T_d64d482a_188b_11ec_b231_0242ac1c0002row3_col27\" class=\"data row3 col27\" >0.000000</td>\n",
              "            </tr>\n",
              "            <tr>\n",
              "                        <th id=\"T_d64d482a_188b_11ec_b231_0242ac1c0002level0_row4\" class=\"row_heading level0 row4\" >4</th>\n",
              "                        <td id=\"T_d64d482a_188b_11ec_b231_0242ac1c0002row4_col0\" class=\"data row4 col0\" >0.000000</td>\n",
              "                        <td id=\"T_d64d482a_188b_11ec_b231_0242ac1c0002row4_col1\" class=\"data row4 col1\" >0.000024</td>\n",
              "                        <td id=\"T_d64d482a_188b_11ec_b231_0242ac1c0002row4_col2\" class=\"data row4 col2\" >0.000033</td>\n",
              "                        <td id=\"T_d64d482a_188b_11ec_b231_0242ac1c0002row4_col3\" class=\"data row4 col3\" >0.000156</td>\n",
              "                        <td id=\"T_d64d482a_188b_11ec_b231_0242ac1c0002row4_col4\" class=\"data row4 col4\" >0.001400</td>\n",
              "                        <td id=\"T_d64d482a_188b_11ec_b231_0242ac1c0002row4_col5\" class=\"data row4 col5\" >0.005785</td>\n",
              "                        <td id=\"T_d64d482a_188b_11ec_b231_0242ac1c0002row4_col6\" class=\"data row4 col6\" >0.013664</td>\n",
              "                        <td id=\"T_d64d482a_188b_11ec_b231_0242ac1c0002row4_col7\" class=\"data row4 col7\" >0.030111</td>\n",
              "                        <td id=\"T_d64d482a_188b_11ec_b231_0242ac1c0002row4_col8\" class=\"data row4 col8\" >0.055401</td>\n",
              "                        <td id=\"T_d64d482a_188b_11ec_b231_0242ac1c0002row4_col9\" class=\"data row4 col9\" >0.090316</td>\n",
              "                        <td id=\"T_d64d482a_188b_11ec_b231_0242ac1c0002row4_col10\" class=\"data row4 col10\" >0.137247</td>\n",
              "                        <td id=\"T_d64d482a_188b_11ec_b231_0242ac1c0002row4_col11\" class=\"data row4 col11\" >0.183566</td>\n",
              "                        <td id=\"T_d64d482a_188b_11ec_b231_0242ac1c0002row4_col12\" class=\"data row4 col12\" >0.221279</td>\n",
              "                        <td id=\"T_d64d482a_188b_11ec_b231_0242ac1c0002row4_col13\" class=\"data row4 col13\" >0.246549</td>\n",
              "                        <td id=\"T_d64d482a_188b_11ec_b231_0242ac1c0002row4_col14\" class=\"data row4 col14\" >0.249719</td>\n",
              "                        <td id=\"T_d64d482a_188b_11ec_b231_0242ac1c0002row4_col15\" class=\"data row4 col15\" >0.235358</td>\n",
              "                        <td id=\"T_d64d482a_188b_11ec_b231_0242ac1c0002row4_col16\" class=\"data row4 col16\" >0.198716</td>\n",
              "                        <td id=\"T_d64d482a_188b_11ec_b231_0242ac1c0002row4_col17\" class=\"data row4 col17\" >0.150844</td>\n",
              "                        <td id=\"T_d64d482a_188b_11ec_b231_0242ac1c0002row4_col18\" class=\"data row4 col18\" >0.105427</td>\n",
              "                        <td id=\"T_d64d482a_188b_11ec_b231_0242ac1c0002row4_col19\" class=\"data row4 col19\" >0.064754</td>\n",
              "                        <td id=\"T_d64d482a_188b_11ec_b231_0242ac1c0002row4_col20\" class=\"data row4 col20\" >0.032829</td>\n",
              "                        <td id=\"T_d64d482a_188b_11ec_b231_0242ac1c0002row4_col21\" class=\"data row4 col21\" >0.013352</td>\n",
              "                        <td id=\"T_d64d482a_188b_11ec_b231_0242ac1c0002row4_col22\" class=\"data row4 col22\" >0.004597</td>\n",
              "                        <td id=\"T_d64d482a_188b_11ec_b231_0242ac1c0002row4_col23\" class=\"data row4 col23\" >0.000393</td>\n",
              "                        <td id=\"T_d64d482a_188b_11ec_b231_0242ac1c0002row4_col24\" class=\"data row4 col24\" >0.000002</td>\n",
              "                        <td id=\"T_d64d482a_188b_11ec_b231_0242ac1c0002row4_col25\" class=\"data row4 col25\" >0.000000</td>\n",
              "                        <td id=\"T_d64d482a_188b_11ec_b231_0242ac1c0002row4_col26\" class=\"data row4 col26\" >0.000000</td>\n",
              "                        <td id=\"T_d64d482a_188b_11ec_b231_0242ac1c0002row4_col27\" class=\"data row4 col27\" >0.000000</td>\n",
              "            </tr>\n",
              "            <tr>\n",
              "                        <th id=\"T_d64d482a_188b_11ec_b231_0242ac1c0002level0_row5\" class=\"row_heading level0 row5\" >5</th>\n",
              "                        <td id=\"T_d64d482a_188b_11ec_b231_0242ac1c0002row5_col0\" class=\"data row5 col0\" >0.000000</td>\n",
              "                        <td id=\"T_d64d482a_188b_11ec_b231_0242ac1c0002row5_col1\" class=\"data row5 col1\" >0.000000</td>\n",
              "                        <td id=\"T_d64d482a_188b_11ec_b231_0242ac1c0002row5_col2\" class=\"data row5 col2\" >0.000058</td>\n",
              "                        <td id=\"T_d64d482a_188b_11ec_b231_0242ac1c0002row5_col3\" class=\"data row5 col3\" >0.001520</td>\n",
              "                        <td id=\"T_d64d482a_188b_11ec_b231_0242ac1c0002row5_col4\" class=\"data row5 col4\" >0.008891</td>\n",
              "                        <td id=\"T_d64d482a_188b_11ec_b231_0242ac1c0002row5_col5\" class=\"data row5 col5\" >0.027837</td>\n",
              "                        <td id=\"T_d64d482a_188b_11ec_b231_0242ac1c0002row5_col6\" class=\"data row5 col6\" >0.061064</td>\n",
              "                        <td id=\"T_d64d482a_188b_11ec_b231_0242ac1c0002row5_col7\" class=\"data row5 col7\" >0.112706</td>\n",
              "                        <td id=\"T_d64d482a_188b_11ec_b231_0242ac1c0002row5_col8\" class=\"data row5 col8\" >0.186884</td>\n",
              "                        <td id=\"T_d64d482a_188b_11ec_b231_0242ac1c0002row5_col9\" class=\"data row5 col9\" >0.280245</td>\n",
              "                        <td id=\"T_d64d482a_188b_11ec_b231_0242ac1c0002row5_col10\" class=\"data row5 col10\" >0.382971</td>\n",
              "                        <td id=\"T_d64d482a_188b_11ec_b231_0242ac1c0002row5_col11\" class=\"data row5 col11\" >0.480244</td>\n",
              "                        <td id=\"T_d64d482a_188b_11ec_b231_0242ac1c0002row5_col12\" class=\"data row5 col12\" >0.558773</td>\n",
              "                        <td id=\"T_d64d482a_188b_11ec_b231_0242ac1c0002row5_col13\" class=\"data row5 col13\" >0.613238</td>\n",
              "                        <td id=\"T_d64d482a_188b_11ec_b231_0242ac1c0002row5_col14\" class=\"data row5 col14\" >0.623291</td>\n",
              "                        <td id=\"T_d64d482a_188b_11ec_b231_0242ac1c0002row5_col15\" class=\"data row5 col15\" >0.597713</td>\n",
              "                        <td id=\"T_d64d482a_188b_11ec_b231_0242ac1c0002row5_col16\" class=\"data row5 col16\" >0.528347</td>\n",
              "                        <td id=\"T_d64d482a_188b_11ec_b231_0242ac1c0002row5_col17\" class=\"data row5 col17\" >0.421000</td>\n",
              "                        <td id=\"T_d64d482a_188b_11ec_b231_0242ac1c0002row5_col18\" class=\"data row5 col18\" >0.305756</td>\n",
              "                        <td id=\"T_d64d482a_188b_11ec_b231_0242ac1c0002row5_col19\" class=\"data row5 col19\" >0.203470</td>\n",
              "                        <td id=\"T_d64d482a_188b_11ec_b231_0242ac1c0002row5_col20\" class=\"data row5 col20\" >0.117423</td>\n",
              "                        <td id=\"T_d64d482a_188b_11ec_b231_0242ac1c0002row5_col21\" class=\"data row5 col21\" >0.053793</td>\n",
              "                        <td id=\"T_d64d482a_188b_11ec_b231_0242ac1c0002row5_col22\" class=\"data row5 col22\" >0.016992</td>\n",
              "                        <td id=\"T_d64d482a_188b_11ec_b231_0242ac1c0002row5_col23\" class=\"data row5 col23\" >0.003462</td>\n",
              "                        <td id=\"T_d64d482a_188b_11ec_b231_0242ac1c0002row5_col24\" class=\"data row5 col24\" >0.000259</td>\n",
              "                        <td id=\"T_d64d482a_188b_11ec_b231_0242ac1c0002row5_col25\" class=\"data row5 col25\" >0.000000</td>\n",
              "                        <td id=\"T_d64d482a_188b_11ec_b231_0242ac1c0002row5_col26\" class=\"data row5 col26\" >0.000000</td>\n",
              "                        <td id=\"T_d64d482a_188b_11ec_b231_0242ac1c0002row5_col27\" class=\"data row5 col27\" >0.000000</td>\n",
              "            </tr>\n",
              "            <tr>\n",
              "                        <th id=\"T_d64d482a_188b_11ec_b231_0242ac1c0002level0_row6\" class=\"row_heading level0 row6\" >6</th>\n",
              "                        <td id=\"T_d64d482a_188b_11ec_b231_0242ac1c0002row6_col0\" class=\"data row6 col0\" >0.000000</td>\n",
              "                        <td id=\"T_d64d482a_188b_11ec_b231_0242ac1c0002row6_col1\" class=\"data row6 col1\" >0.000007</td>\n",
              "                        <td id=\"T_d64d482a_188b_11ec_b231_0242ac1c0002row6_col2\" class=\"data row6 col2\" >0.000301</td>\n",
              "                        <td id=\"T_d64d482a_188b_11ec_b231_0242ac1c0002row6_col3\" class=\"data row6 col3\" >0.005817</td>\n",
              "                        <td id=\"T_d64d482a_188b_11ec_b231_0242ac1c0002row6_col4\" class=\"data row6 col4\" >0.024498</td>\n",
              "                        <td id=\"T_d64d482a_188b_11ec_b231_0242ac1c0002row6_col5\" class=\"data row6 col5\" >0.059899</td>\n",
              "                        <td id=\"T_d64d482a_188b_11ec_b231_0242ac1c0002row6_col6\" class=\"data row6 col6\" >0.120376</td>\n",
              "                        <td id=\"T_d64d482a_188b_11ec_b231_0242ac1c0002row6_col7\" class=\"data row6 col7\" >0.207547</td>\n",
              "                        <td id=\"T_d64d482a_188b_11ec_b231_0242ac1c0002row6_col8\" class=\"data row6 col8\" >0.319394</td>\n",
              "                        <td id=\"T_d64d482a_188b_11ec_b231_0242ac1c0002row6_col9\" class=\"data row6 col9\" >0.435468</td>\n",
              "                        <td id=\"T_d64d482a_188b_11ec_b231_0242ac1c0002row6_col10\" class=\"data row6 col10\" >0.544466</td>\n",
              "                        <td id=\"T_d64d482a_188b_11ec_b231_0242ac1c0002row6_col11\" class=\"data row6 col11\" >0.627637</td>\n",
              "                        <td id=\"T_d64d482a_188b_11ec_b231_0242ac1c0002row6_col12\" class=\"data row6 col12\" >0.685036</td>\n",
              "                        <td id=\"T_d64d482a_188b_11ec_b231_0242ac1c0002row6_col13\" class=\"data row6 col13\" >0.723949</td>\n",
              "                        <td id=\"T_d64d482a_188b_11ec_b231_0242ac1c0002row6_col14\" class=\"data row6 col14\" >0.744886</td>\n",
              "                        <td id=\"T_d64d482a_188b_11ec_b231_0242ac1c0002row6_col15\" class=\"data row6 col15\" >0.744625</td>\n",
              "                        <td id=\"T_d64d482a_188b_11ec_b231_0242ac1c0002row6_col16\" class=\"data row6 col16\" >0.705004</td>\n",
              "                        <td id=\"T_d64d482a_188b_11ec_b231_0242ac1c0002row6_col17\" class=\"data row6 col17\" >0.608746</td>\n",
              "                        <td id=\"T_d64d482a_188b_11ec_b231_0242ac1c0002row6_col18\" class=\"data row6 col18\" >0.479163</td>\n",
              "                        <td id=\"T_d64d482a_188b_11ec_b231_0242ac1c0002row6_col19\" class=\"data row6 col19\" >0.339491</td>\n",
              "                        <td id=\"T_d64d482a_188b_11ec_b231_0242ac1c0002row6_col20\" class=\"data row6 col20\" >0.213218</td>\n",
              "                        <td id=\"T_d64d482a_188b_11ec_b231_0242ac1c0002row6_col21\" class=\"data row6 col21\" >0.108683</td>\n",
              "                        <td id=\"T_d64d482a_188b_11ec_b231_0242ac1c0002row6_col22\" class=\"data row6 col22\" >0.037335</td>\n",
              "                        <td id=\"T_d64d482a_188b_11ec_b231_0242ac1c0002row6_col23\" class=\"data row6 col23\" >0.007908</td>\n",
              "                        <td id=\"T_d64d482a_188b_11ec_b231_0242ac1c0002row6_col24\" class=\"data row6 col24\" >0.000823</td>\n",
              "                        <td id=\"T_d64d482a_188b_11ec_b231_0242ac1c0002row6_col25\" class=\"data row6 col25\" >0.000000</td>\n",
              "                        <td id=\"T_d64d482a_188b_11ec_b231_0242ac1c0002row6_col26\" class=\"data row6 col26\" >0.000000</td>\n",
              "                        <td id=\"T_d64d482a_188b_11ec_b231_0242ac1c0002row6_col27\" class=\"data row6 col27\" >0.000000</td>\n",
              "            </tr>\n",
              "            <tr>\n",
              "                        <th id=\"T_d64d482a_188b_11ec_b231_0242ac1c0002level0_row7\" class=\"row_heading level0 row7\" >7</th>\n",
              "                        <td id=\"T_d64d482a_188b_11ec_b231_0242ac1c0002row7_col0\" class=\"data row7 col0\" >0.000000</td>\n",
              "                        <td id=\"T_d64d482a_188b_11ec_b231_0242ac1c0002row7_col1\" class=\"data row7 col1\" >0.000324</td>\n",
              "                        <td id=\"T_d64d482a_188b_11ec_b231_0242ac1c0002row7_col2\" class=\"data row7 col2\" >0.000454</td>\n",
              "                        <td id=\"T_d64d482a_188b_11ec_b231_0242ac1c0002row7_col3\" class=\"data row7 col3\" >0.009741</td>\n",
              "                        <td id=\"T_d64d482a_188b_11ec_b231_0242ac1c0002row7_col4\" class=\"data row7 col4\" >0.037895</td>\n",
              "                        <td id=\"T_d64d482a_188b_11ec_b231_0242ac1c0002row7_col5\" class=\"data row7 col5\" >0.082921</td>\n",
              "                        <td id=\"T_d64d482a_188b_11ec_b231_0242ac1c0002row7_col6\" class=\"data row7 col6\" >0.153822</td>\n",
              "                        <td id=\"T_d64d482a_188b_11ec_b231_0242ac1c0002row7_col7\" class=\"data row7 col7\" >0.241572</td>\n",
              "                        <td id=\"T_d64d482a_188b_11ec_b231_0242ac1c0002row7_col8\" class=\"data row7 col8\" >0.337670</td>\n",
              "                        <td id=\"T_d64d482a_188b_11ec_b231_0242ac1c0002row7_col9\" class=\"data row7 col9\" >0.426816</td>\n",
              "                        <td id=\"T_d64d482a_188b_11ec_b231_0242ac1c0002row7_col10\" class=\"data row7 col10\" >0.491613</td>\n",
              "                        <td id=\"T_d64d482a_188b_11ec_b231_0242ac1c0002row7_col11\" class=\"data row7 col11\" >0.528414</td>\n",
              "                        <td id=\"T_d64d482a_188b_11ec_b231_0242ac1c0002row7_col12\" class=\"data row7 col12\" >0.544748</td>\n",
              "                        <td id=\"T_d64d482a_188b_11ec_b231_0242ac1c0002row7_col13\" class=\"data row7 col13\" >0.558829</td>\n",
              "                        <td id=\"T_d64d482a_188b_11ec_b231_0242ac1c0002row7_col14\" class=\"data row7 col14\" >0.586409</td>\n",
              "                        <td id=\"T_d64d482a_188b_11ec_b231_0242ac1c0002row7_col15\" class=\"data row7 col15\" >0.627503</td>\n",
              "                        <td id=\"T_d64d482a_188b_11ec_b231_0242ac1c0002row7_col16\" class=\"data row7 col16\" >0.651254</td>\n",
              "                        <td id=\"T_d64d482a_188b_11ec_b231_0242ac1c0002row7_col17\" class=\"data row7 col17\" >0.621123</td>\n",
              "                        <td id=\"T_d64d482a_188b_11ec_b231_0242ac1c0002row7_col18\" class=\"data row7 col18\" >0.528493</td>\n",
              "                        <td id=\"T_d64d482a_188b_11ec_b231_0242ac1c0002row7_col19\" class=\"data row7 col19\" >0.407527</td>\n",
              "                        <td id=\"T_d64d482a_188b_11ec_b231_0242ac1c0002row7_col20\" class=\"data row7 col20\" >0.270252</td>\n",
              "                        <td id=\"T_d64d482a_188b_11ec_b231_0242ac1c0002row7_col21\" class=\"data row7 col21\" >0.144119</td>\n",
              "                        <td id=\"T_d64d482a_188b_11ec_b231_0242ac1c0002row7_col22\" class=\"data row7 col22\" >0.053465</td>\n",
              "                        <td id=\"T_d64d482a_188b_11ec_b231_0242ac1c0002row7_col23\" class=\"data row7 col23\" >0.011405</td>\n",
              "                        <td id=\"T_d64d482a_188b_11ec_b231_0242ac1c0002row7_col24\" class=\"data row7 col24\" >0.001049</td>\n",
              "                        <td id=\"T_d64d482a_188b_11ec_b231_0242ac1c0002row7_col25\" class=\"data row7 col25\" >0.000000</td>\n",
              "                        <td id=\"T_d64d482a_188b_11ec_b231_0242ac1c0002row7_col26\" class=\"data row7 col26\" >0.000000</td>\n",
              "                        <td id=\"T_d64d482a_188b_11ec_b231_0242ac1c0002row7_col27\" class=\"data row7 col27\" >0.000000</td>\n",
              "            </tr>\n",
              "            <tr>\n",
              "                        <th id=\"T_d64d482a_188b_11ec_b231_0242ac1c0002level0_row8\" class=\"row_heading level0 row8\" >8</th>\n",
              "                        <td id=\"T_d64d482a_188b_11ec_b231_0242ac1c0002row8_col0\" class=\"data row8 col0\" >0.000000</td>\n",
              "                        <td id=\"T_d64d482a_188b_11ec_b231_0242ac1c0002row8_col1\" class=\"data row8 col1\" >0.000126</td>\n",
              "                        <td id=\"T_d64d482a_188b_11ec_b231_0242ac1c0002row8_col2\" class=\"data row8 col2\" >0.000540</td>\n",
              "                        <td id=\"T_d64d482a_188b_11ec_b231_0242ac1c0002row8_col3\" class=\"data row8 col3\" >0.011943</td>\n",
              "                        <td id=\"T_d64d482a_188b_11ec_b231_0242ac1c0002row8_col4\" class=\"data row8 col4\" >0.040899</td>\n",
              "                        <td id=\"T_d64d482a_188b_11ec_b231_0242ac1c0002row8_col5\" class=\"data row8 col5\" >0.078775</td>\n",
              "                        <td id=\"T_d64d482a_188b_11ec_b231_0242ac1c0002row8_col6\" class=\"data row8 col6\" >0.134423</td>\n",
              "                        <td id=\"T_d64d482a_188b_11ec_b231_0242ac1c0002row8_col7\" class=\"data row8 col7\" >0.194570</td>\n",
              "                        <td id=\"T_d64d482a_188b_11ec_b231_0242ac1c0002row8_col8\" class=\"data row8 col8\" >0.250744</td>\n",
              "                        <td id=\"T_d64d482a_188b_11ec_b231_0242ac1c0002row8_col9\" class=\"data row8 col9\" >0.294886</td>\n",
              "                        <td id=\"T_d64d482a_188b_11ec_b231_0242ac1c0002row8_col10\" class=\"data row8 col10\" >0.316929</td>\n",
              "                        <td id=\"T_d64d482a_188b_11ec_b231_0242ac1c0002row8_col11\" class=\"data row8 col11\" >0.317466</td>\n",
              "                        <td id=\"T_d64d482a_188b_11ec_b231_0242ac1c0002row8_col12\" class=\"data row8 col12\" >0.311332</td>\n",
              "                        <td id=\"T_d64d482a_188b_11ec_b231_0242ac1c0002row8_col13\" class=\"data row8 col13\" >0.321823</td>\n",
              "                        <td id=\"T_d64d482a_188b_11ec_b231_0242ac1c0002row8_col14\" class=\"data row8 col14\" >0.366340</td>\n",
              "                        <td id=\"T_d64d482a_188b_11ec_b231_0242ac1c0002row8_col15\" class=\"data row8 col15\" >0.452056</td>\n",
              "                        <td id=\"T_d64d482a_188b_11ec_b231_0242ac1c0002row8_col16\" class=\"data row8 col16\" >0.537596</td>\n",
              "                        <td id=\"T_d64d482a_188b_11ec_b231_0242ac1c0002row8_col17\" class=\"data row8 col17\" >0.570680</td>\n",
              "                        <td id=\"T_d64d482a_188b_11ec_b231_0242ac1c0002row8_col18\" class=\"data row8 col18\" >0.526004</td>\n",
              "                        <td id=\"T_d64d482a_188b_11ec_b231_0242ac1c0002row8_col19\" class=\"data row8 col19\" >0.417367</td>\n",
              "                        <td id=\"T_d64d482a_188b_11ec_b231_0242ac1c0002row8_col20\" class=\"data row8 col20\" >0.277697</td>\n",
              "                        <td id=\"T_d64d482a_188b_11ec_b231_0242ac1c0002row8_col21\" class=\"data row8 col21\" >0.147914</td>\n",
              "                        <td id=\"T_d64d482a_188b_11ec_b231_0242ac1c0002row8_col22\" class=\"data row8 col22\" >0.056850</td>\n",
              "                        <td id=\"T_d64d482a_188b_11ec_b231_0242ac1c0002row8_col23\" class=\"data row8 col23\" >0.011186</td>\n",
              "                        <td id=\"T_d64d482a_188b_11ec_b231_0242ac1c0002row8_col24\" class=\"data row8 col24\" >0.000565</td>\n",
              "                        <td id=\"T_d64d482a_188b_11ec_b231_0242ac1c0002row8_col25\" class=\"data row8 col25\" >0.000000</td>\n",
              "                        <td id=\"T_d64d482a_188b_11ec_b231_0242ac1c0002row8_col26\" class=\"data row8 col26\" >0.000000</td>\n",
              "                        <td id=\"T_d64d482a_188b_11ec_b231_0242ac1c0002row8_col27\" class=\"data row8 col27\" >0.000000</td>\n",
              "            </tr>\n",
              "            <tr>\n",
              "                        <th id=\"T_d64d482a_188b_11ec_b231_0242ac1c0002level0_row9\" class=\"row_heading level0 row9\" >9</th>\n",
              "                        <td id=\"T_d64d482a_188b_11ec_b231_0242ac1c0002row9_col0\" class=\"data row9 col0\" >0.000000</td>\n",
              "                        <td id=\"T_d64d482a_188b_11ec_b231_0242ac1c0002row9_col1\" class=\"data row9 col1\" >0.000135</td>\n",
              "                        <td id=\"T_d64d482a_188b_11ec_b231_0242ac1c0002row9_col2\" class=\"data row9 col2\" >0.000646</td>\n",
              "                        <td id=\"T_d64d482a_188b_11ec_b231_0242ac1c0002row9_col3\" class=\"data row9 col3\" >0.009146</td>\n",
              "                        <td id=\"T_d64d482a_188b_11ec_b231_0242ac1c0002row9_col4\" class=\"data row9 col4\" >0.029371</td>\n",
              "                        <td id=\"T_d64d482a_188b_11ec_b231_0242ac1c0002row9_col5\" class=\"data row9 col5\" >0.054969</td>\n",
              "                        <td id=\"T_d64d482a_188b_11ec_b231_0242ac1c0002row9_col6\" class=\"data row9 col6\" >0.089482</td>\n",
              "                        <td id=\"T_d64d482a_188b_11ec_b231_0242ac1c0002row9_col7\" class=\"data row9 col7\" >0.119549</td>\n",
              "                        <td id=\"T_d64d482a_188b_11ec_b231_0242ac1c0002row9_col8\" class=\"data row9 col8\" >0.141732</td>\n",
              "                        <td id=\"T_d64d482a_188b_11ec_b231_0242ac1c0002row9_col9\" class=\"data row9 col9\" >0.155846</td>\n",
              "                        <td id=\"T_d64d482a_188b_11ec_b231_0242ac1c0002row9_col10\" class=\"data row9 col10\" >0.161737</td>\n",
              "                        <td id=\"T_d64d482a_188b_11ec_b231_0242ac1c0002row9_col11\" class=\"data row9 col11\" >0.161483</td>\n",
              "                        <td id=\"T_d64d482a_188b_11ec_b231_0242ac1c0002row9_col12\" class=\"data row9 col12\" >0.169577</td>\n",
              "                        <td id=\"T_d64d482a_188b_11ec_b231_0242ac1c0002row9_col13\" class=\"data row9 col13\" >0.205845</td>\n",
              "                        <td id=\"T_d64d482a_188b_11ec_b231_0242ac1c0002row9_col14\" class=\"data row9 col14\" >0.292121</td>\n",
              "                        <td id=\"T_d64d482a_188b_11ec_b231_0242ac1c0002row9_col15\" class=\"data row9 col15\" >0.418709</td>\n",
              "                        <td id=\"T_d64d482a_188b_11ec_b231_0242ac1c0002row9_col16\" class=\"data row9 col16\" >0.530466</td>\n",
              "                        <td id=\"T_d64d482a_188b_11ec_b231_0242ac1c0002row9_col17\" class=\"data row9 col17\" >0.574460</td>\n",
              "                        <td id=\"T_d64d482a_188b_11ec_b231_0242ac1c0002row9_col18\" class=\"data row9 col18\" >0.516988</td>\n",
              "                        <td id=\"T_d64d482a_188b_11ec_b231_0242ac1c0002row9_col19\" class=\"data row9 col19\" >0.388448</td>\n",
              "                        <td id=\"T_d64d482a_188b_11ec_b231_0242ac1c0002row9_col20\" class=\"data row9 col20\" >0.243504</td>\n",
              "                        <td id=\"T_d64d482a_188b_11ec_b231_0242ac1c0002row9_col21\" class=\"data row9 col21\" >0.119844</td>\n",
              "                        <td id=\"T_d64d482a_188b_11ec_b231_0242ac1c0002row9_col22\" class=\"data row9 col22\" >0.044328</td>\n",
              "                        <td id=\"T_d64d482a_188b_11ec_b231_0242ac1c0002row9_col23\" class=\"data row9 col23\" >0.008707</td>\n",
              "                        <td id=\"T_d64d482a_188b_11ec_b231_0242ac1c0002row9_col24\" class=\"data row9 col24\" >0.000116</td>\n",
              "                        <td id=\"T_d64d482a_188b_11ec_b231_0242ac1c0002row9_col25\" class=\"data row9 col25\" >0.000040</td>\n",
              "                        <td id=\"T_d64d482a_188b_11ec_b231_0242ac1c0002row9_col26\" class=\"data row9 col26\" >0.000000</td>\n",
              "                        <td id=\"T_d64d482a_188b_11ec_b231_0242ac1c0002row9_col27\" class=\"data row9 col27\" >0.000000</td>\n",
              "            </tr>\n",
              "            <tr>\n",
              "                        <th id=\"T_d64d482a_188b_11ec_b231_0242ac1c0002level0_row10\" class=\"row_heading level0 row10\" >10</th>\n",
              "                        <td id=\"T_d64d482a_188b_11ec_b231_0242ac1c0002row10_col0\" class=\"data row10 col0\" >0.000000</td>\n",
              "                        <td id=\"T_d64d482a_188b_11ec_b231_0242ac1c0002row10_col1\" class=\"data row10 col1\" >0.000067</td>\n",
              "                        <td id=\"T_d64d482a_188b_11ec_b231_0242ac1c0002row10_col2\" class=\"data row10 col2\" >0.000430</td>\n",
              "                        <td id=\"T_d64d482a_188b_11ec_b231_0242ac1c0002row10_col3\" class=\"data row10 col3\" >0.006778</td>\n",
              "                        <td id=\"T_d64d482a_188b_11ec_b231_0242ac1c0002row10_col4\" class=\"data row10 col4\" >0.016751</td>\n",
              "                        <td id=\"T_d64d482a_188b_11ec_b231_0242ac1c0002row10_col5\" class=\"data row10 col5\" >0.029374</td>\n",
              "                        <td id=\"T_d64d482a_188b_11ec_b231_0242ac1c0002row10_col6\" class=\"data row10 col6\" >0.045093</td>\n",
              "                        <td id=\"T_d64d482a_188b_11ec_b231_0242ac1c0002row10_col7\" class=\"data row10 col7\" >0.057854</td>\n",
              "                        <td id=\"T_d64d482a_188b_11ec_b231_0242ac1c0002row10_col8\" class=\"data row10 col8\" >0.068061</td>\n",
              "                        <td id=\"T_d64d482a_188b_11ec_b231_0242ac1c0002row10_col9\" class=\"data row10 col9\" >0.078151</td>\n",
              "                        <td id=\"T_d64d482a_188b_11ec_b231_0242ac1c0002row10_col10\" class=\"data row10 col10\" >0.095189</td>\n",
              "                        <td id=\"T_d64d482a_188b_11ec_b231_0242ac1c0002row10_col11\" class=\"data row10 col11\" >0.125334</td>\n",
              "                        <td id=\"T_d64d482a_188b_11ec_b231_0242ac1c0002row10_col12\" class=\"data row10 col12\" >0.180255</td>\n",
              "                        <td id=\"T_d64d482a_188b_11ec_b231_0242ac1c0002row10_col13\" class=\"data row10 col13\" >0.274191</td>\n",
              "                        <td id=\"T_d64d482a_188b_11ec_b231_0242ac1c0002row10_col14\" class=\"data row10 col14\" >0.402676</td>\n",
              "                        <td id=\"T_d64d482a_188b_11ec_b231_0242ac1c0002row10_col15\" class=\"data row10 col15\" >0.533542</td>\n",
              "                        <td id=\"T_d64d482a_188b_11ec_b231_0242ac1c0002row10_col16\" class=\"data row10 col16\" >0.613732</td>\n",
              "                        <td id=\"T_d64d482a_188b_11ec_b231_0242ac1c0002row10_col17\" class=\"data row10 col17\" >0.596561</td>\n",
              "                        <td id=\"T_d64d482a_188b_11ec_b231_0242ac1c0002row10_col18\" class=\"data row10 col18\" >0.479787</td>\n",
              "                        <td id=\"T_d64d482a_188b_11ec_b231_0242ac1c0002row10_col19\" class=\"data row10 col19\" >0.320040</td>\n",
              "                        <td id=\"T_d64d482a_188b_11ec_b231_0242ac1c0002row10_col20\" class=\"data row10 col20\" >0.178850</td>\n",
              "                        <td id=\"T_d64d482a_188b_11ec_b231_0242ac1c0002row10_col21\" class=\"data row10 col21\" >0.077661</td>\n",
              "                        <td id=\"T_d64d482a_188b_11ec_b231_0242ac1c0002row10_col22\" class=\"data row10 col22\" >0.024957</td>\n",
              "                        <td id=\"T_d64d482a_188b_11ec_b231_0242ac1c0002row10_col23\" class=\"data row10 col23\" >0.004688</td>\n",
              "                        <td id=\"T_d64d482a_188b_11ec_b231_0242ac1c0002row10_col24\" class=\"data row10 col24\" >0.000040</td>\n",
              "                        <td id=\"T_d64d482a_188b_11ec_b231_0242ac1c0002row10_col25\" class=\"data row10 col25\" >0.000118</td>\n",
              "                        <td id=\"T_d64d482a_188b_11ec_b231_0242ac1c0002row10_col26\" class=\"data row10 col26\" >0.000000</td>\n",
              "                        <td id=\"T_d64d482a_188b_11ec_b231_0242ac1c0002row10_col27\" class=\"data row10 col27\" >0.000000</td>\n",
              "            </tr>\n",
              "            <tr>\n",
              "                        <th id=\"T_d64d482a_188b_11ec_b231_0242ac1c0002level0_row11\" class=\"row_heading level0 row11\" >11</th>\n",
              "                        <td id=\"T_d64d482a_188b_11ec_b231_0242ac1c0002row11_col0\" class=\"data row11 col0\" >0.000000</td>\n",
              "                        <td id=\"T_d64d482a_188b_11ec_b231_0242ac1c0002row11_col1\" class=\"data row11 col1\" >0.000049</td>\n",
              "                        <td id=\"T_d64d482a_188b_11ec_b231_0242ac1c0002row11_col2\" class=\"data row11 col2\" >0.000370</td>\n",
              "                        <td id=\"T_d64d482a_188b_11ec_b231_0242ac1c0002row11_col3\" class=\"data row11 col3\" >0.003859</td>\n",
              "                        <td id=\"T_d64d482a_188b_11ec_b231_0242ac1c0002row11_col4\" class=\"data row11 col4\" >0.008830</td>\n",
              "                        <td id=\"T_d64d482a_188b_11ec_b231_0242ac1c0002row11_col5\" class=\"data row11 col5\" >0.014541</td>\n",
              "                        <td id=\"T_d64d482a_188b_11ec_b231_0242ac1c0002row11_col6\" class=\"data row11 col6\" >0.020740</td>\n",
              "                        <td id=\"T_d64d482a_188b_11ec_b231_0242ac1c0002row11_col7\" class=\"data row11 col7\" >0.029064</td>\n",
              "                        <td id=\"T_d64d482a_188b_11ec_b231_0242ac1c0002row11_col8\" class=\"data row11 col8\" >0.044311</td>\n",
              "                        <td id=\"T_d64d482a_188b_11ec_b231_0242ac1c0002row11_col9\" class=\"data row11 col9\" >0.077774</td>\n",
              "                        <td id=\"T_d64d482a_188b_11ec_b231_0242ac1c0002row11_col10\" class=\"data row11 col10\" >0.139567</td>\n",
              "                        <td id=\"T_d64d482a_188b_11ec_b231_0242ac1c0002row11_col11\" class=\"data row11 col11\" >0.233103</td>\n",
              "                        <td id=\"T_d64d482a_188b_11ec_b231_0242ac1c0002row11_col12\" class=\"data row11 col12\" >0.355094</td>\n",
              "                        <td id=\"T_d64d482a_188b_11ec_b231_0242ac1c0002row11_col13\" class=\"data row11 col13\" >0.488722</td>\n",
              "                        <td id=\"T_d64d482a_188b_11ec_b231_0242ac1c0002row11_col14\" class=\"data row11 col14\" >0.609877</td>\n",
              "                        <td id=\"T_d64d482a_188b_11ec_b231_0242ac1c0002row11_col15\" class=\"data row11 col15\" >0.686927</td>\n",
              "                        <td id=\"T_d64d482a_188b_11ec_b231_0242ac1c0002row11_col16\" class=\"data row11 col16\" >0.682756</td>\n",
              "                        <td id=\"T_d64d482a_188b_11ec_b231_0242ac1c0002row11_col17\" class=\"data row11 col17\" >0.583634</td>\n",
              "                        <td id=\"T_d64d482a_188b_11ec_b231_0242ac1c0002row11_col18\" class=\"data row11 col18\" >0.411548</td>\n",
              "                        <td id=\"T_d64d482a_188b_11ec_b231_0242ac1c0002row11_col19\" class=\"data row11 col19\" >0.243455</td>\n",
              "                        <td id=\"T_d64d482a_188b_11ec_b231_0242ac1c0002row11_col20\" class=\"data row11 col20\" >0.117685</td>\n",
              "                        <td id=\"T_d64d482a_188b_11ec_b231_0242ac1c0002row11_col21\" class=\"data row11 col21\" >0.041552</td>\n",
              "                        <td id=\"T_d64d482a_188b_11ec_b231_0242ac1c0002row11_col22\" class=\"data row11 col22\" >0.010649</td>\n",
              "                        <td id=\"T_d64d482a_188b_11ec_b231_0242ac1c0002row11_col23\" class=\"data row11 col23\" >0.001812</td>\n",
              "                        <td id=\"T_d64d482a_188b_11ec_b231_0242ac1c0002row11_col24\" class=\"data row11 col24\" >0.000010</td>\n",
              "                        <td id=\"T_d64d482a_188b_11ec_b231_0242ac1c0002row11_col25\" class=\"data row11 col25\" >0.000129</td>\n",
              "                        <td id=\"T_d64d482a_188b_11ec_b231_0242ac1c0002row11_col26\" class=\"data row11 col26\" >0.000000</td>\n",
              "                        <td id=\"T_d64d482a_188b_11ec_b231_0242ac1c0002row11_col27\" class=\"data row11 col27\" >0.000000</td>\n",
              "            </tr>\n",
              "            <tr>\n",
              "                        <th id=\"T_d64d482a_188b_11ec_b231_0242ac1c0002level0_row12\" class=\"row_heading level0 row12\" >12</th>\n",
              "                        <td id=\"T_d64d482a_188b_11ec_b231_0242ac1c0002row12_col0\" class=\"data row12 col0\" >0.000000</td>\n",
              "                        <td id=\"T_d64d482a_188b_11ec_b231_0242ac1c0002row12_col1\" class=\"data row12 col1\" >0.000008</td>\n",
              "                        <td id=\"T_d64d482a_188b_11ec_b231_0242ac1c0002row12_col2\" class=\"data row12 col2\" >0.000050</td>\n",
              "                        <td id=\"T_d64d482a_188b_11ec_b231_0242ac1c0002row12_col3\" class=\"data row12 col3\" >0.001517</td>\n",
              "                        <td id=\"T_d64d482a_188b_11ec_b231_0242ac1c0002row12_col4\" class=\"data row12 col4\" >0.004140</td>\n",
              "                        <td id=\"T_d64d482a_188b_11ec_b231_0242ac1c0002row12_col5\" class=\"data row12 col5\" >0.008184</td>\n",
              "                        <td id=\"T_d64d482a_188b_11ec_b231_0242ac1c0002row12_col6\" class=\"data row12 col6\" >0.013161</td>\n",
              "                        <td id=\"T_d64d482a_188b_11ec_b231_0242ac1c0002row12_col7\" class=\"data row12 col7\" >0.027825</td>\n",
              "                        <td id=\"T_d64d482a_188b_11ec_b231_0242ac1c0002row12_col8\" class=\"data row12 col8\" >0.066674</td>\n",
              "                        <td id=\"T_d64d482a_188b_11ec_b231_0242ac1c0002row12_col9\" class=\"data row12 col9\" >0.148576</td>\n",
              "                        <td id=\"T_d64d482a_188b_11ec_b231_0242ac1c0002row12_col10\" class=\"data row12 col10\" >0.277629</td>\n",
              "                        <td id=\"T_d64d482a_188b_11ec_b231_0242ac1c0002row12_col11\" class=\"data row12 col11\" >0.434851</td>\n",
              "                        <td id=\"T_d64d482a_188b_11ec_b231_0242ac1c0002row12_col12\" class=\"data row12 col12\" >0.583601</td>\n",
              "                        <td id=\"T_d64d482a_188b_11ec_b231_0242ac1c0002row12_col13\" class=\"data row12 col13\" >0.702844</td>\n",
              "                        <td id=\"T_d64d482a_188b_11ec_b231_0242ac1c0002row12_col14\" class=\"data row12 col14\" >0.771496</td>\n",
              "                        <td id=\"T_d64d482a_188b_11ec_b231_0242ac1c0002row12_col15\" class=\"data row12 col15\" >0.776609</td>\n",
              "                        <td id=\"T_d64d482a_188b_11ec_b231_0242ac1c0002row12_col16\" class=\"data row12 col16\" >0.711618</td>\n",
              "                        <td id=\"T_d64d482a_188b_11ec_b231_0242ac1c0002row12_col17\" class=\"data row12 col17\" >0.567792</td>\n",
              "                        <td id=\"T_d64d482a_188b_11ec_b231_0242ac1c0002row12_col18\" class=\"data row12 col18\" >0.379196</td>\n",
              "                        <td id=\"T_d64d482a_188b_11ec_b231_0242ac1c0002row12_col19\" class=\"data row12 col19\" >0.214115</td>\n",
              "                        <td id=\"T_d64d482a_188b_11ec_b231_0242ac1c0002row12_col20\" class=\"data row12 col20\" >0.094611</td>\n",
              "                        <td id=\"T_d64d482a_188b_11ec_b231_0242ac1c0002row12_col21\" class=\"data row12 col21\" >0.031342</td>\n",
              "                        <td id=\"T_d64d482a_188b_11ec_b231_0242ac1c0002row12_col22\" class=\"data row12 col22\" >0.007715</td>\n",
              "                        <td id=\"T_d64d482a_188b_11ec_b231_0242ac1c0002row12_col23\" class=\"data row12 col23\" >0.001070</td>\n",
              "                        <td id=\"T_d64d482a_188b_11ec_b231_0242ac1c0002row12_col24\" class=\"data row12 col24\" >0.000100</td>\n",
              "                        <td id=\"T_d64d482a_188b_11ec_b231_0242ac1c0002row12_col25\" class=\"data row12 col25\" >0.000136</td>\n",
              "                        <td id=\"T_d64d482a_188b_11ec_b231_0242ac1c0002row12_col26\" class=\"data row12 col26\" >0.000000</td>\n",
              "                        <td id=\"T_d64d482a_188b_11ec_b231_0242ac1c0002row12_col27\" class=\"data row12 col27\" >0.000000</td>\n",
              "            </tr>\n",
              "            <tr>\n",
              "                        <th id=\"T_d64d482a_188b_11ec_b231_0242ac1c0002level0_row13\" class=\"row_heading level0 row13\" >13</th>\n",
              "                        <td id=\"T_d64d482a_188b_11ec_b231_0242ac1c0002row13_col0\" class=\"data row13 col0\" >0.000000</td>\n",
              "                        <td id=\"T_d64d482a_188b_11ec_b231_0242ac1c0002row13_col1\" class=\"data row13 col1\" >0.000000</td>\n",
              "                        <td id=\"T_d64d482a_188b_11ec_b231_0242ac1c0002row13_col2\" class=\"data row13 col2\" >0.000000</td>\n",
              "                        <td id=\"T_d64d482a_188b_11ec_b231_0242ac1c0002row13_col3\" class=\"data row13 col3\" >0.000640</td>\n",
              "                        <td id=\"T_d64d482a_188b_11ec_b231_0242ac1c0002row13_col4\" class=\"data row13 col4\" >0.002578</td>\n",
              "                        <td id=\"T_d64d482a_188b_11ec_b231_0242ac1c0002row13_col5\" class=\"data row13 col5\" >0.005404</td>\n",
              "                        <td id=\"T_d64d482a_188b_11ec_b231_0242ac1c0002row13_col6\" class=\"data row13 col6\" >0.014138</td>\n",
              "                        <td id=\"T_d64d482a_188b_11ec_b231_0242ac1c0002row13_col7\" class=\"data row13 col7\" >0.039151</td>\n",
              "                        <td id=\"T_d64d482a_188b_11ec_b231_0242ac1c0002row13_col8\" class=\"data row13 col8\" >0.105018</td>\n",
              "                        <td id=\"T_d64d482a_188b_11ec_b231_0242ac1c0002row13_col9\" class=\"data row13 col9\" >0.226397</td>\n",
              "                        <td id=\"T_d64d482a_188b_11ec_b231_0242ac1c0002row13_col10\" class=\"data row13 col10\" >0.394396</td>\n",
              "                        <td id=\"T_d64d482a_188b_11ec_b231_0242ac1c0002row13_col11\" class=\"data row13 col11\" >0.565736</td>\n",
              "                        <td id=\"T_d64d482a_188b_11ec_b231_0242ac1c0002row13_col12\" class=\"data row13 col12\" >0.698465</td>\n",
              "                        <td id=\"T_d64d482a_188b_11ec_b231_0242ac1c0002row13_col13\" class=\"data row13 col13\" >0.767186</td>\n",
              "                        <td id=\"T_d64d482a_188b_11ec_b231_0242ac1c0002row13_col14\" class=\"data row13 col14\" >0.779502</td>\n",
              "                        <td id=\"T_d64d482a_188b_11ec_b231_0242ac1c0002row13_col15\" class=\"data row13 col15\" >0.750809</td>\n",
              "                        <td id=\"T_d64d482a_188b_11ec_b231_0242ac1c0002row13_col16\" class=\"data row13 col16\" >0.692383</td>\n",
              "                        <td id=\"T_d64d482a_188b_11ec_b231_0242ac1c0002row13_col17\" class=\"data row13 col17\" >0.582668</td>\n",
              "                        <td id=\"T_d64d482a_188b_11ec_b231_0242ac1c0002row13_col18\" class=\"data row13 col18\" >0.432789</td>\n",
              "                        <td id=\"T_d64d482a_188b_11ec_b231_0242ac1c0002row13_col19\" class=\"data row13 col19\" >0.265491</td>\n",
              "                        <td id=\"T_d64d482a_188b_11ec_b231_0242ac1c0002row13_col20\" class=\"data row13 col20\" >0.129954</td>\n",
              "                        <td id=\"T_d64d482a_188b_11ec_b231_0242ac1c0002row13_col21\" class=\"data row13 col21\" >0.050904</td>\n",
              "                        <td id=\"T_d64d482a_188b_11ec_b231_0242ac1c0002row13_col22\" class=\"data row13 col22\" >0.013723</td>\n",
              "                        <td id=\"T_d64d482a_188b_11ec_b231_0242ac1c0002row13_col23\" class=\"data row13 col23\" >0.002615</td>\n",
              "                        <td id=\"T_d64d482a_188b_11ec_b231_0242ac1c0002row13_col24\" class=\"data row13 col24\" >0.000327</td>\n",
              "                        <td id=\"T_d64d482a_188b_11ec_b231_0242ac1c0002row13_col25\" class=\"data row13 col25\" >0.000067</td>\n",
              "                        <td id=\"T_d64d482a_188b_11ec_b231_0242ac1c0002row13_col26\" class=\"data row13 col26\" >0.000000</td>\n",
              "                        <td id=\"T_d64d482a_188b_11ec_b231_0242ac1c0002row13_col27\" class=\"data row13 col27\" >0.000000</td>\n",
              "            </tr>\n",
              "            <tr>\n",
              "                        <th id=\"T_d64d482a_188b_11ec_b231_0242ac1c0002level0_row14\" class=\"row_heading level0 row14\" >14</th>\n",
              "                        <td id=\"T_d64d482a_188b_11ec_b231_0242ac1c0002row14_col0\" class=\"data row14 col0\" >0.000000</td>\n",
              "                        <td id=\"T_d64d482a_188b_11ec_b231_0242ac1c0002row14_col1\" class=\"data row14 col1\" >0.000102</td>\n",
              "                        <td id=\"T_d64d482a_188b_11ec_b231_0242ac1c0002row14_col2\" class=\"data row14 col2\" >0.000058</td>\n",
              "                        <td id=\"T_d64d482a_188b_11ec_b231_0242ac1c0002row14_col3\" class=\"data row14 col3\" >0.000700</td>\n",
              "                        <td id=\"T_d64d482a_188b_11ec_b231_0242ac1c0002row14_col4\" class=\"data row14 col4\" >0.002576</td>\n",
              "                        <td id=\"T_d64d482a_188b_11ec_b231_0242ac1c0002row14_col5\" class=\"data row14 col5\" >0.006555</td>\n",
              "                        <td id=\"T_d64d482a_188b_11ec_b231_0242ac1c0002row14_col6\" class=\"data row14 col6\" >0.015612</td>\n",
              "                        <td id=\"T_d64d482a_188b_11ec_b231_0242ac1c0002row14_col7\" class=\"data row14 col7\" >0.045825</td>\n",
              "                        <td id=\"T_d64d482a_188b_11ec_b231_0242ac1c0002row14_col8\" class=\"data row14 col8\" >0.117882</td>\n",
              "                        <td id=\"T_d64d482a_188b_11ec_b231_0242ac1c0002row14_col9\" class=\"data row14 col9\" >0.241330</td>\n",
              "                        <td id=\"T_d64d482a_188b_11ec_b231_0242ac1c0002row14_col10\" class=\"data row14 col10\" >0.390152</td>\n",
              "                        <td id=\"T_d64d482a_188b_11ec_b231_0242ac1c0002row14_col11\" class=\"data row14 col11\" >0.521587</td>\n",
              "                        <td id=\"T_d64d482a_188b_11ec_b231_0242ac1c0002row14_col12\" class=\"data row14 col12\" >0.602649</td>\n",
              "                        <td id=\"T_d64d482a_188b_11ec_b231_0242ac1c0002row14_col13\" class=\"data row14 col13\" >0.628689</td>\n",
              "                        <td id=\"T_d64d482a_188b_11ec_b231_0242ac1c0002row14_col14\" class=\"data row14 col14\" >0.627575</td>\n",
              "                        <td id=\"T_d64d482a_188b_11ec_b231_0242ac1c0002row14_col15\" class=\"data row14 col15\" >0.617246</td>\n",
              "                        <td id=\"T_d64d482a_188b_11ec_b231_0242ac1c0002row14_col16\" class=\"data row14 col16\" >0.613110</td>\n",
              "                        <td id=\"T_d64d482a_188b_11ec_b231_0242ac1c0002row14_col17\" class=\"data row14 col17\" >0.592724</td>\n",
              "                        <td id=\"T_d64d482a_188b_11ec_b231_0242ac1c0002row14_col18\" class=\"data row14 col18\" >0.515439</td>\n",
              "                        <td id=\"T_d64d482a_188b_11ec_b231_0242ac1c0002row14_col19\" class=\"data row14 col19\" >0.370657</td>\n",
              "                        <td id=\"T_d64d482a_188b_11ec_b231_0242ac1c0002row14_col20\" class=\"data row14 col20\" >0.210795</td>\n",
              "                        <td id=\"T_d64d482a_188b_11ec_b231_0242ac1c0002row14_col21\" class=\"data row14 col21\" >0.095741</td>\n",
              "                        <td id=\"T_d64d482a_188b_11ec_b231_0242ac1c0002row14_col22\" class=\"data row14 col22\" >0.031867</td>\n",
              "                        <td id=\"T_d64d482a_188b_11ec_b231_0242ac1c0002row14_col23\" class=\"data row14 col23\" >0.007135</td>\n",
              "                        <td id=\"T_d64d482a_188b_11ec_b231_0242ac1c0002row14_col24\" class=\"data row14 col24\" >0.000759</td>\n",
              "                        <td id=\"T_d64d482a_188b_11ec_b231_0242ac1c0002row14_col25\" class=\"data row14 col25\" >0.000026</td>\n",
              "                        <td id=\"T_d64d482a_188b_11ec_b231_0242ac1c0002row14_col26\" class=\"data row14 col26\" >0.000000</td>\n",
              "                        <td id=\"T_d64d482a_188b_11ec_b231_0242ac1c0002row14_col27\" class=\"data row14 col27\" >0.000000</td>\n",
              "            </tr>\n",
              "            <tr>\n",
              "                        <th id=\"T_d64d482a_188b_11ec_b231_0242ac1c0002level0_row15\" class=\"row_heading level0 row15\" >15</th>\n",
              "                        <td id=\"T_d64d482a_188b_11ec_b231_0242ac1c0002row15_col0\" class=\"data row15 col0\" >0.000000</td>\n",
              "                        <td id=\"T_d64d482a_188b_11ec_b231_0242ac1c0002row15_col1\" class=\"data row15 col1\" >0.000145</td>\n",
              "                        <td id=\"T_d64d482a_188b_11ec_b231_0242ac1c0002row15_col2\" class=\"data row15 col2\" >0.000717</td>\n",
              "                        <td id=\"T_d64d482a_188b_11ec_b231_0242ac1c0002row15_col3\" class=\"data row15 col3\" >0.002338</td>\n",
              "                        <td id=\"T_d64d482a_188b_11ec_b231_0242ac1c0002row15_col4\" class=\"data row15 col4\" >0.006022</td>\n",
              "                        <td id=\"T_d64d482a_188b_11ec_b231_0242ac1c0002row15_col5\" class=\"data row15 col5\" >0.011625</td>\n",
              "                        <td id=\"T_d64d482a_188b_11ec_b231_0242ac1c0002row15_col6\" class=\"data row15 col6\" >0.019489</td>\n",
              "                        <td id=\"T_d64d482a_188b_11ec_b231_0242ac1c0002row15_col7\" class=\"data row15 col7\" >0.041298</td>\n",
              "                        <td id=\"T_d64d482a_188b_11ec_b231_0242ac1c0002row15_col8\" class=\"data row15 col8\" >0.091916</td>\n",
              "                        <td id=\"T_d64d482a_188b_11ec_b231_0242ac1c0002row15_col9\" class=\"data row15 col9\" >0.176553</td>\n",
              "                        <td id=\"T_d64d482a_188b_11ec_b231_0242ac1c0002row15_col10\" class=\"data row15 col10\" >0.273504</td>\n",
              "                        <td id=\"T_d64d482a_188b_11ec_b231_0242ac1c0002row15_col11\" class=\"data row15 col11\" >0.345543</td>\n",
              "                        <td id=\"T_d64d482a_188b_11ec_b231_0242ac1c0002row15_col12\" class=\"data row15 col12\" >0.377892</td>\n",
              "                        <td id=\"T_d64d482a_188b_11ec_b231_0242ac1c0002row15_col13\" class=\"data row15 col13\" >0.383530</td>\n",
              "                        <td id=\"T_d64d482a_188b_11ec_b231_0242ac1c0002row15_col14\" class=\"data row15 col14\" >0.388281</td>\n",
              "                        <td id=\"T_d64d482a_188b_11ec_b231_0242ac1c0002row15_col15\" class=\"data row15 col15\" >0.413573</td>\n",
              "                        <td id=\"T_d64d482a_188b_11ec_b231_0242ac1c0002row15_col16\" class=\"data row15 col16\" >0.472726</td>\n",
              "                        <td id=\"T_d64d482a_188b_11ec_b231_0242ac1c0002row15_col17\" class=\"data row15 col17\" >0.546922</td>\n",
              "                        <td id=\"T_d64d482a_188b_11ec_b231_0242ac1c0002row15_col18\" class=\"data row15 col18\" >0.556951</td>\n",
              "                        <td id=\"T_d64d482a_188b_11ec_b231_0242ac1c0002row15_col19\" class=\"data row15 col19\" >0.460038</td>\n",
              "                        <td id=\"T_d64d482a_188b_11ec_b231_0242ac1c0002row15_col20\" class=\"data row15 col20\" >0.296791</td>\n",
              "                        <td id=\"T_d64d482a_188b_11ec_b231_0242ac1c0002row15_col21\" class=\"data row15 col21\" >0.149115</td>\n",
              "                        <td id=\"T_d64d482a_188b_11ec_b231_0242ac1c0002row15_col22\" class=\"data row15 col22\" >0.060777</td>\n",
              "                        <td id=\"T_d64d482a_188b_11ec_b231_0242ac1c0002row15_col23\" class=\"data row15 col23\" >0.015610</td>\n",
              "                        <td id=\"T_d64d482a_188b_11ec_b231_0242ac1c0002row15_col24\" class=\"data row15 col24\" >0.001802</td>\n",
              "                        <td id=\"T_d64d482a_188b_11ec_b231_0242ac1c0002row15_col25\" class=\"data row15 col25\" >0.000003</td>\n",
              "                        <td id=\"T_d64d482a_188b_11ec_b231_0242ac1c0002row15_col26\" class=\"data row15 col26\" >0.000134</td>\n",
              "                        <td id=\"T_d64d482a_188b_11ec_b231_0242ac1c0002row15_col27\" class=\"data row15 col27\" >0.000000</td>\n",
              "            </tr>\n",
              "            <tr>\n",
              "                        <th id=\"T_d64d482a_188b_11ec_b231_0242ac1c0002level0_row16\" class=\"row_heading level0 row16\" >16</th>\n",
              "                        <td id=\"T_d64d482a_188b_11ec_b231_0242ac1c0002row16_col0\" class=\"data row16 col0\" >0.000000</td>\n",
              "                        <td id=\"T_d64d482a_188b_11ec_b231_0242ac1c0002row16_col1\" class=\"data row16 col1\" >0.000127</td>\n",
              "                        <td id=\"T_d64d482a_188b_11ec_b231_0242ac1c0002row16_col2\" class=\"data row16 col2\" >0.002187</td>\n",
              "                        <td id=\"T_d64d482a_188b_11ec_b231_0242ac1c0002row16_col3\" class=\"data row16 col3\" >0.007054</td>\n",
              "                        <td id=\"T_d64d482a_188b_11ec_b231_0242ac1c0002row16_col4\" class=\"data row16 col4\" >0.014894</td>\n",
              "                        <td id=\"T_d64d482a_188b_11ec_b231_0242ac1c0002row16_col5\" class=\"data row16 col5\" >0.022301</td>\n",
              "                        <td id=\"T_d64d482a_188b_11ec_b231_0242ac1c0002row16_col6\" class=\"data row16 col6\" >0.027903</td>\n",
              "                        <td id=\"T_d64d482a_188b_11ec_b231_0242ac1c0002row16_col7\" class=\"data row16 col7\" >0.039338</td>\n",
              "                        <td id=\"T_d64d482a_188b_11ec_b231_0242ac1c0002row16_col8\" class=\"data row16 col8\" >0.062386</td>\n",
              "                        <td id=\"T_d64d482a_188b_11ec_b231_0242ac1c0002row16_col9\" class=\"data row16 col9\" >0.099441</td>\n",
              "                        <td id=\"T_d64d482a_188b_11ec_b231_0242ac1c0002row16_col10\" class=\"data row16 col10\" >0.133695</td>\n",
              "                        <td id=\"T_d64d482a_188b_11ec_b231_0242ac1c0002row16_col11\" class=\"data row16 col11\" >0.159254</td>\n",
              "                        <td id=\"T_d64d482a_188b_11ec_b231_0242ac1c0002row16_col12\" class=\"data row16 col12\" >0.166549</td>\n",
              "                        <td id=\"T_d64d482a_188b_11ec_b231_0242ac1c0002row16_col13\" class=\"data row16 col13\" >0.172230</td>\n",
              "                        <td id=\"T_d64d482a_188b_11ec_b231_0242ac1c0002row16_col14\" class=\"data row16 col14\" >0.191612</td>\n",
              "                        <td id=\"T_d64d482a_188b_11ec_b231_0242ac1c0002row16_col15\" class=\"data row16 col15\" >0.243336</td>\n",
              "                        <td id=\"T_d64d482a_188b_11ec_b231_0242ac1c0002row16_col16\" class=\"data row16 col16\" >0.344543</td>\n",
              "                        <td id=\"T_d64d482a_188b_11ec_b231_0242ac1c0002row16_col17\" class=\"data row16 col17\" >0.482160</td>\n",
              "                        <td id=\"T_d64d482a_188b_11ec_b231_0242ac1c0002row16_col18\" class=\"data row16 col18\" >0.561008</td>\n",
              "                        <td id=\"T_d64d482a_188b_11ec_b231_0242ac1c0002row16_col19\" class=\"data row16 col19\" >0.503642</td>\n",
              "                        <td id=\"T_d64d482a_188b_11ec_b231_0242ac1c0002row16_col20\" class=\"data row16 col20\" >0.352048</td>\n",
              "                        <td id=\"T_d64d482a_188b_11ec_b231_0242ac1c0002row16_col21\" class=\"data row16 col21\" >0.194224</td>\n",
              "                        <td id=\"T_d64d482a_188b_11ec_b231_0242ac1c0002row16_col22\" class=\"data row16 col22\" >0.085188</td>\n",
              "                        <td id=\"T_d64d482a_188b_11ec_b231_0242ac1c0002row16_col23\" class=\"data row16 col23\" >0.026331</td>\n",
              "                        <td id=\"T_d64d482a_188b_11ec_b231_0242ac1c0002row16_col24\" class=\"data row16 col24\" >0.003528</td>\n",
              "                        <td id=\"T_d64d482a_188b_11ec_b231_0242ac1c0002row16_col25\" class=\"data row16 col25\" >0.000001</td>\n",
              "                        <td id=\"T_d64d482a_188b_11ec_b231_0242ac1c0002row16_col26\" class=\"data row16 col26\" >0.000022</td>\n",
              "                        <td id=\"T_d64d482a_188b_11ec_b231_0242ac1c0002row16_col27\" class=\"data row16 col27\" >0.000000</td>\n",
              "            </tr>\n",
              "            <tr>\n",
              "                        <th id=\"T_d64d482a_188b_11ec_b231_0242ac1c0002level0_row17\" class=\"row_heading level0 row17\" >17</th>\n",
              "                        <td id=\"T_d64d482a_188b_11ec_b231_0242ac1c0002row17_col0\" class=\"data row17 col0\" >0.000000</td>\n",
              "                        <td id=\"T_d64d482a_188b_11ec_b231_0242ac1c0002row17_col1\" class=\"data row17 col1\" >0.000157</td>\n",
              "                        <td id=\"T_d64d482a_188b_11ec_b231_0242ac1c0002row17_col2\" class=\"data row17 col2\" >0.003333</td>\n",
              "                        <td id=\"T_d64d482a_188b_11ec_b231_0242ac1c0002row17_col3\" class=\"data row17 col3\" >0.015257</td>\n",
              "                        <td id=\"T_d64d482a_188b_11ec_b231_0242ac1c0002row17_col4\" class=\"data row17 col4\" >0.031764</td>\n",
              "                        <td id=\"T_d64d482a_188b_11ec_b231_0242ac1c0002row17_col5\" class=\"data row17 col5\" >0.043270</td>\n",
              "                        <td id=\"T_d64d482a_188b_11ec_b231_0242ac1c0002row17_col6\" class=\"data row17 col6\" >0.049365</td>\n",
              "                        <td id=\"T_d64d482a_188b_11ec_b231_0242ac1c0002row17_col7\" class=\"data row17 col7\" >0.055510</td>\n",
              "                        <td id=\"T_d64d482a_188b_11ec_b231_0242ac1c0002row17_col8\" class=\"data row17 col8\" >0.059109</td>\n",
              "                        <td id=\"T_d64d482a_188b_11ec_b231_0242ac1c0002row17_col9\" class=\"data row17 col9\" >0.058848</td>\n",
              "                        <td id=\"T_d64d482a_188b_11ec_b231_0242ac1c0002row17_col10\" class=\"data row17 col10\" >0.061369</td>\n",
              "                        <td id=\"T_d64d482a_188b_11ec_b231_0242ac1c0002row17_col11\" class=\"data row17 col11\" >0.063137</td>\n",
              "                        <td id=\"T_d64d482a_188b_11ec_b231_0242ac1c0002row17_col12\" class=\"data row17 col12\" >0.065532</td>\n",
              "                        <td id=\"T_d64d482a_188b_11ec_b231_0242ac1c0002row17_col13\" class=\"data row17 col13\" >0.073339</td>\n",
              "                        <td id=\"T_d64d482a_188b_11ec_b231_0242ac1c0002row17_col14\" class=\"data row17 col14\" >0.098233</td>\n",
              "                        <td id=\"T_d64d482a_188b_11ec_b231_0242ac1c0002row17_col15\" class=\"data row17 col15\" >0.167220</td>\n",
              "                        <td id=\"T_d64d482a_188b_11ec_b231_0242ac1c0002row17_col16\" class=\"data row17 col16\" >0.291708</td>\n",
              "                        <td id=\"T_d64d482a_188b_11ec_b231_0242ac1c0002row17_col17\" class=\"data row17 col17\" >0.452524</td>\n",
              "                        <td id=\"T_d64d482a_188b_11ec_b231_0242ac1c0002row17_col18\" class=\"data row17 col18\" >0.550333</td>\n",
              "                        <td id=\"T_d64d482a_188b_11ec_b231_0242ac1c0002row17_col19\" class=\"data row17 col19\" >0.514631</td>\n",
              "                        <td id=\"T_d64d482a_188b_11ec_b231_0242ac1c0002row17_col20\" class=\"data row17 col20\" >0.368759</td>\n",
              "                        <td id=\"T_d64d482a_188b_11ec_b231_0242ac1c0002row17_col21\" class=\"data row17 col21\" >0.218197</td>\n",
              "                        <td id=\"T_d64d482a_188b_11ec_b231_0242ac1c0002row17_col22\" class=\"data row17 col22\" >0.103046</td>\n",
              "                        <td id=\"T_d64d482a_188b_11ec_b231_0242ac1c0002row17_col23\" class=\"data row17 col23\" >0.033861</td>\n",
              "                        <td id=\"T_d64d482a_188b_11ec_b231_0242ac1c0002row17_col24\" class=\"data row17 col24\" >0.003856</td>\n",
              "                        <td id=\"T_d64d482a_188b_11ec_b231_0242ac1c0002row17_col25\" class=\"data row17 col25\" >0.000000</td>\n",
              "                        <td id=\"T_d64d482a_188b_11ec_b231_0242ac1c0002row17_col26\" class=\"data row17 col26\" >0.000000</td>\n",
              "                        <td id=\"T_d64d482a_188b_11ec_b231_0242ac1c0002row17_col27\" class=\"data row17 col27\" >0.000000</td>\n",
              "            </tr>\n",
              "            <tr>\n",
              "                        <th id=\"T_d64d482a_188b_11ec_b231_0242ac1c0002level0_row18\" class=\"row_heading level0 row18\" >18</th>\n",
              "                        <td id=\"T_d64d482a_188b_11ec_b231_0242ac1c0002row18_col0\" class=\"data row18 col0\" >0.000000</td>\n",
              "                        <td id=\"T_d64d482a_188b_11ec_b231_0242ac1c0002row18_col1\" class=\"data row18 col1\" >0.000162</td>\n",
              "                        <td id=\"T_d64d482a_188b_11ec_b231_0242ac1c0002row18_col2\" class=\"data row18 col2\" >0.005759</td>\n",
              "                        <td id=\"T_d64d482a_188b_11ec_b231_0242ac1c0002row18_col3\" class=\"data row18 col3\" >0.027754</td>\n",
              "                        <td id=\"T_d64d482a_188b_11ec_b231_0242ac1c0002row18_col4\" class=\"data row18 col4\" >0.058420</td>\n",
              "                        <td id=\"T_d64d482a_188b_11ec_b231_0242ac1c0002row18_col5\" class=\"data row18 col5\" >0.082884</td>\n",
              "                        <td id=\"T_d64d482a_188b_11ec_b231_0242ac1c0002row18_col6\" class=\"data row18 col6\" >0.097888</td>\n",
              "                        <td id=\"T_d64d482a_188b_11ec_b231_0242ac1c0002row18_col7\" class=\"data row18 col7\" >0.101888</td>\n",
              "                        <td id=\"T_d64d482a_188b_11ec_b231_0242ac1c0002row18_col8\" class=\"data row18 col8\" >0.093467</td>\n",
              "                        <td id=\"T_d64d482a_188b_11ec_b231_0242ac1c0002row18_col9\" class=\"data row18 col9\" >0.075450</td>\n",
              "                        <td id=\"T_d64d482a_188b_11ec_b231_0242ac1c0002row18_col10\" class=\"data row18 col10\" >0.061778</td>\n",
              "                        <td id=\"T_d64d482a_188b_11ec_b231_0242ac1c0002row18_col11\" class=\"data row18 col11\" >0.052316</td>\n",
              "                        <td id=\"T_d64d482a_188b_11ec_b231_0242ac1c0002row18_col12\" class=\"data row18 col12\" >0.048228</td>\n",
              "                        <td id=\"T_d64d482a_188b_11ec_b231_0242ac1c0002row18_col13\" class=\"data row18 col13\" >0.056958</td>\n",
              "                        <td id=\"T_d64d482a_188b_11ec_b231_0242ac1c0002row18_col14\" class=\"data row18 col14\" >0.091961</td>\n",
              "                        <td id=\"T_d64d482a_188b_11ec_b231_0242ac1c0002row18_col15\" class=\"data row18 col15\" >0.181537</td>\n",
              "                        <td id=\"T_d64d482a_188b_11ec_b231_0242ac1c0002row18_col16\" class=\"data row18 col16\" >0.326705</td>\n",
              "                        <td id=\"T_d64d482a_188b_11ec_b231_0242ac1c0002row18_col17\" class=\"data row18 col17\" >0.477890</td>\n",
              "                        <td id=\"T_d64d482a_188b_11ec_b231_0242ac1c0002row18_col18\" class=\"data row18 col18\" >0.555997</td>\n",
              "                        <td id=\"T_d64d482a_188b_11ec_b231_0242ac1c0002row18_col19\" class=\"data row18 col19\" >0.509292</td>\n",
              "                        <td id=\"T_d64d482a_188b_11ec_b231_0242ac1c0002row18_col20\" class=\"data row18 col20\" >0.364370</td>\n",
              "                        <td id=\"T_d64d482a_188b_11ec_b231_0242ac1c0002row18_col21\" class=\"data row18 col21\" >0.220590</td>\n",
              "                        <td id=\"T_d64d482a_188b_11ec_b231_0242ac1c0002row18_col22\" class=\"data row18 col22\" >0.107433</td>\n",
              "                        <td id=\"T_d64d482a_188b_11ec_b231_0242ac1c0002row18_col23\" class=\"data row18 col23\" >0.033211</td>\n",
              "                        <td id=\"T_d64d482a_188b_11ec_b231_0242ac1c0002row18_col24\" class=\"data row18 col24\" >0.003241</td>\n",
              "                        <td id=\"T_d64d482a_188b_11ec_b231_0242ac1c0002row18_col25\" class=\"data row18 col25\" >0.000000</td>\n",
              "                        <td id=\"T_d64d482a_188b_11ec_b231_0242ac1c0002row18_col26\" class=\"data row18 col26\" >0.000000</td>\n",
              "                        <td id=\"T_d64d482a_188b_11ec_b231_0242ac1c0002row18_col27\" class=\"data row18 col27\" >0.000000</td>\n",
              "            </tr>\n",
              "            <tr>\n",
              "                        <th id=\"T_d64d482a_188b_11ec_b231_0242ac1c0002level0_row19\" class=\"row_heading level0 row19\" >19</th>\n",
              "                        <td id=\"T_d64d482a_188b_11ec_b231_0242ac1c0002row19_col0\" class=\"data row19 col0\" >0.000000</td>\n",
              "                        <td id=\"T_d64d482a_188b_11ec_b231_0242ac1c0002row19_col1\" class=\"data row19 col1\" >0.000255</td>\n",
              "                        <td id=\"T_d64d482a_188b_11ec_b231_0242ac1c0002row19_col2\" class=\"data row19 col2\" >0.009168</td>\n",
              "                        <td id=\"T_d64d482a_188b_11ec_b231_0242ac1c0002row19_col3\" class=\"data row19 col3\" >0.040289</td>\n",
              "                        <td id=\"T_d64d482a_188b_11ec_b231_0242ac1c0002row19_col4\" class=\"data row19 col4\" >0.088192</td>\n",
              "                        <td id=\"T_d64d482a_188b_11ec_b231_0242ac1c0002row19_col5\" class=\"data row19 col5\" >0.137215</td>\n",
              "                        <td id=\"T_d64d482a_188b_11ec_b231_0242ac1c0002row19_col6\" class=\"data row19 col6\" >0.169054</td>\n",
              "                        <td id=\"T_d64d482a_188b_11ec_b231_0242ac1c0002row19_col7\" class=\"data row19 col7\" >0.182320</td>\n",
              "                        <td id=\"T_d64d482a_188b_11ec_b231_0242ac1c0002row19_col8\" class=\"data row19 col8\" >0.175083</td>\n",
              "                        <td id=\"T_d64d482a_188b_11ec_b231_0242ac1c0002row19_col9\" class=\"data row19 col9\" >0.150290</td>\n",
              "                        <td id=\"T_d64d482a_188b_11ec_b231_0242ac1c0002row19_col10\" class=\"data row19 col10\" >0.122126</td>\n",
              "                        <td id=\"T_d64d482a_188b_11ec_b231_0242ac1c0002row19_col11\" class=\"data row19 col11\" >0.098687</td>\n",
              "                        <td id=\"T_d64d482a_188b_11ec_b231_0242ac1c0002row19_col12\" class=\"data row19 col12\" >0.093244</td>\n",
              "                        <td id=\"T_d64d482a_188b_11ec_b231_0242ac1c0002row19_col13\" class=\"data row19 col13\" >0.113231</td>\n",
              "                        <td id=\"T_d64d482a_188b_11ec_b231_0242ac1c0002row19_col14\" class=\"data row19 col14\" >0.173402</td>\n",
              "                        <td id=\"T_d64d482a_188b_11ec_b231_0242ac1c0002row19_col15\" class=\"data row19 col15\" >0.284203</td>\n",
              "                        <td id=\"T_d64d482a_188b_11ec_b231_0242ac1c0002row19_col16\" class=\"data row19 col16\" >0.430761</td>\n",
              "                        <td id=\"T_d64d482a_188b_11ec_b231_0242ac1c0002row19_col17\" class=\"data row19 col17\" >0.548097</td>\n",
              "                        <td id=\"T_d64d482a_188b_11ec_b231_0242ac1c0002row19_col18\" class=\"data row19 col18\" >0.570532</td>\n",
              "                        <td id=\"T_d64d482a_188b_11ec_b231_0242ac1c0002row19_col19\" class=\"data row19 col19\" >0.486608</td>\n",
              "                        <td id=\"T_d64d482a_188b_11ec_b231_0242ac1c0002row19_col20\" class=\"data row19 col20\" >0.337864</td>\n",
              "                        <td id=\"T_d64d482a_188b_11ec_b231_0242ac1c0002row19_col21\" class=\"data row19 col21\" >0.200052</td>\n",
              "                        <td id=\"T_d64d482a_188b_11ec_b231_0242ac1c0002row19_col22\" class=\"data row19 col22\" >0.091660</td>\n",
              "                        <td id=\"T_d64d482a_188b_11ec_b231_0242ac1c0002row19_col23\" class=\"data row19 col23\" >0.024017</td>\n",
              "                        <td id=\"T_d64d482a_188b_11ec_b231_0242ac1c0002row19_col24\" class=\"data row19 col24\" >0.002283</td>\n",
              "                        <td id=\"T_d64d482a_188b_11ec_b231_0242ac1c0002row19_col25\" class=\"data row19 col25\" >0.000013</td>\n",
              "                        <td id=\"T_d64d482a_188b_11ec_b231_0242ac1c0002row19_col26\" class=\"data row19 col26\" >0.000000</td>\n",
              "                        <td id=\"T_d64d482a_188b_11ec_b231_0242ac1c0002row19_col27\" class=\"data row19 col27\" >0.000000</td>\n",
              "            </tr>\n",
              "            <tr>\n",
              "                        <th id=\"T_d64d482a_188b_11ec_b231_0242ac1c0002level0_row20\" class=\"row_heading level0 row20\" >20</th>\n",
              "                        <td id=\"T_d64d482a_188b_11ec_b231_0242ac1c0002row20_col0\" class=\"data row20 col0\" >0.000000</td>\n",
              "                        <td id=\"T_d64d482a_188b_11ec_b231_0242ac1c0002row20_col1\" class=\"data row20 col1\" >0.000466</td>\n",
              "                        <td id=\"T_d64d482a_188b_11ec_b231_0242ac1c0002row20_col2\" class=\"data row20 col2\" >0.010415</td>\n",
              "                        <td id=\"T_d64d482a_188b_11ec_b231_0242ac1c0002row20_col3\" class=\"data row20 col3\" >0.048182</td>\n",
              "                        <td id=\"T_d64d482a_188b_11ec_b231_0242ac1c0002row20_col4\" class=\"data row20 col4\" >0.108718</td>\n",
              "                        <td id=\"T_d64d482a_188b_11ec_b231_0242ac1c0002row20_col5\" class=\"data row20 col5\" >0.180702</td>\n",
              "                        <td id=\"T_d64d482a_188b_11ec_b231_0242ac1c0002row20_col6\" class=\"data row20 col6\" >0.241836</td>\n",
              "                        <td id=\"T_d64d482a_188b_11ec_b231_0242ac1c0002row20_col7\" class=\"data row20 col7\" >0.286660</td>\n",
              "                        <td id=\"T_d64d482a_188b_11ec_b231_0242ac1c0002row20_col8\" class=\"data row20 col8\" >0.307947</td>\n",
              "                        <td id=\"T_d64d482a_188b_11ec_b231_0242ac1c0002row20_col9\" class=\"data row20 col9\" >0.293307</td>\n",
              "                        <td id=\"T_d64d482a_188b_11ec_b231_0242ac1c0002row20_col10\" class=\"data row20 col10\" >0.260959</td>\n",
              "                        <td id=\"T_d64d482a_188b_11ec_b231_0242ac1c0002row20_col11\" class=\"data row20 col11\" >0.235684</td>\n",
              "                        <td id=\"T_d64d482a_188b_11ec_b231_0242ac1c0002row20_col12\" class=\"data row20 col12\" >0.234873</td>\n",
              "                        <td id=\"T_d64d482a_188b_11ec_b231_0242ac1c0002row20_col13\" class=\"data row20 col13\" >0.274734</td>\n",
              "                        <td id=\"T_d64d482a_188b_11ec_b231_0242ac1c0002row20_col14\" class=\"data row20 col14\" >0.356623</td>\n",
              "                        <td id=\"T_d64d482a_188b_11ec_b231_0242ac1c0002row20_col15\" class=\"data row20 col15\" >0.466567</td>\n",
              "                        <td id=\"T_d64d482a_188b_11ec_b231_0242ac1c0002row20_col16\" class=\"data row20 col16\" >0.572254</td>\n",
              "                        <td id=\"T_d64d482a_188b_11ec_b231_0242ac1c0002row20_col17\" class=\"data row20 col17\" >0.611361</td>\n",
              "                        <td id=\"T_d64d482a_188b_11ec_b231_0242ac1c0002row20_col18\" class=\"data row20 col18\" >0.560516</td>\n",
              "                        <td id=\"T_d64d482a_188b_11ec_b231_0242ac1c0002row20_col19\" class=\"data row20 col19\" >0.427883</td>\n",
              "                        <td id=\"T_d64d482a_188b_11ec_b231_0242ac1c0002row20_col20\" class=\"data row20 col20\" >0.279805</td>\n",
              "                        <td id=\"T_d64d482a_188b_11ec_b231_0242ac1c0002row20_col21\" class=\"data row20 col21\" >0.151363</td>\n",
              "                        <td id=\"T_d64d482a_188b_11ec_b231_0242ac1c0002row20_col22\" class=\"data row20 col22\" >0.060435</td>\n",
              "                        <td id=\"T_d64d482a_188b_11ec_b231_0242ac1c0002row20_col23\" class=\"data row20 col23\" >0.013841</td>\n",
              "                        <td id=\"T_d64d482a_188b_11ec_b231_0242ac1c0002row20_col24\" class=\"data row20 col24\" >0.001227</td>\n",
              "                        <td id=\"T_d64d482a_188b_11ec_b231_0242ac1c0002row20_col25\" class=\"data row20 col25\" >0.000013</td>\n",
              "                        <td id=\"T_d64d482a_188b_11ec_b231_0242ac1c0002row20_col26\" class=\"data row20 col26\" >0.000050</td>\n",
              "                        <td id=\"T_d64d482a_188b_11ec_b231_0242ac1c0002row20_col27\" class=\"data row20 col27\" >0.000000</td>\n",
              "            </tr>\n",
              "            <tr>\n",
              "                        <th id=\"T_d64d482a_188b_11ec_b231_0242ac1c0002level0_row21\" class=\"row_heading level0 row21\" >21</th>\n",
              "                        <td id=\"T_d64d482a_188b_11ec_b231_0242ac1c0002row21_col0\" class=\"data row21 col0\" >0.000000</td>\n",
              "                        <td id=\"T_d64d482a_188b_11ec_b231_0242ac1c0002row21_col1\" class=\"data row21 col1\" >0.000363</td>\n",
              "                        <td id=\"T_d64d482a_188b_11ec_b231_0242ac1c0002row21_col2\" class=\"data row21 col2\" >0.008737</td>\n",
              "                        <td id=\"T_d64d482a_188b_11ec_b231_0242ac1c0002row21_col3\" class=\"data row21 col3\" >0.041436</td>\n",
              "                        <td id=\"T_d64d482a_188b_11ec_b231_0242ac1c0002row21_col4\" class=\"data row21 col4\" >0.100262</td>\n",
              "                        <td id=\"T_d64d482a_188b_11ec_b231_0242ac1c0002row21_col5\" class=\"data row21 col5\" >0.184891</td>\n",
              "                        <td id=\"T_d64d482a_188b_11ec_b231_0242ac1c0002row21_col6\" class=\"data row21 col6\" >0.284640</td>\n",
              "                        <td id=\"T_d64d482a_188b_11ec_b231_0242ac1c0002row21_col7\" class=\"data row21 col7\" >0.376269</td>\n",
              "                        <td id=\"T_d64d482a_188b_11ec_b231_0242ac1c0002row21_col8\" class=\"data row21 col8\" >0.448994</td>\n",
              "                        <td id=\"T_d64d482a_188b_11ec_b231_0242ac1c0002row21_col9\" class=\"data row21 col9\" >0.479219</td>\n",
              "                        <td id=\"T_d64d482a_188b_11ec_b231_0242ac1c0002row21_col10\" class=\"data row21 col10\" >0.482000</td>\n",
              "                        <td id=\"T_d64d482a_188b_11ec_b231_0242ac1c0002row21_col11\" class=\"data row21 col11\" >0.475157</td>\n",
              "                        <td id=\"T_d64d482a_188b_11ec_b231_0242ac1c0002row21_col12\" class=\"data row21 col12\" >0.488420</td>\n",
              "                        <td id=\"T_d64d482a_188b_11ec_b231_0242ac1c0002row21_col13\" class=\"data row21 col13\" >0.531271</td>\n",
              "                        <td id=\"T_d64d482a_188b_11ec_b231_0242ac1c0002row21_col14\" class=\"data row21 col14\" >0.593276</td>\n",
              "                        <td id=\"T_d64d482a_188b_11ec_b231_0242ac1c0002row21_col15\" class=\"data row21 col15\" >0.649964</td>\n",
              "                        <td id=\"T_d64d482a_188b_11ec_b231_0242ac1c0002row21_col16\" class=\"data row21 col16\" >0.662660</td>\n",
              "                        <td id=\"T_d64d482a_188b_11ec_b231_0242ac1c0002row21_col17\" class=\"data row21 col17\" >0.600816</td>\n",
              "                        <td id=\"T_d64d482a_188b_11ec_b231_0242ac1c0002row21_col18\" class=\"data row21 col18\" >0.474487</td>\n",
              "                        <td id=\"T_d64d482a_188b_11ec_b231_0242ac1c0002row21_col19\" class=\"data row21 col19\" >0.324159</td>\n",
              "                        <td id=\"T_d64d482a_188b_11ec_b231_0242ac1c0002row21_col20\" class=\"data row21 col20\" >0.188244</td>\n",
              "                        <td id=\"T_d64d482a_188b_11ec_b231_0242ac1c0002row21_col21\" class=\"data row21 col21\" >0.088396</td>\n",
              "                        <td id=\"T_d64d482a_188b_11ec_b231_0242ac1c0002row21_col22\" class=\"data row21 col22\" >0.028767</td>\n",
              "                        <td id=\"T_d64d482a_188b_11ec_b231_0242ac1c0002row21_col23\" class=\"data row21 col23\" >0.005407</td>\n",
              "                        <td id=\"T_d64d482a_188b_11ec_b231_0242ac1c0002row21_col24\" class=\"data row21 col24\" >0.000326</td>\n",
              "                        <td id=\"T_d64d482a_188b_11ec_b231_0242ac1c0002row21_col25\" class=\"data row21 col25\" >0.000000</td>\n",
              "                        <td id=\"T_d64d482a_188b_11ec_b231_0242ac1c0002row21_col26\" class=\"data row21 col26\" >0.000021</td>\n",
              "                        <td id=\"T_d64d482a_188b_11ec_b231_0242ac1c0002row21_col27\" class=\"data row21 col27\" >0.000000</td>\n",
              "            </tr>\n",
              "            <tr>\n",
              "                        <th id=\"T_d64d482a_188b_11ec_b231_0242ac1c0002level0_row22\" class=\"row_heading level0 row22\" >22</th>\n",
              "                        <td id=\"T_d64d482a_188b_11ec_b231_0242ac1c0002row22_col0\" class=\"data row22 col0\" >0.000000</td>\n",
              "                        <td id=\"T_d64d482a_188b_11ec_b231_0242ac1c0002row22_col1\" class=\"data row22 col1\" >0.000031</td>\n",
              "                        <td id=\"T_d64d482a_188b_11ec_b231_0242ac1c0002row22_col2\" class=\"data row22 col2\" >0.006081</td>\n",
              "                        <td id=\"T_d64d482a_188b_11ec_b231_0242ac1c0002row22_col3\" class=\"data row22 col3\" >0.027270</td>\n",
              "                        <td id=\"T_d64d482a_188b_11ec_b231_0242ac1c0002row22_col4\" class=\"data row22 col4\" >0.073331</td>\n",
              "                        <td id=\"T_d64d482a_188b_11ec_b231_0242ac1c0002row22_col5\" class=\"data row22 col5\" >0.144039</td>\n",
              "                        <td id=\"T_d64d482a_188b_11ec_b231_0242ac1c0002row22_col6\" class=\"data row22 col6\" >0.251898</td>\n",
              "                        <td id=\"T_d64d482a_188b_11ec_b231_0242ac1c0002row22_col7\" class=\"data row22 col7\" >0.375057</td>\n",
              "                        <td id=\"T_d64d482a_188b_11ec_b231_0242ac1c0002row22_col8\" class=\"data row22 col8\" >0.496198</td>\n",
              "                        <td id=\"T_d64d482a_188b_11ec_b231_0242ac1c0002row22_col9\" class=\"data row22 col9\" >0.594826</td>\n",
              "                        <td id=\"T_d64d482a_188b_11ec_b231_0242ac1c0002row22_col10\" class=\"data row22 col10\" >0.657821</td>\n",
              "                        <td id=\"T_d64d482a_188b_11ec_b231_0242ac1c0002row22_col11\" class=\"data row22 col11\" >0.694927</td>\n",
              "                        <td id=\"T_d64d482a_188b_11ec_b231_0242ac1c0002row22_col12\" class=\"data row22 col12\" >0.716833</td>\n",
              "                        <td id=\"T_d64d482a_188b_11ec_b231_0242ac1c0002row22_col13\" class=\"data row22 col13\" >0.728402</td>\n",
              "                        <td id=\"T_d64d482a_188b_11ec_b231_0242ac1c0002row22_col14\" class=\"data row22 col14\" >0.722383</td>\n",
              "                        <td id=\"T_d64d482a_188b_11ec_b231_0242ac1c0002row22_col15\" class=\"data row22 col15\" >0.682077</td>\n",
              "                        <td id=\"T_d64d482a_188b_11ec_b231_0242ac1c0002row22_col16\" class=\"data row22 col16\" >0.590549</td>\n",
              "                        <td id=\"T_d64d482a_188b_11ec_b231_0242ac1c0002row22_col17\" class=\"data row22 col17\" >0.459457</td>\n",
              "                        <td id=\"T_d64d482a_188b_11ec_b231_0242ac1c0002row22_col18\" class=\"data row22 col18\" >0.314602</td>\n",
              "                        <td id=\"T_d64d482a_188b_11ec_b231_0242ac1c0002row22_col19\" class=\"data row22 col19\" >0.187114</td>\n",
              "                        <td id=\"T_d64d482a_188b_11ec_b231_0242ac1c0002row22_col20\" class=\"data row22 col20\" >0.094876</td>\n",
              "                        <td id=\"T_d64d482a_188b_11ec_b231_0242ac1c0002row22_col21\" class=\"data row22 col21\" >0.037261</td>\n",
              "                        <td id=\"T_d64d482a_188b_11ec_b231_0242ac1c0002row22_col22\" class=\"data row22 col22\" >0.010511</td>\n",
              "                        <td id=\"T_d64d482a_188b_11ec_b231_0242ac1c0002row22_col23\" class=\"data row22 col23\" >0.001649</td>\n",
              "                        <td id=\"T_d64d482a_188b_11ec_b231_0242ac1c0002row22_col24\" class=\"data row22 col24\" >0.000035</td>\n",
              "                        <td id=\"T_d64d482a_188b_11ec_b231_0242ac1c0002row22_col25\" class=\"data row22 col25\" >0.000000</td>\n",
              "                        <td id=\"T_d64d482a_188b_11ec_b231_0242ac1c0002row22_col26\" class=\"data row22 col26\" >0.000003</td>\n",
              "                        <td id=\"T_d64d482a_188b_11ec_b231_0242ac1c0002row22_col27\" class=\"data row22 col27\" >0.000000</td>\n",
              "            </tr>\n",
              "            <tr>\n",
              "                        <th id=\"T_d64d482a_188b_11ec_b231_0242ac1c0002level0_row23\" class=\"row_heading level0 row23\" >23</th>\n",
              "                        <td id=\"T_d64d482a_188b_11ec_b231_0242ac1c0002row23_col0\" class=\"data row23 col0\" >0.000000</td>\n",
              "                        <td id=\"T_d64d482a_188b_11ec_b231_0242ac1c0002row23_col1\" class=\"data row23 col1\" >0.000000</td>\n",
              "                        <td id=\"T_d64d482a_188b_11ec_b231_0242ac1c0002row23_col2\" class=\"data row23 col2\" >0.002352</td>\n",
              "                        <td id=\"T_d64d482a_188b_11ec_b231_0242ac1c0002row23_col3\" class=\"data row23 col3\" >0.012594</td>\n",
              "                        <td id=\"T_d64d482a_188b_11ec_b231_0242ac1c0002row23_col4\" class=\"data row23 col4\" >0.039571</td>\n",
              "                        <td id=\"T_d64d482a_188b_11ec_b231_0242ac1c0002row23_col5\" class=\"data row23 col5\" >0.083350</td>\n",
              "                        <td id=\"T_d64d482a_188b_11ec_b231_0242ac1c0002row23_col6\" class=\"data row23 col6\" >0.156723</td>\n",
              "                        <td id=\"T_d64d482a_188b_11ec_b231_0242ac1c0002row23_col7\" class=\"data row23 col7\" >0.257745</td>\n",
              "                        <td id=\"T_d64d482a_188b_11ec_b231_0242ac1c0002row23_col8\" class=\"data row23 col8\" >0.374099</td>\n",
              "                        <td id=\"T_d64d482a_188b_11ec_b231_0242ac1c0002row23_col9\" class=\"data row23 col9\" >0.487379</td>\n",
              "                        <td id=\"T_d64d482a_188b_11ec_b231_0242ac1c0002row23_col10\" class=\"data row23 col10\" >0.582808</td>\n",
              "                        <td id=\"T_d64d482a_188b_11ec_b231_0242ac1c0002row23_col11\" class=\"data row23 col11\" >0.645139</td>\n",
              "                        <td id=\"T_d64d482a_188b_11ec_b231_0242ac1c0002row23_col12\" class=\"data row23 col12\" >0.663557</td>\n",
              "                        <td id=\"T_d64d482a_188b_11ec_b231_0242ac1c0002row23_col13\" class=\"data row23 col13\" >0.642473</td>\n",
              "                        <td id=\"T_d64d482a_188b_11ec_b231_0242ac1c0002row23_col14\" class=\"data row23 col14\" >0.573640</td>\n",
              "                        <td id=\"T_d64d482a_188b_11ec_b231_0242ac1c0002row23_col15\" class=\"data row23 col15\" >0.473323</td>\n",
              "                        <td id=\"T_d64d482a_188b_11ec_b231_0242ac1c0002row23_col16\" class=\"data row23 col16\" >0.353287</td>\n",
              "                        <td id=\"T_d64d482a_188b_11ec_b231_0242ac1c0002row23_col17\" class=\"data row23 col17\" >0.238563</td>\n",
              "                        <td id=\"T_d64d482a_188b_11ec_b231_0242ac1c0002row23_col18\" class=\"data row23 col18\" >0.144256</td>\n",
              "                        <td id=\"T_d64d482a_188b_11ec_b231_0242ac1c0002row23_col19\" class=\"data row23 col19\" >0.075467</td>\n",
              "                        <td id=\"T_d64d482a_188b_11ec_b231_0242ac1c0002row23_col20\" class=\"data row23 col20\" >0.030740</td>\n",
              "                        <td id=\"T_d64d482a_188b_11ec_b231_0242ac1c0002row23_col21\" class=\"data row23 col21\" >0.009769</td>\n",
              "                        <td id=\"T_d64d482a_188b_11ec_b231_0242ac1c0002row23_col22\" class=\"data row23 col22\" >0.002423</td>\n",
              "                        <td id=\"T_d64d482a_188b_11ec_b231_0242ac1c0002row23_col23\" class=\"data row23 col23\" >0.000367</td>\n",
              "                        <td id=\"T_d64d482a_188b_11ec_b231_0242ac1c0002row23_col24\" class=\"data row23 col24\" >0.000148</td>\n",
              "                        <td id=\"T_d64d482a_188b_11ec_b231_0242ac1c0002row23_col25\" class=\"data row23 col25\" >0.000008</td>\n",
              "                        <td id=\"T_d64d482a_188b_11ec_b231_0242ac1c0002row23_col26\" class=\"data row23 col26\" >0.000052</td>\n",
              "                        <td id=\"T_d64d482a_188b_11ec_b231_0242ac1c0002row23_col27\" class=\"data row23 col27\" >0.000000</td>\n",
              "            </tr>\n",
              "            <tr>\n",
              "                        <th id=\"T_d64d482a_188b_11ec_b231_0242ac1c0002level0_row24\" class=\"row_heading level0 row24\" >24</th>\n",
              "                        <td id=\"T_d64d482a_188b_11ec_b231_0242ac1c0002row24_col0\" class=\"data row24 col0\" >0.000000</td>\n",
              "                        <td id=\"T_d64d482a_188b_11ec_b231_0242ac1c0002row24_col1\" class=\"data row24 col1\" >0.000000</td>\n",
              "                        <td id=\"T_d64d482a_188b_11ec_b231_0242ac1c0002row24_col2\" class=\"data row24 col2\" >0.000541</td>\n",
              "                        <td id=\"T_d64d482a_188b_11ec_b231_0242ac1c0002row24_col3\" class=\"data row24 col3\" >0.003955</td>\n",
              "                        <td id=\"T_d64d482a_188b_11ec_b231_0242ac1c0002row24_col4\" class=\"data row24 col4\" >0.013458</td>\n",
              "                        <td id=\"T_d64d482a_188b_11ec_b231_0242ac1c0002row24_col5\" class=\"data row24 col5\" >0.030013</td>\n",
              "                        <td id=\"T_d64d482a_188b_11ec_b231_0242ac1c0002row24_col6\" class=\"data row24 col6\" >0.058374</td>\n",
              "                        <td id=\"T_d64d482a_188b_11ec_b231_0242ac1c0002row24_col7\" class=\"data row24 col7\" >0.097864</td>\n",
              "                        <td id=\"T_d64d482a_188b_11ec_b231_0242ac1c0002row24_col8\" class=\"data row24 col8\" >0.148175</td>\n",
              "                        <td id=\"T_d64d482a_188b_11ec_b231_0242ac1c0002row24_col9\" class=\"data row24 col9\" >0.204022</td>\n",
              "                        <td id=\"T_d64d482a_188b_11ec_b231_0242ac1c0002row24_col10\" class=\"data row24 col10\" >0.253118</td>\n",
              "                        <td id=\"T_d64d482a_188b_11ec_b231_0242ac1c0002row24_col11\" class=\"data row24 col11\" >0.288026</td>\n",
              "                        <td id=\"T_d64d482a_188b_11ec_b231_0242ac1c0002row24_col12\" class=\"data row24 col12\" >0.293548</td>\n",
              "                        <td id=\"T_d64d482a_188b_11ec_b231_0242ac1c0002row24_col13\" class=\"data row24 col13\" >0.276305</td>\n",
              "                        <td id=\"T_d64d482a_188b_11ec_b231_0242ac1c0002row24_col14\" class=\"data row24 col14\" >0.230394</td>\n",
              "                        <td id=\"T_d64d482a_188b_11ec_b231_0242ac1c0002row24_col15\" class=\"data row24 col15\" >0.173645</td>\n",
              "                        <td id=\"T_d64d482a_188b_11ec_b231_0242ac1c0002row24_col16\" class=\"data row24 col16\" >0.117960</td>\n",
              "                        <td id=\"T_d64d482a_188b_11ec_b231_0242ac1c0002row24_col17\" class=\"data row24 col17\" >0.071760</td>\n",
              "                        <td id=\"T_d64d482a_188b_11ec_b231_0242ac1c0002row24_col18\" class=\"data row24 col18\" >0.036760</td>\n",
              "                        <td id=\"T_d64d482a_188b_11ec_b231_0242ac1c0002row24_col19\" class=\"data row24 col19\" >0.016373</td>\n",
              "                        <td id=\"T_d64d482a_188b_11ec_b231_0242ac1c0002row24_col20\" class=\"data row24 col20\" >0.005754</td>\n",
              "                        <td id=\"T_d64d482a_188b_11ec_b231_0242ac1c0002row24_col21\" class=\"data row24 col21\" >0.002077</td>\n",
              "                        <td id=\"T_d64d482a_188b_11ec_b231_0242ac1c0002row24_col22\" class=\"data row24 col22\" >0.000610</td>\n",
              "                        <td id=\"T_d64d482a_188b_11ec_b231_0242ac1c0002row24_col23\" class=\"data row24 col23\" >0.000122</td>\n",
              "                        <td id=\"T_d64d482a_188b_11ec_b231_0242ac1c0002row24_col24\" class=\"data row24 col24\" >0.000000</td>\n",
              "                        <td id=\"T_d64d482a_188b_11ec_b231_0242ac1c0002row24_col25\" class=\"data row24 col25\" >0.000000</td>\n",
              "                        <td id=\"T_d64d482a_188b_11ec_b231_0242ac1c0002row24_col26\" class=\"data row24 col26\" >0.000000</td>\n",
              "                        <td id=\"T_d64d482a_188b_11ec_b231_0242ac1c0002row24_col27\" class=\"data row24 col27\" >0.000000</td>\n",
              "            </tr>\n",
              "            <tr>\n",
              "                        <th id=\"T_d64d482a_188b_11ec_b231_0242ac1c0002level0_row25\" class=\"row_heading level0 row25\" >25</th>\n",
              "                        <td id=\"T_d64d482a_188b_11ec_b231_0242ac1c0002row25_col0\" class=\"data row25 col0\" >0.000000</td>\n",
              "                        <td id=\"T_d64d482a_188b_11ec_b231_0242ac1c0002row25_col1\" class=\"data row25 col1\" >0.000000</td>\n",
              "                        <td id=\"T_d64d482a_188b_11ec_b231_0242ac1c0002row25_col2\" class=\"data row25 col2\" >0.000037</td>\n",
              "                        <td id=\"T_d64d482a_188b_11ec_b231_0242ac1c0002row25_col3\" class=\"data row25 col3\" >0.000125</td>\n",
              "                        <td id=\"T_d64d482a_188b_11ec_b231_0242ac1c0002row25_col4\" class=\"data row25 col4\" >0.001245</td>\n",
              "                        <td id=\"T_d64d482a_188b_11ec_b231_0242ac1c0002row25_col5\" class=\"data row25 col5\" >0.003040</td>\n",
              "                        <td id=\"T_d64d482a_188b_11ec_b231_0242ac1c0002row25_col6\" class=\"data row25 col6\" >0.006687</td>\n",
              "                        <td id=\"T_d64d482a_188b_11ec_b231_0242ac1c0002row25_col7\" class=\"data row25 col7\" >0.011371</td>\n",
              "                        <td id=\"T_d64d482a_188b_11ec_b231_0242ac1c0002row25_col8\" class=\"data row25 col8\" >0.018533</td>\n",
              "                        <td id=\"T_d64d482a_188b_11ec_b231_0242ac1c0002row25_col9\" class=\"data row25 col9\" >0.025284</td>\n",
              "                        <td id=\"T_d64d482a_188b_11ec_b231_0242ac1c0002row25_col10\" class=\"data row25 col10\" >0.031993</td>\n",
              "                        <td id=\"T_d64d482a_188b_11ec_b231_0242ac1c0002row25_col11\" class=\"data row25 col11\" >0.035295</td>\n",
              "                        <td id=\"T_d64d482a_188b_11ec_b231_0242ac1c0002row25_col12\" class=\"data row25 col12\" >0.036504</td>\n",
              "                        <td id=\"T_d64d482a_188b_11ec_b231_0242ac1c0002row25_col13\" class=\"data row25 col13\" >0.034298</td>\n",
              "                        <td id=\"T_d64d482a_188b_11ec_b231_0242ac1c0002row25_col14\" class=\"data row25 col14\" >0.028593</td>\n",
              "                        <td id=\"T_d64d482a_188b_11ec_b231_0242ac1c0002row25_col15\" class=\"data row25 col15\" >0.021875</td>\n",
              "                        <td id=\"T_d64d482a_188b_11ec_b231_0242ac1c0002row25_col16\" class=\"data row25 col16\" >0.015417</td>\n",
              "                        <td id=\"T_d64d482a_188b_11ec_b231_0242ac1c0002row25_col17\" class=\"data row25 col17\" >0.009175</td>\n",
              "                        <td id=\"T_d64d482a_188b_11ec_b231_0242ac1c0002row25_col18\" class=\"data row25 col18\" >0.005045</td>\n",
              "                        <td id=\"T_d64d482a_188b_11ec_b231_0242ac1c0002row25_col19\" class=\"data row25 col19\" >0.002869</td>\n",
              "                        <td id=\"T_d64d482a_188b_11ec_b231_0242ac1c0002row25_col20\" class=\"data row25 col20\" >0.001143</td>\n",
              "                        <td id=\"T_d64d482a_188b_11ec_b231_0242ac1c0002row25_col21\" class=\"data row25 col21\" >0.000453</td>\n",
              "                        <td id=\"T_d64d482a_188b_11ec_b231_0242ac1c0002row25_col22\" class=\"data row25 col22\" >0.000217</td>\n",
              "                        <td id=\"T_d64d482a_188b_11ec_b231_0242ac1c0002row25_col23\" class=\"data row25 col23\" >0.000000</td>\n",
              "                        <td id=\"T_d64d482a_188b_11ec_b231_0242ac1c0002row25_col24\" class=\"data row25 col24\" >0.000000</td>\n",
              "                        <td id=\"T_d64d482a_188b_11ec_b231_0242ac1c0002row25_col25\" class=\"data row25 col25\" >0.000000</td>\n",
              "                        <td id=\"T_d64d482a_188b_11ec_b231_0242ac1c0002row25_col26\" class=\"data row25 col26\" >0.000000</td>\n",
              "                        <td id=\"T_d64d482a_188b_11ec_b231_0242ac1c0002row25_col27\" class=\"data row25 col27\" >0.000000</td>\n",
              "            </tr>\n",
              "            <tr>\n",
              "                        <th id=\"T_d64d482a_188b_11ec_b231_0242ac1c0002level0_row26\" class=\"row_heading level0 row26\" >26</th>\n",
              "                        <td id=\"T_d64d482a_188b_11ec_b231_0242ac1c0002row26_col0\" class=\"data row26 col0\" >0.000000</td>\n",
              "                        <td id=\"T_d64d482a_188b_11ec_b231_0242ac1c0002row26_col1\" class=\"data row26 col1\" >0.000000</td>\n",
              "                        <td id=\"T_d64d482a_188b_11ec_b231_0242ac1c0002row26_col2\" class=\"data row26 col2\" >0.000000</td>\n",
              "                        <td id=\"T_d64d482a_188b_11ec_b231_0242ac1c0002row26_col3\" class=\"data row26 col3\" >0.000000</td>\n",
              "                        <td id=\"T_d64d482a_188b_11ec_b231_0242ac1c0002row26_col4\" class=\"data row26 col4\" >0.000010</td>\n",
              "                        <td id=\"T_d64d482a_188b_11ec_b231_0242ac1c0002row26_col5\" class=\"data row26 col5\" >0.000081</td>\n",
              "                        <td id=\"T_d64d482a_188b_11ec_b231_0242ac1c0002row26_col6\" class=\"data row26 col6\" >0.000166</td>\n",
              "                        <td id=\"T_d64d482a_188b_11ec_b231_0242ac1c0002row26_col7\" class=\"data row26 col7\" >0.000365</td>\n",
              "                        <td id=\"T_d64d482a_188b_11ec_b231_0242ac1c0002row26_col8\" class=\"data row26 col8\" >0.000400</td>\n",
              "                        <td id=\"T_d64d482a_188b_11ec_b231_0242ac1c0002row26_col9\" class=\"data row26 col9\" >0.000514</td>\n",
              "                        <td id=\"T_d64d482a_188b_11ec_b231_0242ac1c0002row26_col10\" class=\"data row26 col10\" >0.000743</td>\n",
              "                        <td id=\"T_d64d482a_188b_11ec_b231_0242ac1c0002row26_col11\" class=\"data row26 col11\" >0.000955</td>\n",
              "                        <td id=\"T_d64d482a_188b_11ec_b231_0242ac1c0002row26_col12\" class=\"data row26 col12\" >0.001064</td>\n",
              "                        <td id=\"T_d64d482a_188b_11ec_b231_0242ac1c0002row26_col13\" class=\"data row26 col13\" >0.001356</td>\n",
              "                        <td id=\"T_d64d482a_188b_11ec_b231_0242ac1c0002row26_col14\" class=\"data row26 col14\" >0.001048</td>\n",
              "                        <td id=\"T_d64d482a_188b_11ec_b231_0242ac1c0002row26_col15\" class=\"data row26 col15\" >0.000839</td>\n",
              "                        <td id=\"T_d64d482a_188b_11ec_b231_0242ac1c0002row26_col16\" class=\"data row26 col16\" >0.001026</td>\n",
              "                        <td id=\"T_d64d482a_188b_11ec_b231_0242ac1c0002row26_col17\" class=\"data row26 col17\" >0.000955</td>\n",
              "                        <td id=\"T_d64d482a_188b_11ec_b231_0242ac1c0002row26_col18\" class=\"data row26 col18\" >0.000746</td>\n",
              "                        <td id=\"T_d64d482a_188b_11ec_b231_0242ac1c0002row26_col19\" class=\"data row26 col19\" >0.000538</td>\n",
              "                        <td id=\"T_d64d482a_188b_11ec_b231_0242ac1c0002row26_col20\" class=\"data row26 col20\" >0.000365</td>\n",
              "                        <td id=\"T_d64d482a_188b_11ec_b231_0242ac1c0002row26_col21\" class=\"data row26 col21\" >0.000196</td>\n",
              "                        <td id=\"T_d64d482a_188b_11ec_b231_0242ac1c0002row26_col22\" class=\"data row26 col22\" >0.000029</td>\n",
              "                        <td id=\"T_d64d482a_188b_11ec_b231_0242ac1c0002row26_col23\" class=\"data row26 col23\" >0.000000</td>\n",
              "                        <td id=\"T_d64d482a_188b_11ec_b231_0242ac1c0002row26_col24\" class=\"data row26 col24\" >0.000000</td>\n",
              "                        <td id=\"T_d64d482a_188b_11ec_b231_0242ac1c0002row26_col25\" class=\"data row26 col25\" >0.000000</td>\n",
              "                        <td id=\"T_d64d482a_188b_11ec_b231_0242ac1c0002row26_col26\" class=\"data row26 col26\" >0.000000</td>\n",
              "                        <td id=\"T_d64d482a_188b_11ec_b231_0242ac1c0002row26_col27\" class=\"data row26 col27\" >0.000000</td>\n",
              "            </tr>\n",
              "            <tr>\n",
              "                        <th id=\"T_d64d482a_188b_11ec_b231_0242ac1c0002level0_row27\" class=\"row_heading level0 row27\" >27</th>\n",
              "                        <td id=\"T_d64d482a_188b_11ec_b231_0242ac1c0002row27_col0\" class=\"data row27 col0\" >0.000000</td>\n",
              "                        <td id=\"T_d64d482a_188b_11ec_b231_0242ac1c0002row27_col1\" class=\"data row27 col1\" >0.000000</td>\n",
              "                        <td id=\"T_d64d482a_188b_11ec_b231_0242ac1c0002row27_col2\" class=\"data row27 col2\" >0.000000</td>\n",
              "                        <td id=\"T_d64d482a_188b_11ec_b231_0242ac1c0002row27_col3\" class=\"data row27 col3\" >0.000000</td>\n",
              "                        <td id=\"T_d64d482a_188b_11ec_b231_0242ac1c0002row27_col4\" class=\"data row27 col4\" >0.000000</td>\n",
              "                        <td id=\"T_d64d482a_188b_11ec_b231_0242ac1c0002row27_col5\" class=\"data row27 col5\" >0.000000</td>\n",
              "                        <td id=\"T_d64d482a_188b_11ec_b231_0242ac1c0002row27_col6\" class=\"data row27 col6\" >0.000000</td>\n",
              "                        <td id=\"T_d64d482a_188b_11ec_b231_0242ac1c0002row27_col7\" class=\"data row27 col7\" >0.000000</td>\n",
              "                        <td id=\"T_d64d482a_188b_11ec_b231_0242ac1c0002row27_col8\" class=\"data row27 col8\" >0.000000</td>\n",
              "                        <td id=\"T_d64d482a_188b_11ec_b231_0242ac1c0002row27_col9\" class=\"data row27 col9\" >0.000000</td>\n",
              "                        <td id=\"T_d64d482a_188b_11ec_b231_0242ac1c0002row27_col10\" class=\"data row27 col10\" >0.000000</td>\n",
              "                        <td id=\"T_d64d482a_188b_11ec_b231_0242ac1c0002row27_col11\" class=\"data row27 col11\" >0.000000</td>\n",
              "                        <td id=\"T_d64d482a_188b_11ec_b231_0242ac1c0002row27_col12\" class=\"data row27 col12\" >0.000000</td>\n",
              "                        <td id=\"T_d64d482a_188b_11ec_b231_0242ac1c0002row27_col13\" class=\"data row27 col13\" >0.000000</td>\n",
              "                        <td id=\"T_d64d482a_188b_11ec_b231_0242ac1c0002row27_col14\" class=\"data row27 col14\" >0.000000</td>\n",
              "                        <td id=\"T_d64d482a_188b_11ec_b231_0242ac1c0002row27_col15\" class=\"data row27 col15\" >0.000000</td>\n",
              "                        <td id=\"T_d64d482a_188b_11ec_b231_0242ac1c0002row27_col16\" class=\"data row27 col16\" >0.000000</td>\n",
              "                        <td id=\"T_d64d482a_188b_11ec_b231_0242ac1c0002row27_col17\" class=\"data row27 col17\" >0.000000</td>\n",
              "                        <td id=\"T_d64d482a_188b_11ec_b231_0242ac1c0002row27_col18\" class=\"data row27 col18\" >0.000000</td>\n",
              "                        <td id=\"T_d64d482a_188b_11ec_b231_0242ac1c0002row27_col19\" class=\"data row27 col19\" >0.000000</td>\n",
              "                        <td id=\"T_d64d482a_188b_11ec_b231_0242ac1c0002row27_col20\" class=\"data row27 col20\" >0.000000</td>\n",
              "                        <td id=\"T_d64d482a_188b_11ec_b231_0242ac1c0002row27_col21\" class=\"data row27 col21\" >0.000000</td>\n",
              "                        <td id=\"T_d64d482a_188b_11ec_b231_0242ac1c0002row27_col22\" class=\"data row27 col22\" >0.000000</td>\n",
              "                        <td id=\"T_d64d482a_188b_11ec_b231_0242ac1c0002row27_col23\" class=\"data row27 col23\" >0.000000</td>\n",
              "                        <td id=\"T_d64d482a_188b_11ec_b231_0242ac1c0002row27_col24\" class=\"data row27 col24\" >0.000000</td>\n",
              "                        <td id=\"T_d64d482a_188b_11ec_b231_0242ac1c0002row27_col25\" class=\"data row27 col25\" >0.000000</td>\n",
              "                        <td id=\"T_d64d482a_188b_11ec_b231_0242ac1c0002row27_col26\" class=\"data row27 col26\" >0.000000</td>\n",
              "                        <td id=\"T_d64d482a_188b_11ec_b231_0242ac1c0002row27_col27\" class=\"data row27 col27\" >0.000000</td>\n",
              "            </tr>\n",
              "    </tbody></table>"
            ],
            "text/plain": [
              "<pandas.io.formats.style.Styler at 0x7f03f65dc6d0>"
            ]
          },
          "metadata": {},
          "execution_count": 49
        }
      ]
    },
    {
      "cell_type": "code",
      "metadata": {
        "colab": {
          "base_uri": "https://localhost:8080/",
          "height": 102
        },
        "id": "6lwTPh-bSRl2",
        "outputId": "20795cae-0498-4403-b565-f1ecc973a93c"
      },
      "source": [
        "mean7 = stacked_sevens.mean(0)\n",
        "show_image(mean7)"
      ],
      "execution_count": 50,
      "outputs": [
        {
          "output_type": "execute_result",
          "data": {
            "text/plain": [
              "<matplotlib.axes._subplots.AxesSubplot at 0x7f03f6435750>"
            ]
          },
          "metadata": {},
          "execution_count": 50
        },
        {
          "output_type": "display_data",
          "data": {
            "image/png": "[encoded data removed]",
            "text/plain": [
              "<Figure size 72x72 with 1 Axes>"
            ]
          },
          "metadata": {
            "needs_background": "light"
          }
        }
      ]
    },
    {
      "cell_type": "code",
      "metadata": {
        "colab": {
          "base_uri": "https://localhost:8080/",
          "height": 102
        },
        "id": "fkUP37fuSvPJ",
        "outputId": "ca4f72ca-2b9c-4f94-dd43-6da6c7e8d261"
      },
      "source": [
        "a_3 = stacked_threes[0] # 일부러 책과 다른 0번 숫자로 진행\n",
        "show_image(a_3)"
      ],
      "execution_count": 51,
      "outputs": [
        {
          "output_type": "execute_result",
          "data": {
            "text/plain": [
              "<matplotlib.axes._subplots.AxesSubplot at 0x7f03f63ea990>"
            ]
          },
          "metadata": {},
          "execution_count": 51
        },
        {
          "output_type": "display_data",
          "data": {
            "image/png": "[encoded data removed]",
            "text/plain": [
              "<Figure size 72x72 with 1 Axes>"
            ]
          },
          "metadata": {
            "needs_background": "light"
          }
        }
      ]
    },
    {
      "cell_type": "code",
      "metadata": {
        "id": "0VsqHLmcS5NN"
      },
      "source": [
        "dist_3_abs = (a_3 - mean3).abs().mean()"
      ],
      "execution_count": 52,
      "outputs": []
    },
    {
      "cell_type": "code",
      "metadata": {
        "colab": {
          "base_uri": "https://localhost:8080/"
        },
        "id": "SwMrgoBCS-_J",
        "outputId": "058cab0f-9de7-47ba-9e18-5bad9f2d4db5"
      },
      "source": [
        "dist_3_abs"
      ],
      "execution_count": 53,
      "outputs": [
        {
          "output_type": "execute_result",
          "data": {
            "text/plain": [
              "tensor(0.1074)"
            ]
          },
          "metadata": {},
          "execution_count": 53
        }
      ]
    },
    {
      "cell_type": "code",
      "metadata": {
        "id": "yxdbIDnMTAJh"
      },
      "source": [
        "dist_3_sqr = ((a_3 - mean3)**2).mean().sqrt()"
      ],
      "execution_count": 54,
      "outputs": []
    },
    {
      "cell_type": "code",
      "metadata": {
        "colab": {
          "base_uri": "https://localhost:8080/"
        },
        "id": "yXz0WTH2TIE4",
        "outputId": "e572f0c7-3b58-4479-8445-5376f0b3f1e6"
      },
      "source": [
        "dist_3_sqr"
      ],
      "execution_count": 55,
      "outputs": [
        {
          "output_type": "execute_result",
          "data": {
            "text/plain": [
              "tensor(0.1912)"
            ]
          },
          "metadata": {},
          "execution_count": 55
        }
      ]
    },
    {
      "cell_type": "code",
      "metadata": {
        "colab": {
          "base_uri": "https://localhost:8080/"
        },
        "id": "bj-j0URMTJmX",
        "outputId": "b9cc2cce-5f5a-4e60-a49b-b26c1fb2b64d"
      },
      "source": [
        "dist_7_abs = (a_3 - mean7).abs().mean()\n",
        "dist_7_sqr = ((a_3 - mean7)**2).mean().sqrt()\n",
        "dist_7_abs, dist_7_sqr"
      ],
      "execution_count": 56,
      "outputs": [
        {
          "output_type": "execute_result",
          "data": {
            "text/plain": [
              "(tensor(0.1441), tensor(0.2780))"
            ]
          },
          "metadata": {},
          "execution_count": 56
        }
      ]
    },
    {
      "cell_type": "code",
      "metadata": {
        "colab": {
          "base_uri": "https://localhost:8080/"
        },
        "id": "HVI60_7xTa7a",
        "outputId": "3adf4322-ab02-4d31-c2a9-d9e5a17675af"
      },
      "source": [
        "if dist_3_sqr < dist_7_sqr : \n",
        "  print('3')\n",
        "else : \n",
        "  print('7')"
      ],
      "execution_count": 58,
      "outputs": [
        {
          "output_type": "stream",
          "name": "stdout",
          "text": [
            "3\n"
          ]
        }
      ]
    },
    {
      "cell_type": "code",
      "metadata": {
        "colab": {
          "base_uri": "https://localhost:8080/"
        },
        "id": "BoaTZLbwTj3F",
        "outputId": "ae2661bb-bbe8-4674-96ee-30ad7bc3ba42"
      },
      "source": [
        "F.l1_loss(a_3, mean7), F.mse_loss(a_3, mean7).sqrt() # .float()를 안써봄"
      ],
      "execution_count": 61,
      "outputs": [
        {
          "output_type": "execute_result",
          "data": {
            "text/plain": [
              "(tensor(0.1441), tensor(0.2780))"
            ]
          },
          "metadata": {},
          "execution_count": 61
        }
      ]
    },
    {
      "cell_type": "code",
      "metadata": {
        "id": "ALkMwMmtT1-L"
      },
      "source": [
        "# 넘파이!"
      ],
      "execution_count": 62,
      "outputs": []
    },
    {
      "cell_type": "code",
      "metadata": {
        "id": "Agvqz7ZlUXaS"
      },
      "source": [
        "data = [[1,2,3],[4,5,6]]\n",
        "arr = array(data) # 넘파이 어레이\n",
        "tns = tensor(data) # 파이토치 텐서"
      ],
      "execution_count": 63,
      "outputs": []
    },
    {
      "cell_type": "code",
      "metadata": {
        "colab": {
          "base_uri": "https://localhost:8080/"
        },
        "id": "Sja6hp8uUgX3",
        "outputId": "b5c6a204-d11d-4e89-f3ab-f5cc9115bf3a"
      },
      "source": [
        "arr"
      ],
      "execution_count": 64,
      "outputs": [
        {
          "output_type": "execute_result",
          "data": {
            "text/plain": [
              "array([[1, 2, 3],\n",
              "       [4, 5, 6]])"
            ]
          },
          "metadata": {},
          "execution_count": 64
        }
      ]
    },
    {
      "cell_type": "code",
      "metadata": {
        "colab": {
          "base_uri": "https://localhost:8080/"
        },
        "id": "fwcVS1scUgk1",
        "outputId": "a6d6a82c-08fd-435d-f131-fa42af95b8d7"
      },
      "source": [
        "tns"
      ],
      "execution_count": 65,
      "outputs": [
        {
          "output_type": "execute_result",
          "data": {
            "text/plain": [
              "tensor([[1, 2, 3],\n",
              "        [4, 5, 6]])"
            ]
          },
          "metadata": {},
          "execution_count": 65
        }
      ]
    },
    {
      "cell_type": "code",
      "metadata": {
        "colab": {
          "base_uri": "https://localhost:8080/"
        },
        "id": "NvLS82lCUhBu",
        "outputId": "3139efb6-e727-462e-a40c-cff4620e201c"
      },
      "source": [
        "tns[1] # 2차원 데이터일 경우 1행을 선택 / 1차원 데이터인 경우? 1번 값을 선택"
      ],
      "execution_count": 66,
      "outputs": [
        {
          "output_type": "execute_result",
          "data": {
            "text/plain": [
              "tensor([4, 5, 6])"
            ]
          },
          "metadata": {},
          "execution_count": 66
        }
      ]
    },
    {
      "cell_type": "code",
      "metadata": {
        "colab": {
          "base_uri": "https://localhost:8080/"
        },
        "id": "GB7XH2Z5UsC4",
        "outputId": "0ceba087-f38a-4692-c4b6-6d5c714a9c08"
      },
      "source": [
        "tns[:, 1] # 2차원 데이터일 경우 전체 행과 그에 대한 1열을 선택"
      ],
      "execution_count": 67,
      "outputs": [
        {
          "output_type": "execute_result",
          "data": {
            "text/plain": [
              "tensor([2, 5])"
            ]
          },
          "metadata": {},
          "execution_count": 67
        }
      ]
    },
    {
      "cell_type": "code",
      "metadata": {
        "colab": {
          "base_uri": "https://localhost:8080/"
        },
        "id": "9EOYzYbTUw8S",
        "outputId": "2953765a-6940-49cc-be83-883266e30598"
      },
      "source": [
        "tns[1, 1:3] # 1행의 1:3 열(3열 전까지, 즉 1~2열)"
      ],
      "execution_count": 68,
      "outputs": [
        {
          "output_type": "execute_result",
          "data": {
            "text/plain": [
              "tensor([5, 6])"
            ]
          },
          "metadata": {},
          "execution_count": 68
        }
      ]
    },
    {
      "cell_type": "code",
      "metadata": {
        "colab": {
          "base_uri": "https://localhost:8080/"
        },
        "id": "HHdGXe49VDuf",
        "outputId": "898b3468-e26a-4be8-e870-8aef659ce21d"
      },
      "source": [
        "tns + 1"
      ],
      "execution_count": 69,
      "outputs": [
        {
          "output_type": "execute_result",
          "data": {
            "text/plain": [
              "tensor([[2, 3, 4],\n",
              "        [5, 6, 7]])"
            ]
          },
          "metadata": {},
          "execution_count": 69
        }
      ]
    },
    {
      "cell_type": "code",
      "metadata": {
        "colab": {
          "base_uri": "https://localhost:8080/",
          "height": 35
        },
        "id": "jva3rSX0VIeY",
        "outputId": "aae187b5-42e8-445e-d6ad-ea5ef25fdcde"
      },
      "source": [
        "tns.type()"
      ],
      "execution_count": 70,
      "outputs": [
        {
          "output_type": "execute_result",
          "data": {
            "application/vnd.google.colaboratory.intrinsic+json": {
              "type": "string"
            },
            "text/plain": [
              "'torch.LongTensor'"
            ]
          },
          "metadata": {},
          "execution_count": 70
        }
      ]
    },
    {
      "cell_type": "code",
      "metadata": {
        "colab": {
          "base_uri": "https://localhost:8080/"
        },
        "id": "mhvBwD1vVK0M",
        "outputId": "2be33549-e7af-46c5-898e-e1d96b5348a7"
      },
      "source": [
        "tns * 1.5"
      ],
      "execution_count": 71,
      "outputs": [
        {
          "output_type": "execute_result",
          "data": {
            "text/plain": [
              "tensor([[1.5000, 3.0000, 4.5000],\n",
              "        [6.0000, 7.5000, 9.0000]])"
            ]
          },
          "metadata": {},
          "execution_count": 71
        }
      ]
    },
    {
      "cell_type": "code",
      "metadata": {
        "colab": {
          "base_uri": "https://localhost:8080/",
          "height": 35
        },
        "id": "uGUaGerQVM42",
        "outputId": "92bf6c7a-6a1d-4b27-828d-37bd48cef030"
      },
      "source": [
        "(tns*1.5).type()"
      ],
      "execution_count": 72,
      "outputs": [
        {
          "output_type": "execute_result",
          "data": {
            "application/vnd.google.colaboratory.intrinsic+json": {
              "type": "string"
            },
            "text/plain": [
              "'torch.FloatTensor'"
            ]
          },
          "metadata": {},
          "execution_count": 72
        }
      ]
    },
    {
      "cell_type": "code",
      "metadata": {
        "id": "De5Dj3arVPMZ"
      },
      "source": [
        "valid_3_tens = torch.stack([tensor(Image.open(o)) for o in (path/'valid'/'3').ls()])\n",
        "valid_7_tens = torch.stack([tensor(Image.open(o)) for o in (path/'valid'/'7').ls()])"
      ],
      "execution_count": 73,
      "outputs": []
    },
    {
      "cell_type": "code",
      "metadata": {
        "id": "7GLR7rzlVfw-"
      },
      "source": [
        "valid_3_tens = valid_3_tens / 255\n",
        "valid_7_tens = valid_7_tens / 255"
      ],
      "execution_count": 74,
      "outputs": []
    },
    {
      "cell_type": "code",
      "metadata": {
        "colab": {
          "base_uri": "https://localhost:8080/"
        },
        "id": "iBs-5_NMVnFW",
        "outputId": "c6857ebb-352e-4d12-f55b-f21545197970"
      },
      "source": [
        "valid_3_tens.shape, valid_7_tens.shape"
      ],
      "execution_count": 75,
      "outputs": [
        {
          "output_type": "execute_result",
          "data": {
            "text/plain": [
              "(torch.Size([1010, 28, 28]), torch.Size([1028, 28, 28]))"
            ]
          },
          "metadata": {},
          "execution_count": 75
        }
      ]
    },
    {
      "cell_type": "code",
      "metadata": {
        "id": "p15VGadYX7R_"
      },
      "source": [
        "def mnist_distance(a, b) : \n",
        "  return (a-b).abs().mean(axis=(0,1)) # 0, 1이라고 해도 될 것 같았음"
      ],
      "execution_count": 107,
      "outputs": []
    },
    {
      "cell_type": "code",
      "metadata": {
        "colab": {
          "base_uri": "https://localhost:8080/"
        },
        "id": "NWC4vE7lX7Ve",
        "outputId": "f6b23828-4c7b-426a-ce66-9bc68fb78006"
      },
      "source": [
        "mnist_distance(a_3, mean3) # 거리는 잘 나옴"
      ],
      "execution_count": 108,
      "outputs": [
        {
          "output_type": "execute_result",
          "data": {
            "text/plain": [
              "tensor(0.1074)"
            ]
          },
          "metadata": {},
          "execution_count": 108
        }
      ]
    },
    {
      "cell_type": "code",
      "metadata": {
        "colab": {
          "base_uri": "https://localhost:8080/"
        },
        "id": "PXi9YBUIX7YP",
        "outputId": "32689a96-f1ad-484c-db17-858b73314378"
      },
      "source": [
        "valid_3_dist = mnist_distance(valid_3_tens, mean3)\n",
        "valid_3_dist, valid_3_dist.shape"
      ],
      "execution_count": 109,
      "outputs": [
        {
          "output_type": "execute_result",
          "data": {
            "text/plain": [
              "(tensor([0.0000e+00, 1.0270e-04, 3.4052e-03, 1.8607e-02, 4.4017e-02, 7.3867e-02, 1.0617e-01, 1.4076e-01, 1.7593e-01, 2.0704e-01, 2.2726e-01, 2.3498e-01, 2.3601e-01, 2.3658e-01, 2.4428e-01, 2.5518e-01,\n",
              "         2.6811e-01, 2.7694e-01, 2.7036e-01, 2.4480e-01, 1.8714e-01, 1.1410e-01, 5.0484e-02, 1.2651e-02, 1.0908e-03, 1.9806e-05, 1.0074e-05, 0.0000e+00]),\n",
              " torch.Size([28]))"
            ]
          },
          "metadata": {},
          "execution_count": 109
        }
      ]
    },
    {
      "cell_type": "code",
      "metadata": {
        "id": "wQP8fASVVsHZ"
      },
      "source": [
        "def mnist_distance(a, b) : \n",
        "  return (a-b).abs().mean(axis=(-1,-2)) # 0, 1이라고 하면 왜 밑에서 다른 결과가 나올까?(텐서 shape이 [28]이 나옴)\n",
        "                                        # 아하, 2차원 데이터면 뒤에 두 개가 0, 1인데 3차원일 경우엔 1,2가 되니까!!!"
      ],
      "execution_count": 110,
      "outputs": []
    },
    {
      "cell_type": "code",
      "metadata": {
        "colab": {
          "base_uri": "https://localhost:8080/"
        },
        "id": "01JhxsQjV-fD",
        "outputId": "81d73545-7224-4b26-b96b-6e01c6c6d9f3"
      },
      "source": [
        "mnist_distance(a_3, mean3)"
      ],
      "execution_count": 111,
      "outputs": [
        {
          "output_type": "execute_result",
          "data": {
            "text/plain": [
              "tensor(0.1074)"
            ]
          },
          "metadata": {},
          "execution_count": 111
        }
      ]
    },
    {
      "cell_type": "code",
      "metadata": {
        "colab": {
          "base_uri": "https://localhost:8080/"
        },
        "id": "FnYp7invW1VV",
        "outputId": "a105bf6b-a284-43ab-d7c8-1fd025640b0b"
      },
      "source": [
        "valid_3_dist = mnist_distance(valid_3_tens, mean3)\n",
        "valid_3_dist, valid_3_dist.shape"
      ],
      "execution_count": 112,
      "outputs": [
        {
          "output_type": "execute_result",
          "data": {
            "text/plain": [
              "(tensor([0.1193, 0.1223, 0.1197,  ..., 0.1388, 0.1277, 0.1316]),\n",
              " torch.Size([1010]))"
            ]
          },
          "metadata": {},
          "execution_count": 112
        }
      ]
    },
    {
      "cell_type": "code",
      "metadata": {
        "id": "E5Hx1U7ZXQ8X"
      },
      "source": [
        ""
      ],
      "execution_count": null,
      "outputs": []
    }
  ]
}